{
 "cells": [
  {
   "cell_type": "markdown",
   "metadata": {},
   "source": [
    "# Unit 5 - Financial Planning"
   ]
  },
  {
   "cell_type": "code",
   "execution_count": 101,
   "metadata": {
    "tags": []
   },
   "outputs": [],
   "source": [
    "# Initial imports\n",
    "import os\n",
    "import requests\n",
    "import pandas as pd\n",
    "from dotenv import load_dotenv\n",
    "import alpaca_trade_api as tradeapi\n",
    "from MCForecastTools import MCSimulation\n",
    "\n",
    "%matplotlib inline"
   ]
  },
  {
   "cell_type": "code",
   "execution_count": 102,
   "metadata": {
    "tags": []
   },
   "outputs": [
    {
     "data": {
      "text/plain": [
       "True"
      ]
     },
     "execution_count": 102,
     "metadata": {},
     "output_type": "execute_result"
    }
   ],
   "source": [
    "# Load .env enviroment variables\n",
    "load_dotenv()"
   ]
  },
  {
   "cell_type": "markdown",
   "metadata": {},
   "source": [
    "## Part 1 - Personal Finance Planner"
   ]
  },
  {
   "cell_type": "markdown",
   "metadata": {},
   "source": [
    "### Collect Crypto Prices Using the `requests` Library"
   ]
  },
  {
   "cell_type": "code",
   "execution_count": 103,
   "metadata": {
    "tags": []
   },
   "outputs": [],
   "source": [
    "# Set current amount of crypto assets\n",
    "my_btc = 1.2\n",
    "my_eth = 5.3"
   ]
  },
  {
   "cell_type": "code",
   "execution_count": 104,
   "metadata": {
    "tags": []
   },
   "outputs": [],
   "source": [
    "# Crypto API URLs\n",
    "btc_url = 'https://api.alternative.me/v2/ticker/Bitcoin/?convert=USD'\n",
    "eth_url = 'https://api.alternative.me/v2/ticker/Ethereum/?convert=USD'"
   ]
  },
  {
   "cell_type": "code",
   "execution_count": 105,
   "metadata": {
    "tags": []
   },
   "outputs": [
    {
     "name": "stdout",
     "output_type": "stream",
     "text": [
      "The current value of your 1.2 BTC is $40802.40\n",
      "The current value of your 5.3 ETH is $9494.31\n"
     ]
    }
   ],
   "source": [
    "# Fetch current BTC price\n",
    "btc_response = requests.get(btc_url).json()\n",
    "btc_price = btc_response['data']['1']['quotes']['USD']['price']\n",
    "\n",
    "# Fetch current ETH price\n",
    "eth_response = requests.get(eth_url).json()\n",
    "eth_price = eth_response['data']['1027']['quotes']['USD']['price']\n",
    "\n",
    "# Compute current value of my crpto\n",
    "my_btc_value = my_btc * btc_price\n",
    "my_eth_value = my_eth * eth_price\n",
    "\n",
    "# Print current crypto wallet balance\n",
    "print(f\"The current value of your {my_btc} BTC is ${my_btc_value:0.2f}\")\n",
    "print(f\"The current value of your {my_eth} ETH is ${my_eth_value:0.2f}\")"
   ]
  },
  {
   "cell_type": "markdown",
   "metadata": {},
   "source": [
    "### Collect Investments Data Using Alpaca: `SPY` (stocks) and `AGG` (bonds)"
   ]
  },
  {
   "cell_type": "code",
   "execution_count": 106,
   "metadata": {
    "tags": []
   },
   "outputs": [],
   "source": [
    "# Set current amount of shares\n",
    "my_agg = 200\n",
    "my_spy = 50"
   ]
  },
  {
   "cell_type": "code",
   "execution_count": 107,
   "metadata": {
    "tags": []
   },
   "outputs": [],
   "source": [
    "# Set Alpaca API key and secret\n",
    "alpaca_api_key = 'PK6KNZFOKLYJ9RYOUBRX'\n",
    "alpaca_secret_key = 'WnKI6E6QT2ztiU4Z8eHyin9vKdcMMS15WqybZam2'                        \n",
    "\n",
    "# Create the Alpaca API object\n",
    "alpaca = tradeapi.REST(\n",
    "    alpaca_api_key,\n",
    "    alpaca_secret_key,\n",
    "    api_version='v2')"
   ]
  },
  {
   "cell_type": "code",
   "execution_count": 108,
   "metadata": {
    "tags": []
   },
   "outputs": [
    {
     "data": {
      "text/html": [
       "<div>\n",
       "<style scoped>\n",
       "    .dataframe tbody tr th:only-of-type {\n",
       "        vertical-align: middle;\n",
       "    }\n",
       "\n",
       "    .dataframe tbody tr th {\n",
       "        vertical-align: top;\n",
       "    }\n",
       "\n",
       "    .dataframe thead tr th {\n",
       "        text-align: left;\n",
       "    }\n",
       "\n",
       "    .dataframe thead tr:last-of-type th {\n",
       "        text-align: right;\n",
       "    }\n",
       "</style>\n",
       "<table border=\"1\" class=\"dataframe\">\n",
       "  <thead>\n",
       "    <tr>\n",
       "      <th></th>\n",
       "      <th colspan=\"7\" halign=\"left\">AGG</th>\n",
       "      <th colspan=\"7\" halign=\"left\">SPY</th>\n",
       "    </tr>\n",
       "    <tr>\n",
       "      <th></th>\n",
       "      <th>close</th>\n",
       "      <th>high</th>\n",
       "      <th>low</th>\n",
       "      <th>trade_count</th>\n",
       "      <th>open</th>\n",
       "      <th>volume</th>\n",
       "      <th>vwap</th>\n",
       "      <th>close</th>\n",
       "      <th>high</th>\n",
       "      <th>low</th>\n",
       "      <th>trade_count</th>\n",
       "      <th>open</th>\n",
       "      <th>volume</th>\n",
       "      <th>vwap</th>\n",
       "    </tr>\n",
       "    <tr>\n",
       "      <th>timestamp</th>\n",
       "      <th></th>\n",
       "      <th></th>\n",
       "      <th></th>\n",
       "      <th></th>\n",
       "      <th></th>\n",
       "      <th></th>\n",
       "      <th></th>\n",
       "      <th></th>\n",
       "      <th></th>\n",
       "      <th></th>\n",
       "      <th></th>\n",
       "      <th></th>\n",
       "      <th></th>\n",
       "      <th></th>\n",
       "    </tr>\n",
       "  </thead>\n",
       "  <tbody>\n",
       "    <tr>\n",
       "      <th>2020-05-01 04:00:00+00:00</th>\n",
       "      <td>116.87</td>\n",
       "      <td>117.0998</td>\n",
       "      <td>116.6775</td>\n",
       "      <td>24394</td>\n",
       "      <td>116.97</td>\n",
       "      <td>6331654</td>\n",
       "      <td>116.846992</td>\n",
       "      <td>282.83</td>\n",
       "      <td>290.6572</td>\n",
       "      <td>281.5200</td>\n",
       "      <td>639155</td>\n",
       "      <td>285.31</td>\n",
       "      <td>127002350</td>\n",
       "      <td>284.074074</td>\n",
       "    </tr>\n",
       "    <tr>\n",
       "      <th>2020-05-04 04:00:00+00:00</th>\n",
       "      <td>116.97</td>\n",
       "      <td>117.0900</td>\n",
       "      <td>116.8700</td>\n",
       "      <td>15546</td>\n",
       "      <td>116.89</td>\n",
       "      <td>3803239</td>\n",
       "      <td>116.960894</td>\n",
       "      <td>283.59</td>\n",
       "      <td>283.9000</td>\n",
       "      <td>279.1300</td>\n",
       "      <td>460683</td>\n",
       "      <td>280.74</td>\n",
       "      <td>81813464</td>\n",
       "      <td>281.785875</td>\n",
       "    </tr>\n",
       "    <tr>\n",
       "      <th>2020-05-05 04:00:00+00:00</th>\n",
       "      <td>116.88</td>\n",
       "      <td>116.9700</td>\n",
       "      <td>116.8100</td>\n",
       "      <td>15147</td>\n",
       "      <td>116.96</td>\n",
       "      <td>5593693</td>\n",
       "      <td>116.879703</td>\n",
       "      <td>286.15</td>\n",
       "      <td>289.2500</td>\n",
       "      <td>283.7134</td>\n",
       "      <td>459766</td>\n",
       "      <td>286.64</td>\n",
       "      <td>80363726</td>\n",
       "      <td>287.388247</td>\n",
       "    </tr>\n",
       "    <tr>\n",
       "      <th>2020-05-06 04:00:00+00:00</th>\n",
       "      <td>116.41</td>\n",
       "      <td>116.7100</td>\n",
       "      <td>116.3000</td>\n",
       "      <td>20234</td>\n",
       "      <td>116.44</td>\n",
       "      <td>7832788</td>\n",
       "      <td>116.423669</td>\n",
       "      <td>284.34</td>\n",
       "      <td>288.4600</td>\n",
       "      <td>283.7800</td>\n",
       "      <td>436221</td>\n",
       "      <td>288.04</td>\n",
       "      <td>74268760</td>\n",
       "      <td>286.080459</td>\n",
       "    </tr>\n",
       "    <tr>\n",
       "      <th>2020-05-07 04:00:00+00:00</th>\n",
       "      <td>116.77</td>\n",
       "      <td>116.7700</td>\n",
       "      <td>116.4200</td>\n",
       "      <td>15964</td>\n",
       "      <td>116.61</td>\n",
       "      <td>3914327</td>\n",
       "      <td>116.646007</td>\n",
       "      <td>287.70</td>\n",
       "      <td>289.7800</td>\n",
       "      <td>287.1300</td>\n",
       "      <td>422689</td>\n",
       "      <td>287.75</td>\n",
       "      <td>75995625</td>\n",
       "      <td>287.986917</td>\n",
       "    </tr>\n",
       "  </tbody>\n",
       "</table>\n",
       "</div>"
      ],
      "text/plain": [
       "                              AGG                                          \\\n",
       "                            close      high       low trade_count    open   \n",
       "timestamp                                                                   \n",
       "2020-05-01 04:00:00+00:00  116.87  117.0998  116.6775       24394  116.97   \n",
       "2020-05-04 04:00:00+00:00  116.97  117.0900  116.8700       15546  116.89   \n",
       "2020-05-05 04:00:00+00:00  116.88  116.9700  116.8100       15147  116.96   \n",
       "2020-05-06 04:00:00+00:00  116.41  116.7100  116.3000       20234  116.44   \n",
       "2020-05-07 04:00:00+00:00  116.77  116.7700  116.4200       15964  116.61   \n",
       "\n",
       "                                                   SPY                      \\\n",
       "                            volume        vwap   close      high       low   \n",
       "timestamp                                                                    \n",
       "2020-05-01 04:00:00+00:00  6331654  116.846992  282.83  290.6572  281.5200   \n",
       "2020-05-04 04:00:00+00:00  3803239  116.960894  283.59  283.9000  279.1300   \n",
       "2020-05-05 04:00:00+00:00  5593693  116.879703  286.15  289.2500  283.7134   \n",
       "2020-05-06 04:00:00+00:00  7832788  116.423669  284.34  288.4600  283.7800   \n",
       "2020-05-07 04:00:00+00:00  3914327  116.646007  287.70  289.7800  287.1300   \n",
       "\n",
       "                                                                      \n",
       "                          trade_count    open     volume        vwap  \n",
       "timestamp                                                             \n",
       "2020-05-01 04:00:00+00:00      639155  285.31  127002350  284.074074  \n",
       "2020-05-04 04:00:00+00:00      460683  280.74   81813464  281.785875  \n",
       "2020-05-05 04:00:00+00:00      459766  286.64   80363726  287.388247  \n",
       "2020-05-06 04:00:00+00:00      436221  288.04   74268760  286.080459  \n",
       "2020-05-07 04:00:00+00:00      422689  287.75   75995625  287.986917  "
      ]
     },
     "execution_count": 108,
     "metadata": {},
     "output_type": "execute_result"
    }
   ],
   "source": [
    "# Format current date as ISO format\n",
    "today = pd.Timestamp('2020-05-01', tz='America/New_York').isoformat()\n",
    "\n",
    "# Set the tickers\n",
    "tickers = ['AGG', 'SPY']\n",
    "\n",
    "# Set timeframe to \"1Day\" for Alpaca API\n",
    "timeframe = \"1Day\"\n",
    "\n",
    "# Get current closing prices for SPY and AGG\n",
    "df_investments = alpaca.get_bars(\n",
    "    tickers,\n",
    "    timeframe,\n",
    "    start = today\n",
    ").df\n",
    "\n",
    "# Reorganize the DataFrame\n",
    "# Separate ticker data\n",
    "AGG = df_investments[df_investments['symbol']=='AGG'].drop('symbol', axis=1)\n",
    "SPY = df_investments[df_investments['symbol']=='SPY'].drop('symbol', axis=1)\n",
    "\n",
    "# Concatenate the ticker DataFrames\n",
    "df_investments = pd.concat([AGG, SPY],axis=1, keys=['AGG','SPY'])\n",
    "\n",
    "# Preview DataFrame\n",
    "df_investments.head()"
   ]
  },
  {
   "cell_type": "code",
   "execution_count": 109,
   "metadata": {
    "tags": []
   },
   "outputs": [
    {
     "name": "stdout",
     "output_type": "stream",
     "text": [
      "Current AGG closing price: $116.87\n",
      "Current SPY closing price: $282.83\n"
     ]
    }
   ],
   "source": [
    "# Pick AGG and SPY close prices\n",
    "agg_close_price = float(df_investments['AGG']['close'][0])\n",
    "spy_close_price = float(df_investments['SPY']['close'][0])\n",
    "\n",
    "# Print AGG and SPY close prices\n",
    "print(f\"Current AGG closing price: ${agg_close_price}\")\n",
    "print(f\"Current SPY closing price: ${spy_close_price}\")"
   ]
  },
  {
   "cell_type": "code",
   "execution_count": 110,
   "metadata": {
    "tags": []
   },
   "outputs": [
    {
     "name": "stdout",
     "output_type": "stream",
     "text": [
      "The current value of your 50 SPY shares is $14141.50\n",
      "The current value of your 200 AGG shares is $23374.00\n"
     ]
    }
   ],
   "source": [
    "# Compute the current value of shares\n",
    "my_spy_value = my_spy * spy_close_price\n",
    "my_agg_value = my_agg * agg_close_price\n",
    "\n",
    "# Print current value of shares\n",
    "print(f\"The current value of your {my_spy} SPY shares is ${my_spy_value:0.2f}\")\n",
    "print(f\"The current value of your {my_agg} AGG shares is ${my_agg_value:0.2f}\")"
   ]
  },
  {
   "cell_type": "markdown",
   "metadata": {},
   "source": [
    "### Savings Health Analysis"
   ]
  },
  {
   "cell_type": "code",
   "execution_count": 111,
   "metadata": {
    "tags": []
   },
   "outputs": [
    {
     "data": {
      "text/html": [
       "<div>\n",
       "<style scoped>\n",
       "    .dataframe tbody tr th:only-of-type {\n",
       "        vertical-align: middle;\n",
       "    }\n",
       "\n",
       "    .dataframe tbody tr th {\n",
       "        vertical-align: top;\n",
       "    }\n",
       "\n",
       "    .dataframe thead th {\n",
       "        text-align: right;\n",
       "    }\n",
       "</style>\n",
       "<table border=\"1\" class=\"dataframe\">\n",
       "  <thead>\n",
       "    <tr style=\"text-align: right;\">\n",
       "      <th></th>\n",
       "      <th>amount</th>\n",
       "    </tr>\n",
       "  </thead>\n",
       "  <tbody>\n",
       "    <tr>\n",
       "      <th>crypto</th>\n",
       "      <td>50296.714</td>\n",
       "    </tr>\n",
       "    <tr>\n",
       "      <th>shares</th>\n",
       "      <td>37515.500</td>\n",
       "    </tr>\n",
       "  </tbody>\n",
       "</table>\n",
       "</div>"
      ],
      "text/plain": [
       "           amount\n",
       "crypto  50296.714\n",
       "shares  37515.500"
      ]
     },
     "metadata": {},
     "output_type": "display_data"
    }
   ],
   "source": [
    "# Set monthly household income\n",
    "monthly_income = 1200\n",
    "\n",
    "# Consolidate financial assets data\n",
    "savings_data = [\n",
    "    my_btc_value + my_eth_value,\n",
    "    my_spy_value + my_agg_value,\n",
    "]\n",
    "\n",
    "# Create savings DataFrame\n",
    "df_savings = pd.DataFrame(savings_data, columns=['amount'], index=['crypto', 'shares'])\n",
    "\n",
    "# Display savings DataFrame\n",
    "display(df_savings)"
   ]
  },
  {
   "cell_type": "code",
   "execution_count": 112,
   "metadata": {
    "tags": []
   },
   "outputs": [
    {
     "data": {
      "text/plain": [
       "<Axes: title={'center': 'Composition of Personal Savings'}, ylabel='amount'>"
      ]
     },
     "execution_count": 112,
     "metadata": {},
     "output_type": "execute_result"
    },
    {
     "data": {
      "image/png": "[encoded data removed]",
      "text/plain": [
       "<Figure size 640x480 with 1 Axes>"
      ]
     },
     "metadata": {},
     "output_type": "display_data"
    }
   ],
   "source": [
    "# Plot savings pie chart\n",
    "df_savings.plot.pie(y='amount', title='Composition of Personal Savings')"
   ]
  },
  {
   "cell_type": "code",
   "execution_count": 113,
   "metadata": {
    "tags": []
   },
   "outputs": [
    {
     "name": "stdout",
     "output_type": "stream",
     "text": [
      "Congratulations! You have enough money in your emergency fund.\n"
     ]
    }
   ],
   "source": [
    "# Set ideal emergency fund\n",
    "emergency_fund = monthly_income * 3\n",
    "\n",
    "# Calculate total amount of savings\n",
    "total_savings = float(df_savings.sum())\n",
    "\n",
    "# Validate saving health\n",
    "if total_savings > emergency_fund:\n",
    "    print('Congratulations! You have enough money in your emergency fund.')\n",
    "elif total_savings ==emergency_fund:\n",
    "     print('Great, You have saved three times your monthly expenses! Keep pushing to increase youir savings.')\n",
    "else:\n",
    "    print(f'You are ${(emergency_fund - total_savings):0.2f} away from your emergency fund goal, continue saving between 10% and 20% of your montly income to reach your goal.')                   "
   ]
  },
  {
   "cell_type": "markdown",
   "metadata": {},
   "source": [
    "## Part 2 - Retirement Planning\n",
    "\n",
    "### Monte Carlo Simulation"
   ]
  },
  {
   "cell_type": "code",
   "execution_count": 121,
   "metadata": {
    "tags": []
   },
   "outputs": [],
   "source": [
    "# Set start and end dates of five years back from today.\n",
    "# Sample results may vary from the solution based on the time frame chosen\n",
    "start_date = pd.Timestamp('2016-05-01', tz='America/New_York').isoformat()\n",
    "end_date = pd.Timestamp('2021-05-01', tz='America/New_York').isoformat()"
   ]
  },
  {
   "cell_type": "code",
   "execution_count": 122,
   "metadata": {
    "tags": []
   },
   "outputs": [
    {
     "data": {
      "text/html": [
       "<div>\n",
       "<style scoped>\n",
       "    .dataframe tbody tr th:only-of-type {\n",
       "        vertical-align: middle;\n",
       "    }\n",
       "\n",
       "    .dataframe tbody tr th {\n",
       "        vertical-align: top;\n",
       "    }\n",
       "\n",
       "    .dataframe thead tr th {\n",
       "        text-align: left;\n",
       "    }\n",
       "\n",
       "    .dataframe thead tr:last-of-type th {\n",
       "        text-align: right;\n",
       "    }\n",
       "</style>\n",
       "<table border=\"1\" class=\"dataframe\">\n",
       "  <thead>\n",
       "    <tr>\n",
       "      <th></th>\n",
       "      <th colspan=\"7\" halign=\"left\">AGG</th>\n",
       "      <th colspan=\"7\" halign=\"left\">SPY</th>\n",
       "    </tr>\n",
       "    <tr>\n",
       "      <th></th>\n",
       "      <th>close</th>\n",
       "      <th>high</th>\n",
       "      <th>low</th>\n",
       "      <th>trade_count</th>\n",
       "      <th>open</th>\n",
       "      <th>volume</th>\n",
       "      <th>vwap</th>\n",
       "      <th>close</th>\n",
       "      <th>high</th>\n",
       "      <th>low</th>\n",
       "      <th>trade_count</th>\n",
       "      <th>open</th>\n",
       "      <th>volume</th>\n",
       "      <th>vwap</th>\n",
       "    </tr>\n",
       "    <tr>\n",
       "      <th>timestamp</th>\n",
       "      <th></th>\n",
       "      <th></th>\n",
       "      <th></th>\n",
       "      <th></th>\n",
       "      <th></th>\n",
       "      <th></th>\n",
       "      <th></th>\n",
       "      <th></th>\n",
       "      <th></th>\n",
       "      <th></th>\n",
       "      <th></th>\n",
       "      <th></th>\n",
       "      <th></th>\n",
       "      <th></th>\n",
       "    </tr>\n",
       "  </thead>\n",
       "  <tbody>\n",
       "    <tr>\n",
       "      <th>2016-05-02 04:00:00+00:00</th>\n",
       "      <td>110.605</td>\n",
       "      <td>110.7400</td>\n",
       "      <td>110.5200</td>\n",
       "      <td>15122</td>\n",
       "      <td>110.74</td>\n",
       "      <td>3608552</td>\n",
       "      <td>110.626939</td>\n",
       "      <td>207.9700</td>\n",
       "      <td>208.18</td>\n",
       "      <td>206.41</td>\n",
       "      <td>263586</td>\n",
       "      <td>206.92</td>\n",
       "      <td>64747229</td>\n",
       "      <td>207.305695</td>\n",
       "    </tr>\n",
       "    <tr>\n",
       "      <th>2016-05-03 04:00:00+00:00</th>\n",
       "      <td>110.810</td>\n",
       "      <td>110.9450</td>\n",
       "      <td>110.7500</td>\n",
       "      <td>15663</td>\n",
       "      <td>110.89</td>\n",
       "      <td>3128774</td>\n",
       "      <td>110.864495</td>\n",
       "      <td>206.1592</td>\n",
       "      <td>206.80</td>\n",
       "      <td>205.28</td>\n",
       "      <td>377523</td>\n",
       "      <td>206.52</td>\n",
       "      <td>108050343</td>\n",
       "      <td>206.309997</td>\n",
       "    </tr>\n",
       "    <tr>\n",
       "      <th>2016-05-04 04:00:00+00:00</th>\n",
       "      <td>110.860</td>\n",
       "      <td>110.9315</td>\n",
       "      <td>110.7595</td>\n",
       "      <td>13984</td>\n",
       "      <td>110.91</td>\n",
       "      <td>3096337</td>\n",
       "      <td>110.877983</td>\n",
       "      <td>205.0100</td>\n",
       "      <td>205.85</td>\n",
       "      <td>204.42</td>\n",
       "      <td>345266</td>\n",
       "      <td>204.99</td>\n",
       "      <td>94995641</td>\n",
       "      <td>205.086315</td>\n",
       "    </tr>\n",
       "    <tr>\n",
       "      <th>2016-05-05 04:00:00+00:00</th>\n",
       "      <td>111.140</td>\n",
       "      <td>111.1600</td>\n",
       "      <td>110.8010</td>\n",
       "      <td>15708</td>\n",
       "      <td>110.92</td>\n",
       "      <td>3052967</td>\n",
       "      <td>111.030002</td>\n",
       "      <td>204.9700</td>\n",
       "      <td>205.98</td>\n",
       "      <td>204.47</td>\n",
       "      <td>280626</td>\n",
       "      <td>205.56</td>\n",
       "      <td>68425268</td>\n",
       "      <td>205.140615</td>\n",
       "    </tr>\n",
       "    <tr>\n",
       "      <th>2016-05-06 04:00:00+00:00</th>\n",
       "      <td>110.970</td>\n",
       "      <td>111.1200</td>\n",
       "      <td>110.9700</td>\n",
       "      <td>12697</td>\n",
       "      <td>111.12</td>\n",
       "      <td>2922700</td>\n",
       "      <td>111.027631</td>\n",
       "      <td>205.7200</td>\n",
       "      <td>205.77</td>\n",
       "      <td>203.88</td>\n",
       "      <td>340162</td>\n",
       "      <td>204.06</td>\n",
       "      <td>90999800</td>\n",
       "      <td>204.943796</td>\n",
       "    </tr>\n",
       "  </tbody>\n",
       "</table>\n",
       "</div>"
      ],
      "text/plain": [
       "                               AGG                                          \\\n",
       "                             close      high       low trade_count    open   \n",
       "timestamp                                                                    \n",
       "2016-05-02 04:00:00+00:00  110.605  110.7400  110.5200       15122  110.74   \n",
       "2016-05-03 04:00:00+00:00  110.810  110.9450  110.7500       15663  110.89   \n",
       "2016-05-04 04:00:00+00:00  110.860  110.9315  110.7595       13984  110.91   \n",
       "2016-05-05 04:00:00+00:00  111.140  111.1600  110.8010       15708  110.92   \n",
       "2016-05-06 04:00:00+00:00  110.970  111.1200  110.9700       12697  111.12   \n",
       "\n",
       "                                                     SPY                  \\\n",
       "                            volume        vwap     close    high     low   \n",
       "timestamp                                                                  \n",
       "2016-05-02 04:00:00+00:00  3608552  110.626939  207.9700  208.18  206.41   \n",
       "2016-05-03 04:00:00+00:00  3128774  110.864495  206.1592  206.80  205.28   \n",
       "2016-05-04 04:00:00+00:00  3096337  110.877983  205.0100  205.85  204.42   \n",
       "2016-05-05 04:00:00+00:00  3052967  111.030002  204.9700  205.98  204.47   \n",
       "2016-05-06 04:00:00+00:00  2922700  111.027631  205.7200  205.77  203.88   \n",
       "\n",
       "                                                                      \n",
       "                          trade_count    open     volume        vwap  \n",
       "timestamp                                                             \n",
       "2016-05-02 04:00:00+00:00      263586  206.92   64747229  207.305695  \n",
       "2016-05-03 04:00:00+00:00      377523  206.52  108050343  206.309997  \n",
       "2016-05-04 04:00:00+00:00      345266  204.99   94995641  205.086315  \n",
       "2016-05-05 04:00:00+00:00      280626  205.56   68425268  205.140615  \n",
       "2016-05-06 04:00:00+00:00      340162  204.06   90999800  204.943796  "
      ]
     },
     "execution_count": 122,
     "metadata": {},
     "output_type": "execute_result"
    }
   ],
   "source": [
    "# Get 5 years' worth of historical data for SPY and AGG\n",
    "df_stock_data = alpaca.get_bars(\n",
    "    tickers,\n",
    "    timeframe,  # You have a typo here: 'timeferame' should be 'timeframe'\n",
    "    start=start_date,\n",
    "    end=end_date\n",
    ").df\n",
    "\n",
    "# Reorganize the DataFrame\n",
    "# Separate ticker data\n",
    "AGG = df_stock_data[df_stock_data['symbol']=='AGG'].drop('symbol', axis=1)\n",
    "SPY = df_stock_data[df_stock_data['symbol']=='SPY'].drop('symbol', axis=1)\n",
    "\n",
    "# Concatenate the ticker DataFrames\n",
    "df_stock_data = pd.concat([AGG, SPY], axis=1, keys=['AGG', 'SPY'])  # Corrected the syntax here\n",
    "\n",
    "# Display sample data\n",
    "df_stock_data.head()"
   ]
  },
  {
   "cell_type": "code",
   "execution_count": 124,
   "metadata": {
    "tags": []
   },
   "outputs": [],
   "source": [
    "# Configuring a Monte Carlo simulation to forecast 30 years cumulative returns\n",
    "MC_thirty_year = MCSimulation(\n",
    "    portfolio_data = df_stock_data,\n",
    "    weights = [.40,.60],\n",
    "    num_simulation = 500,\n",
    "    num_trading_days = 252 *30\n",
    ")"
   ]
  },
  {
   "cell_type": "code",
   "execution_count": 126,
   "metadata": {
    "tags": []
   },
   "outputs": [
    {
     "data": {
      "text/html": [
       "<div>\n",
       "<style scoped>\n",
       "    .dataframe tbody tr th:only-of-type {\n",
       "        vertical-align: middle;\n",
       "    }\n",
       "\n",
       "    .dataframe tbody tr th {\n",
       "        vertical-align: top;\n",
       "    }\n",
       "\n",
       "    .dataframe thead tr th {\n",
       "        text-align: left;\n",
       "    }\n",
       "\n",
       "    .dataframe thead tr:last-of-type th {\n",
       "        text-align: right;\n",
       "    }\n",
       "</style>\n",
       "<table border=\"1\" class=\"dataframe\">\n",
       "  <thead>\n",
       "    <tr>\n",
       "      <th></th>\n",
       "      <th colspan=\"8\" halign=\"left\">AGG</th>\n",
       "      <th colspan=\"8\" halign=\"left\">SPY</th>\n",
       "    </tr>\n",
       "    <tr>\n",
       "      <th></th>\n",
       "      <th>close</th>\n",
       "      <th>high</th>\n",
       "      <th>low</th>\n",
       "      <th>trade_count</th>\n",
       "      <th>open</th>\n",
       "      <th>volume</th>\n",
       "      <th>vwap</th>\n",
       "      <th>daily_return</th>\n",
       "      <th>close</th>\n",
       "      <th>high</th>\n",
       "      <th>low</th>\n",
       "      <th>trade_count</th>\n",
       "      <th>open</th>\n",
       "      <th>volume</th>\n",
       "      <th>vwap</th>\n",
       "      <th>daily_return</th>\n",
       "    </tr>\n",
       "    <tr>\n",
       "      <th>timestamp</th>\n",
       "      <th></th>\n",
       "      <th></th>\n",
       "      <th></th>\n",
       "      <th></th>\n",
       "      <th></th>\n",
       "      <th></th>\n",
       "      <th></th>\n",
       "      <th></th>\n",
       "      <th></th>\n",
       "      <th></th>\n",
       "      <th></th>\n",
       "      <th></th>\n",
       "      <th></th>\n",
       "      <th></th>\n",
       "      <th></th>\n",
       "      <th></th>\n",
       "    </tr>\n",
       "  </thead>\n",
       "  <tbody>\n",
       "    <tr>\n",
       "      <th>2016-05-02 04:00:00+00:00</th>\n",
       "      <td>110.605</td>\n",
       "      <td>110.7400</td>\n",
       "      <td>110.5200</td>\n",
       "      <td>15122</td>\n",
       "      <td>110.74</td>\n",
       "      <td>3608552</td>\n",
       "      <td>110.626939</td>\n",
       "      <td>NaN</td>\n",
       "      <td>207.9700</td>\n",
       "      <td>208.18</td>\n",
       "      <td>206.41</td>\n",
       "      <td>263586</td>\n",
       "      <td>206.92</td>\n",
       "      <td>64747229</td>\n",
       "      <td>207.305695</td>\n",
       "      <td>NaN</td>\n",
       "    </tr>\n",
       "    <tr>\n",
       "      <th>2016-05-03 04:00:00+00:00</th>\n",
       "      <td>110.810</td>\n",
       "      <td>110.9450</td>\n",
       "      <td>110.7500</td>\n",
       "      <td>15663</td>\n",
       "      <td>110.89</td>\n",
       "      <td>3128774</td>\n",
       "      <td>110.864495</td>\n",
       "      <td>0.001853</td>\n",
       "      <td>206.1592</td>\n",
       "      <td>206.80</td>\n",
       "      <td>205.28</td>\n",
       "      <td>377523</td>\n",
       "      <td>206.52</td>\n",
       "      <td>108050343</td>\n",
       "      <td>206.309997</td>\n",
       "      <td>-0.008707</td>\n",
       "    </tr>\n",
       "    <tr>\n",
       "      <th>2016-05-04 04:00:00+00:00</th>\n",
       "      <td>110.860</td>\n",
       "      <td>110.9315</td>\n",
       "      <td>110.7595</td>\n",
       "      <td>13984</td>\n",
       "      <td>110.91</td>\n",
       "      <td>3096337</td>\n",
       "      <td>110.877983</td>\n",
       "      <td>0.000451</td>\n",
       "      <td>205.0100</td>\n",
       "      <td>205.85</td>\n",
       "      <td>204.42</td>\n",
       "      <td>345266</td>\n",
       "      <td>204.99</td>\n",
       "      <td>94995641</td>\n",
       "      <td>205.086315</td>\n",
       "      <td>-0.005574</td>\n",
       "    </tr>\n",
       "    <tr>\n",
       "      <th>2016-05-05 04:00:00+00:00</th>\n",
       "      <td>111.140</td>\n",
       "      <td>111.1600</td>\n",
       "      <td>110.8010</td>\n",
       "      <td>15708</td>\n",
       "      <td>110.92</td>\n",
       "      <td>3052967</td>\n",
       "      <td>111.030002</td>\n",
       "      <td>0.002526</td>\n",
       "      <td>204.9700</td>\n",
       "      <td>205.98</td>\n",
       "      <td>204.47</td>\n",
       "      <td>280626</td>\n",
       "      <td>205.56</td>\n",
       "      <td>68425268</td>\n",
       "      <td>205.140615</td>\n",
       "      <td>-0.000195</td>\n",
       "    </tr>\n",
       "    <tr>\n",
       "      <th>2016-05-06 04:00:00+00:00</th>\n",
       "      <td>110.970</td>\n",
       "      <td>111.1200</td>\n",
       "      <td>110.9700</td>\n",
       "      <td>12697</td>\n",
       "      <td>111.12</td>\n",
       "      <td>2922700</td>\n",
       "      <td>111.027631</td>\n",
       "      <td>-0.001530</td>\n",
       "      <td>205.7200</td>\n",
       "      <td>205.77</td>\n",
       "      <td>203.88</td>\n",
       "      <td>340162</td>\n",
       "      <td>204.06</td>\n",
       "      <td>90999800</td>\n",
       "      <td>204.943796</td>\n",
       "      <td>0.003659</td>\n",
       "    </tr>\n",
       "  </tbody>\n",
       "</table>\n",
       "</div>"
      ],
      "text/plain": [
       "                               AGG                                          \\\n",
       "                             close      high       low trade_count    open   \n",
       "timestamp                                                                    \n",
       "2016-05-02 04:00:00+00:00  110.605  110.7400  110.5200       15122  110.74   \n",
       "2016-05-03 04:00:00+00:00  110.810  110.9450  110.7500       15663  110.89   \n",
       "2016-05-04 04:00:00+00:00  110.860  110.9315  110.7595       13984  110.91   \n",
       "2016-05-05 04:00:00+00:00  111.140  111.1600  110.8010       15708  110.92   \n",
       "2016-05-06 04:00:00+00:00  110.970  111.1200  110.9700       12697  111.12   \n",
       "\n",
       "                                                                  SPY          \\\n",
       "                            volume        vwap daily_return     close    high   \n",
       "timestamp                                                                       \n",
       "2016-05-02 04:00:00+00:00  3608552  110.626939          NaN  207.9700  208.18   \n",
       "2016-05-03 04:00:00+00:00  3128774  110.864495     0.001853  206.1592  206.80   \n",
       "2016-05-04 04:00:00+00:00  3096337  110.877983     0.000451  205.0100  205.85   \n",
       "2016-05-05 04:00:00+00:00  3052967  111.030002     0.002526  204.9700  205.98   \n",
       "2016-05-06 04:00:00+00:00  2922700  111.027631    -0.001530  205.7200  205.77   \n",
       "\n",
       "                                                                              \\\n",
       "                              low trade_count    open     volume        vwap   \n",
       "timestamp                                                                      \n",
       "2016-05-02 04:00:00+00:00  206.41      263586  206.92   64747229  207.305695   \n",
       "2016-05-03 04:00:00+00:00  205.28      377523  206.52  108050343  206.309997   \n",
       "2016-05-04 04:00:00+00:00  204.42      345266  204.99   94995641  205.086315   \n",
       "2016-05-05 04:00:00+00:00  204.47      280626  205.56   68425268  205.140615   \n",
       "2016-05-06 04:00:00+00:00  203.88      340162  204.06   90999800  204.943796   \n",
       "\n",
       "                                        \n",
       "                          daily_return  \n",
       "timestamp                               \n",
       "2016-05-02 04:00:00+00:00          NaN  \n",
       "2016-05-03 04:00:00+00:00    -0.008707  \n",
       "2016-05-04 04:00:00+00:00    -0.005574  \n",
       "2016-05-05 04:00:00+00:00    -0.000195  \n",
       "2016-05-06 04:00:00+00:00     0.003659  "
      ]
     },
     "execution_count": 126,
     "metadata": {},
     "output_type": "execute_result"
    }
   ],
   "source": [
    "# Printing the simulation input data\n",
    "MC_thirty_year.portfolio_data.head()"
   ]
  },
  {
   "cell_type": "code",
   "execution_count": 140,
   "metadata": {
    "tags": []
   },
   "outputs": [
    {
     "data": {
      "text/html": [
       "<div>\n",
       "<style scoped>\n",
       "    .dataframe tbody tr th:only-of-type {\n",
       "        vertical-align: middle;\n",
       "    }\n",
       "\n",
       "    .dataframe tbody tr th {\n",
       "        vertical-align: top;\n",
       "    }\n",
       "\n",
       "    .dataframe thead tr th {\n",
       "        text-align: left;\n",
       "    }\n",
       "\n",
       "    .dataframe thead tr:last-of-type th {\n",
       "        text-align: right;\n",
       "    }\n",
       "</style>\n",
       "<table border=\"1\" class=\"dataframe\">\n",
       "  <thead>\n",
       "    <tr>\n",
       "      <th></th>\n",
       "      <th colspan=\"7\" halign=\"left\">AGG</th>\n",
       "      <th colspan=\"7\" halign=\"left\">SPY</th>\n",
       "    </tr>\n",
       "    <tr>\n",
       "      <th></th>\n",
       "      <th>close</th>\n",
       "      <th>high</th>\n",
       "      <th>low</th>\n",
       "      <th>trade_count</th>\n",
       "      <th>open</th>\n",
       "      <th>volume</th>\n",
       "      <th>vwap</th>\n",
       "      <th>close</th>\n",
       "      <th>high</th>\n",
       "      <th>low</th>\n",
       "      <th>trade_count</th>\n",
       "      <th>open</th>\n",
       "      <th>volume</th>\n",
       "      <th>vwap</th>\n",
       "    </tr>\n",
       "    <tr>\n",
       "      <th>timestamp</th>\n",
       "      <th></th>\n",
       "      <th></th>\n",
       "      <th></th>\n",
       "      <th></th>\n",
       "      <th></th>\n",
       "      <th></th>\n",
       "      <th></th>\n",
       "      <th></th>\n",
       "      <th></th>\n",
       "      <th></th>\n",
       "      <th></th>\n",
       "      <th></th>\n",
       "      <th></th>\n",
       "      <th></th>\n",
       "    </tr>\n",
       "  </thead>\n",
       "  <tbody>\n",
       "    <tr>\n",
       "      <th>2020-05-01 04:00:00+00:00</th>\n",
       "      <td>116.87</td>\n",
       "      <td>117.0998</td>\n",
       "      <td>116.6775</td>\n",
       "      <td>24394</td>\n",
       "      <td>116.97</td>\n",
       "      <td>6331654</td>\n",
       "      <td>116.846992</td>\n",
       "      <td>282.83</td>\n",
       "      <td>290.6572</td>\n",
       "      <td>281.5200</td>\n",
       "      <td>639155</td>\n",
       "      <td>285.31</td>\n",
       "      <td>127002350</td>\n",
       "      <td>284.074074</td>\n",
       "    </tr>\n",
       "    <tr>\n",
       "      <th>2020-05-04 04:00:00+00:00</th>\n",
       "      <td>116.97</td>\n",
       "      <td>117.0900</td>\n",
       "      <td>116.8700</td>\n",
       "      <td>15546</td>\n",
       "      <td>116.89</td>\n",
       "      <td>3803239</td>\n",
       "      <td>116.960894</td>\n",
       "      <td>283.59</td>\n",
       "      <td>283.9000</td>\n",
       "      <td>279.1300</td>\n",
       "      <td>460683</td>\n",
       "      <td>280.74</td>\n",
       "      <td>81813464</td>\n",
       "      <td>281.785875</td>\n",
       "    </tr>\n",
       "    <tr>\n",
       "      <th>2020-05-05 04:00:00+00:00</th>\n",
       "      <td>116.88</td>\n",
       "      <td>116.9700</td>\n",
       "      <td>116.8100</td>\n",
       "      <td>15147</td>\n",
       "      <td>116.96</td>\n",
       "      <td>5593693</td>\n",
       "      <td>116.879703</td>\n",
       "      <td>286.15</td>\n",
       "      <td>289.2500</td>\n",
       "      <td>283.7134</td>\n",
       "      <td>459766</td>\n",
       "      <td>286.64</td>\n",
       "      <td>80363726</td>\n",
       "      <td>287.388247</td>\n",
       "    </tr>\n",
       "    <tr>\n",
       "      <th>2020-05-06 04:00:00+00:00</th>\n",
       "      <td>116.41</td>\n",
       "      <td>116.7100</td>\n",
       "      <td>116.3000</td>\n",
       "      <td>20234</td>\n",
       "      <td>116.44</td>\n",
       "      <td>7832788</td>\n",
       "      <td>116.423669</td>\n",
       "      <td>284.34</td>\n",
       "      <td>288.4600</td>\n",
       "      <td>283.7800</td>\n",
       "      <td>436221</td>\n",
       "      <td>288.04</td>\n",
       "      <td>74268760</td>\n",
       "      <td>286.080459</td>\n",
       "    </tr>\n",
       "    <tr>\n",
       "      <th>2020-05-07 04:00:00+00:00</th>\n",
       "      <td>116.77</td>\n",
       "      <td>116.7700</td>\n",
       "      <td>116.4200</td>\n",
       "      <td>15964</td>\n",
       "      <td>116.61</td>\n",
       "      <td>3914327</td>\n",
       "      <td>116.646007</td>\n",
       "      <td>287.70</td>\n",
       "      <td>289.7800</td>\n",
       "      <td>287.1300</td>\n",
       "      <td>422689</td>\n",
       "      <td>287.75</td>\n",
       "      <td>75995625</td>\n",
       "      <td>287.986917</td>\n",
       "    </tr>\n",
       "  </tbody>\n",
       "</table>\n",
       "</div>"
      ],
      "text/plain": [
       "                              AGG                                          \\\n",
       "                            close      high       low trade_count    open   \n",
       "timestamp                                                                   \n",
       "2020-05-01 04:00:00+00:00  116.87  117.0998  116.6775       24394  116.97   \n",
       "2020-05-04 04:00:00+00:00  116.97  117.0900  116.8700       15546  116.89   \n",
       "2020-05-05 04:00:00+00:00  116.88  116.9700  116.8100       15147  116.96   \n",
       "2020-05-06 04:00:00+00:00  116.41  116.7100  116.3000       20234  116.44   \n",
       "2020-05-07 04:00:00+00:00  116.77  116.7700  116.4200       15964  116.61   \n",
       "\n",
       "                                                   SPY                      \\\n",
       "                            volume        vwap   close      high       low   \n",
       "timestamp                                                                    \n",
       "2020-05-01 04:00:00+00:00  6331654  116.846992  282.83  290.6572  281.5200   \n",
       "2020-05-04 04:00:00+00:00  3803239  116.960894  283.59  283.9000  279.1300   \n",
       "2020-05-05 04:00:00+00:00  5593693  116.879703  286.15  289.2500  283.7134   \n",
       "2020-05-06 04:00:00+00:00  7832788  116.423669  284.34  288.4600  283.7800   \n",
       "2020-05-07 04:00:00+00:00  3914327  116.646007  287.70  289.7800  287.1300   \n",
       "\n",
       "                                                                      \n",
       "                          trade_count    open     volume        vwap  \n",
       "timestamp                                                             \n",
       "2020-05-01 04:00:00+00:00      639155  285.31  127002350  284.074074  \n",
       "2020-05-04 04:00:00+00:00      460683  280.74   81813464  281.785875  \n",
       "2020-05-05 04:00:00+00:00      459766  286.64   80363726  287.388247  \n",
       "2020-05-06 04:00:00+00:00      436221  288.04   74268760  286.080459  \n",
       "2020-05-07 04:00:00+00:00      422689  287.75   75995625  287.986917  "
      ]
     },
     "execution_count": 140,
     "metadata": {},
     "output_type": "execute_result"
    }
   ],
   "source": [
    "# Format current date as ISO format\n",
    "today = pd.Timestamp('2020-05-01', tz='America/New_York').isoformat()\n",
    "\n",
    "# Set the tickers\n",
    "tickers = ['AGG', 'SPY']\n",
    "\n",
    "# Set timeframe to \"1Day\" for Alpaca API\n",
    "timeframe = \"1Day\"\n",
    "\n",
    "# Get current closing prices for SPY and AGG\n",
    "df_investments = alpaca.get_bars(\n",
    "    tickers,\n",
    "    timeframe,\n",
    "    start = today\n",
    ").df\n",
    "\n",
    "# Reorganize the DataFrame\n",
    "# Separate ticker data\n",
    "AGG = df_investments[df_investments['symbol']=='AGG'].drop('symbol', axis=1)\n",
    "SPY = df_investments[df_investments['symbol']=='SPY'].drop('symbol', axis=1)\n",
    "\n",
    "# Concatenate the ticker DataFrames\n",
    "df_investments = pd.concat([AGG, SPY],axis=1, keys=['AGG','SPY'])\n",
    "\n",
    "# Preview DataFrame\n",
    "df_investments.head()"
   ]
  },
  {
   "cell_type": "code",
   "execution_count": 131,
   "metadata": {
    "tags": []
   },
   "outputs": [
    {
     "data": {
      "image/png": "[encoded data removed]",
      "text/plain": [
       "<Figure size 640x480 with 1 Axes>"
      ]
     },
     "metadata": {},
     "output_type": "display_data"
    }
   ],
   "source": [
    "# Plot simulation outcomes\n",
    "line_plot = MC_thirty_year.plot_simulation()"
   ]
  },
  {
   "cell_type": "code",
   "execution_count": 129,
   "metadata": {
    "tags": []
   },
   "outputs": [
    {
     "data": {
      "image/png": "[encoded data removed]",
      "text/plain": [
       "<Figure size 640x480 with 1 Axes>"
      ]
     },
     "metadata": {},
     "output_type": "display_data"
    }
   ],
   "source": [
    "# Plot probability distribution and confidence intervals\n",
    "dist_plot = MC_thirty_year.plot_distribution()"
   ]
  },
  {
   "cell_type": "markdown",
   "metadata": {},
   "source": [
    "### Retirement Analysis"
   ]
  },
  {
   "cell_type": "code",
   "execution_count": 132,
   "metadata": {
    "tags": []
   },
   "outputs": [
    {
     "name": "stdout",
     "output_type": "stream",
     "text": [
      "count           500.000000\n",
      "mean             18.238636\n",
      "std              12.968998\n",
      "min               1.875620\n",
      "25%               9.545379\n",
      "50%              14.799790\n",
      "75%              23.655029\n",
      "max             140.722261\n",
      "95% CI Lower      4.550935\n",
      "95% CI Upper     46.516716\n",
      "Name: 7560, dtype: float64\n"
     ]
    },
    {
     "name": "stderr",
     "output_type": "stream",
     "text": [
      "C:\\Users\\ranol\\OneDrive\\Desktop\\RUT-VIRT-FIN-PT-09-2023-U-LOLC\\02-Homework\\05-APIs\\Instructions\\Starter_Code\\MCForecastTools.py:172: FutureWarning: The series.append method is deprecated and will be removed from pandas in a future version. Use pandas.concat instead.\n",
      "  return metrics.append(ci_series)\n"
     ]
    }
   ],
   "source": [
    "# Fetch summary statistics from the Monte Carlo simulation results\n",
    "tbl = MC_thirty_year.summarize_cumulative_return()\n",
    "\n",
    "# Print summary statistics\n",
    "print(tbl)"
   ]
  },
  {
   "cell_type": "markdown",
   "metadata": {},
   "source": [
    "### Calculate the expected portfolio return at the `95%` lower and upper confidence intervals based on a `$20,000` initial investment."
   ]
  },
  {
   "cell_type": "code",
   "execution_count": 134,
   "metadata": {
    "tags": []
   },
   "outputs": [
    {
     "name": "stdout",
     "output_type": "stream",
     "text": [
      "Initial Investment: $20000\n",
      "Lower 95% Confidence Interval: $91018.71\n",
      "Upper 95% Confidence Interval: $930334.32\n"
     ]
    }
   ],
   "source": [
    "# Define your initial investment\n",
    "initial_investment = 20000\n",
    "\n",
    "# Use the lower and upper 95% confidence intervals to calculate the range of possible outcomes for your $20,000\n",
    "ci_lower = round(tbl[8] * initial_investment, 2)\n",
    "ci_upper = round(tbl[9] * initial_investment, 2)\n",
    "\n",
    "# Print the results\n",
    "print(f\"Initial Investment: ${initial_investment}\")\n",
    "print(f\"Lower 95% Confidence Interval: ${ci_lower}\")\n",
    "print(f\"Upper 95% Confidence Interval: ${ci_upper}\")"
   ]
  },
  {
   "cell_type": "markdown",
   "metadata": {},
   "source": [
    "### Calculate the expected portfolio return at the `95%` lower and upper confidence intervals based on a `50%` increase in the initial investment."
   ]
  },
  {
   "cell_type": "code",
   "execution_count": 136,
   "metadata": {
    "tags": []
   },
   "outputs": [
    {
     "name": "stdout",
     "output_type": "stream",
     "text": [
      "There is a 95% chance that an initial investment of $30000.0 in the portfolio over the next 30 years will end within the range of $30000.0 and $30000.0\n"
     ]
    }
   ],
   "source": [
    "# Set initial investment\n",
    "initial_investment = 20000 * 1.5\n",
    "\n",
    "# Use the lower and upper 95% confidence intervals to calculate the range of possible outcomes of a $30,000 initial investment\n",
    "ci_lower = round(initial_investment, 2)\n",
    "ci_upper = round(initial_investment, 2)\n",
    "\n",
    "# Print results\n",
    "print(f\"There is a 95% chance that an initial investment of ${initial_investment} in the portfolio\"\n",
    "      f\" over the next 30 years will end within the range of\"\n",
    "      f\" ${ci_lower} and ${ci_upper}\")"
   ]
  },
  {
   "cell_type": "markdown",
   "metadata": {},
   "source": [
    "## Optional Challenge - Early Retirement\n",
    "\n",
    "\n",
    "### Five Years Retirement Option"
   ]
  },
  {
   "cell_type": "code",
   "execution_count": 138,
   "metadata": {
    "tags": []
   },
   "outputs": [],
   "source": [
    "# Configuring a Monte Carlo simulation to forecast 5 years cumulative returns\n",
    "\n",
    "MC_five_year = MCSimulation(\n",
    "    portfolio_data=df_stock_data,\n",
    "    weights=[0.80, 0.20],  # Adjust the weights format\n",
    "    num_simulation=500,  # Corrected the parameter name\n",
    "    num_trading_days=252 * 5  # Calculate the total trading days for 5 years\n",
    ")"
   ]
  },
  {
   "cell_type": "code",
   "execution_count": 139,
   "metadata": {
    "tags": []
   },
   "outputs": [
    {
     "name": "stdout",
     "output_type": "stream",
     "text": [
      "Running Monte Carlo simulation number 0.\n",
      "Running Monte Carlo simulation number 10.\n",
      "Running Monte Carlo simulation number 20.\n",
      "Running Monte Carlo simulation number 30.\n",
      "Running Monte Carlo simulation number 40.\n",
      "Running Monte Carlo simulation number 50.\n",
      "Running Monte Carlo simulation number 60.\n",
      "Running Monte Carlo simulation number 70.\n",
      "Running Monte Carlo simulation number 80.\n",
      "Running Monte Carlo simulation number 90.\n",
      "Running Monte Carlo simulation number 100.\n"
     ]
    },
    {
     "name": "stderr",
     "output_type": "stream",
     "text": [
      "C:\\Users\\ranol\\OneDrive\\Desktop\\RUT-VIRT-FIN-PT-09-2023-U-LOLC\\02-Homework\\05-APIs\\Instructions\\Starter_Code\\MCForecastTools.py:117: PerformanceWarning: DataFrame is highly fragmented.  This is usually the result of calling `frame.insert` many times, which has poor performance.  Consider joining all columns at once using pd.concat(axis=1) instead. To get a de-fragmented frame, use `newframe = frame.copy()`\n",
      "  portfolio_cumulative_returns[n] = (1 + sim_df.fillna(0)).cumprod()\n",
      "C:\\Users\\ranol\\OneDrive\\Desktop\\RUT-VIRT-FIN-PT-09-2023-U-LOLC\\02-Homework\\05-APIs\\Instructions\\Starter_Code\\MCForecastTools.py:117: PerformanceWarning: DataFrame is highly fragmented.  This is usually the result of calling `frame.insert` many times, which has poor performance.  Consider joining all columns at once using pd.concat(axis=1) instead. To get a de-fragmented frame, use `newframe = frame.copy()`\n",
      "  portfolio_cumulative_returns[n] = (1 + sim_df.fillna(0)).cumprod()\n",
      "C:\\Users\\ranol\\OneDrive\\Desktop\\RUT-VIRT-FIN-PT-09-2023-U-LOLC\\02-Homework\\05-APIs\\Instructions\\Starter_Code\\MCForecastTools.py:117: PerformanceWarning: DataFrame is highly fragmented.  This is usually the result of calling `frame.insert` many times, which has poor performance.  Consider joining all columns at once using pd.concat(axis=1) instead. To get a de-fragmented frame, use `newframe = frame.copy()`\n",
      "  portfolio_cumulative_returns[n] = (1 + sim_df.fillna(0)).cumprod()\n",
      "C:\\Users\\ranol\\OneDrive\\Desktop\\RUT-VIRT-FIN-PT-09-2023-U-LOLC\\02-Homework\\05-APIs\\Instructions\\Starter_Code\\MCForecastTools.py:117: PerformanceWarning: DataFrame is highly fragmented.  This is usually the result of calling `frame.insert` many times, which has poor performance.  Consider joining all columns at once using pd.concat(axis=1) instead. To get a de-fragmented frame, use `newframe = frame.copy()`\n",
      "  portfolio_cumulative_returns[n] = (1 + sim_df.fillna(0)).cumprod()\n",
      "C:\\Users\\ranol\\OneDrive\\Desktop\\RUT-VIRT-FIN-PT-09-2023-U-LOLC\\02-Homework\\05-APIs\\Instructions\\Starter_Code\\MCForecastTools.py:117: PerformanceWarning: DataFrame is highly fragmented.  This is usually the result of calling `frame.insert` many times, which has poor performance.  Consider joining all columns at once using pd.concat(axis=1) instead. To get a de-fragmented frame, use `newframe = frame.copy()`\n",
      "  portfolio_cumulative_returns[n] = (1 + sim_df.fillna(0)).cumprod()\n",
      "C:\\Users\\ranol\\OneDrive\\Desktop\\RUT-VIRT-FIN-PT-09-2023-U-LOLC\\02-Homework\\05-APIs\\Instructions\\Starter_Code\\MCForecastTools.py:117: PerformanceWarning: DataFrame is highly fragmented.  This is usually the result of calling `frame.insert` many times, which has poor performance.  Consider joining all columns at once using pd.concat(axis=1) instead. To get a de-fragmented frame, use `newframe = frame.copy()`\n",
      "  portfolio_cumulative_returns[n] = (1 + sim_df.fillna(0)).cumprod()\n",
      "C:\\Users\\ranol\\OneDrive\\Desktop\\RUT-VIRT-FIN-PT-09-2023-U-LOLC\\02-Homework\\05-APIs\\Instructions\\Starter_Code\\MCForecastTools.py:117: PerformanceWarning: DataFrame is highly fragmented.  This is usually the result of calling `frame.insert` many times, which has poor performance.  Consider joining all columns at once using pd.concat(axis=1) instead. To get a de-fragmented frame, use `newframe = frame.copy()`\n",
      "  portfolio_cumulative_returns[n] = (1 + sim_df.fillna(0)).cumprod()\n",
      "C:\\Users\\ranol\\OneDrive\\Desktop\\RUT-VIRT-FIN-PT-09-2023-U-LOLC\\02-Homework\\05-APIs\\Instructions\\Starter_Code\\MCForecastTools.py:117: PerformanceWarning: DataFrame is highly fragmented.  This is usually the result of calling `frame.insert` many times, which has poor performance.  Consider joining all columns at once using pd.concat(axis=1) instead. To get a de-fragmented frame, use `newframe = frame.copy()`\n",
      "  portfolio_cumulative_returns[n] = (1 + sim_df.fillna(0)).cumprod()\n",
      "C:\\Users\\ranol\\OneDrive\\Desktop\\RUT-VIRT-FIN-PT-09-2023-U-LOLC\\02-Homework\\05-APIs\\Instructions\\Starter_Code\\MCForecastTools.py:117: PerformanceWarning: DataFrame is highly fragmented.  This is usually the result of calling `frame.insert` many times, which has poor performance.  Consider joining all columns at once using pd.concat(axis=1) instead. To get a de-fragmented frame, use `newframe = frame.copy()`\n",
      "  portfolio_cumulative_returns[n] = (1 + sim_df.fillna(0)).cumprod()\n",
      "C:\\Users\\ranol\\OneDrive\\Desktop\\RUT-VIRT-FIN-PT-09-2023-U-LOLC\\02-Homework\\05-APIs\\Instructions\\Starter_Code\\MCForecastTools.py:117: PerformanceWarning: DataFrame is highly fragmented.  This is usually the result of calling `frame.insert` many times, which has poor performance.  Consider joining all columns at once using pd.concat(axis=1) instead. To get a de-fragmented frame, use `newframe = frame.copy()`\n",
      "  portfolio_cumulative_returns[n] = (1 + sim_df.fillna(0)).cumprod()\n",
      "C:\\Users\\ranol\\OneDrive\\Desktop\\RUT-VIRT-FIN-PT-09-2023-U-LOLC\\02-Homework\\05-APIs\\Instructions\\Starter_Code\\MCForecastTools.py:117: PerformanceWarning: DataFrame is highly fragmented.  This is usually the result of calling `frame.insert` many times, which has poor performance.  Consider joining all columns at once using pd.concat(axis=1) instead. To get a de-fragmented frame, use `newframe = frame.copy()`\n",
      "  portfolio_cumulative_returns[n] = (1 + sim_df.fillna(0)).cumprod()\n",
      "C:\\Users\\ranol\\OneDrive\\Desktop\\RUT-VIRT-FIN-PT-09-2023-U-LOLC\\02-Homework\\05-APIs\\Instructions\\Starter_Code\\MCForecastTools.py:117: PerformanceWarning: DataFrame is highly fragmented.  This is usually the result of calling `frame.insert` many times, which has poor performance.  Consider joining all columns at once using pd.concat(axis=1) instead. To get a de-fragmented frame, use `newframe = frame.copy()`\n",
      "  portfolio_cumulative_returns[n] = (1 + sim_df.fillna(0)).cumprod()\n",
      "C:\\Users\\ranol\\OneDrive\\Desktop\\RUT-VIRT-FIN-PT-09-2023-U-LOLC\\02-Homework\\05-APIs\\Instructions\\Starter_Code\\MCForecastTools.py:117: PerformanceWarning: DataFrame is highly fragmented.  This is usually the result of calling `frame.insert` many times, which has poor performance.  Consider joining all columns at once using pd.concat(axis=1) instead. To get a de-fragmented frame, use `newframe = frame.copy()`\n",
      "  portfolio_cumulative_returns[n] = (1 + sim_df.fillna(0)).cumprod()\n",
      "C:\\Users\\ranol\\OneDrive\\Desktop\\RUT-VIRT-FIN-PT-09-2023-U-LOLC\\02-Homework\\05-APIs\\Instructions\\Starter_Code\\MCForecastTools.py:117: PerformanceWarning: DataFrame is highly fragmented.  This is usually the result of calling `frame.insert` many times, which has poor performance.  Consider joining all columns at once using pd.concat(axis=1) instead. To get a de-fragmented frame, use `newframe = frame.copy()`\n",
      "  portfolio_cumulative_returns[n] = (1 + sim_df.fillna(0)).cumprod()\n"
     ]
    },
    {
     "name": "stdout",
     "output_type": "stream",
     "text": [
      "Running Monte Carlo simulation number 110.\n"
     ]
    },
    {
     "name": "stderr",
     "output_type": "stream",
     "text": [
      "C:\\Users\\ranol\\OneDrive\\Desktop\\RUT-VIRT-FIN-PT-09-2023-U-LOLC\\02-Homework\\05-APIs\\Instructions\\Starter_Code\\MCForecastTools.py:117: PerformanceWarning: DataFrame is highly fragmented.  This is usually the result of calling `frame.insert` many times, which has poor performance.  Consider joining all columns at once using pd.concat(axis=1) instead. To get a de-fragmented frame, use `newframe = frame.copy()`\n",
      "  portfolio_cumulative_returns[n] = (1 + sim_df.fillna(0)).cumprod()\n",
      "C:\\Users\\ranol\\OneDrive\\Desktop\\RUT-VIRT-FIN-PT-09-2023-U-LOLC\\02-Homework\\05-APIs\\Instructions\\Starter_Code\\MCForecastTools.py:117: PerformanceWarning: DataFrame is highly fragmented.  This is usually the result of calling `frame.insert` many times, which has poor performance.  Consider joining all columns at once using pd.concat(axis=1) instead. To get a de-fragmented frame, use `newframe = frame.copy()`\n",
      "  portfolio_cumulative_returns[n] = (1 + sim_df.fillna(0)).cumprod()\n",
      "C:\\Users\\ranol\\OneDrive\\Desktop\\RUT-VIRT-FIN-PT-09-2023-U-LOLC\\02-Homework\\05-APIs\\Instructions\\Starter_Code\\MCForecastTools.py:117: PerformanceWarning: DataFrame is highly fragmented.  This is usually the result of calling `frame.insert` many times, which has poor performance.  Consider joining all columns at once using pd.concat(axis=1) instead. To get a de-fragmented frame, use `newframe = frame.copy()`\n",
      "  portfolio_cumulative_returns[n] = (1 + sim_df.fillna(0)).cumprod()\n",
      "C:\\Users\\ranol\\OneDrive\\Desktop\\RUT-VIRT-FIN-PT-09-2023-U-LOLC\\02-Homework\\05-APIs\\Instructions\\Starter_Code\\MCForecastTools.py:117: PerformanceWarning: DataFrame is highly fragmented.  This is usually the result of calling `frame.insert` many times, which has poor performance.  Consider joining all columns at once using pd.concat(axis=1) instead. To get a de-fragmented frame, use `newframe = frame.copy()`\n",
      "  portfolio_cumulative_returns[n] = (1 + sim_df.fillna(0)).cumprod()\n",
      "C:\\Users\\ranol\\OneDrive\\Desktop\\RUT-VIRT-FIN-PT-09-2023-U-LOLC\\02-Homework\\05-APIs\\Instructions\\Starter_Code\\MCForecastTools.py:117: PerformanceWarning: DataFrame is highly fragmented.  This is usually the result of calling `frame.insert` many times, which has poor performance.  Consider joining all columns at once using pd.concat(axis=1) instead. To get a de-fragmented frame, use `newframe = frame.copy()`\n",
      "  portfolio_cumulative_returns[n] = (1 + sim_df.fillna(0)).cumprod()\n",
      "C:\\Users\\ranol\\OneDrive\\Desktop\\RUT-VIRT-FIN-PT-09-2023-U-LOLC\\02-Homework\\05-APIs\\Instructions\\Starter_Code\\MCForecastTools.py:117: PerformanceWarning: DataFrame is highly fragmented.  This is usually the result of calling `frame.insert` many times, which has poor performance.  Consider joining all columns at once using pd.concat(axis=1) instead. To get a de-fragmented frame, use `newframe = frame.copy()`\n",
      "  portfolio_cumulative_returns[n] = (1 + sim_df.fillna(0)).cumprod()\n",
      "C:\\Users\\ranol\\OneDrive\\Desktop\\RUT-VIRT-FIN-PT-09-2023-U-LOLC\\02-Homework\\05-APIs\\Instructions\\Starter_Code\\MCForecastTools.py:117: PerformanceWarning: DataFrame is highly fragmented.  This is usually the result of calling `frame.insert` many times, which has poor performance.  Consider joining all columns at once using pd.concat(axis=1) instead. To get a de-fragmented frame, use `newframe = frame.copy()`\n",
      "  portfolio_cumulative_returns[n] = (1 + sim_df.fillna(0)).cumprod()\n",
      "C:\\Users\\ranol\\OneDrive\\Desktop\\RUT-VIRT-FIN-PT-09-2023-U-LOLC\\02-Homework\\05-APIs\\Instructions\\Starter_Code\\MCForecastTools.py:117: PerformanceWarning: DataFrame is highly fragmented.  This is usually the result of calling `frame.insert` many times, which has poor performance.  Consider joining all columns at once using pd.concat(axis=1) instead. To get a de-fragmented frame, use `newframe = frame.copy()`\n",
      "  portfolio_cumulative_returns[n] = (1 + sim_df.fillna(0)).cumprod()\n",
      "C:\\Users\\ranol\\OneDrive\\Desktop\\RUT-VIRT-FIN-PT-09-2023-U-LOLC\\02-Homework\\05-APIs\\Instructions\\Starter_Code\\MCForecastTools.py:117: PerformanceWarning: DataFrame is highly fragmented.  This is usually the result of calling `frame.insert` many times, which has poor performance.  Consider joining all columns at once using pd.concat(axis=1) instead. To get a de-fragmented frame, use `newframe = frame.copy()`\n",
      "  portfolio_cumulative_returns[n] = (1 + sim_df.fillna(0)).cumprod()\n"
     ]
    },
    {
     "name": "stdout",
     "output_type": "stream",
     "text": [
      "Running Monte Carlo simulation number 120.\n"
     ]
    },
    {
     "name": "stderr",
     "output_type": "stream",
     "text": [
      "C:\\Users\\ranol\\OneDrive\\Desktop\\RUT-VIRT-FIN-PT-09-2023-U-LOLC\\02-Homework\\05-APIs\\Instructions\\Starter_Code\\MCForecastTools.py:117: PerformanceWarning: DataFrame is highly fragmented.  This is usually the result of calling `frame.insert` many times, which has poor performance.  Consider joining all columns at once using pd.concat(axis=1) instead. To get a de-fragmented frame, use `newframe = frame.copy()`\n",
      "  portfolio_cumulative_returns[n] = (1 + sim_df.fillna(0)).cumprod()\n",
      "C:\\Users\\ranol\\OneDrive\\Desktop\\RUT-VIRT-FIN-PT-09-2023-U-LOLC\\02-Homework\\05-APIs\\Instructions\\Starter_Code\\MCForecastTools.py:117: PerformanceWarning: DataFrame is highly fragmented.  This is usually the result of calling `frame.insert` many times, which has poor performance.  Consider joining all columns at once using pd.concat(axis=1) instead. To get a de-fragmented frame, use `newframe = frame.copy()`\n",
      "  portfolio_cumulative_returns[n] = (1 + sim_df.fillna(0)).cumprod()\n",
      "C:\\Users\\ranol\\OneDrive\\Desktop\\RUT-VIRT-FIN-PT-09-2023-U-LOLC\\02-Homework\\05-APIs\\Instructions\\Starter_Code\\MCForecastTools.py:117: PerformanceWarning: DataFrame is highly fragmented.  This is usually the result of calling `frame.insert` many times, which has poor performance.  Consider joining all columns at once using pd.concat(axis=1) instead. To get a de-fragmented frame, use `newframe = frame.copy()`\n",
      "  portfolio_cumulative_returns[n] = (1 + sim_df.fillna(0)).cumprod()\n",
      "C:\\Users\\ranol\\OneDrive\\Desktop\\RUT-VIRT-FIN-PT-09-2023-U-LOLC\\02-Homework\\05-APIs\\Instructions\\Starter_Code\\MCForecastTools.py:117: PerformanceWarning: DataFrame is highly fragmented.  This is usually the result of calling `frame.insert` many times, which has poor performance.  Consider joining all columns at once using pd.concat(axis=1) instead. To get a de-fragmented frame, use `newframe = frame.copy()`\n",
      "  portfolio_cumulative_returns[n] = (1 + sim_df.fillna(0)).cumprod()\n",
      "C:\\Users\\ranol\\OneDrive\\Desktop\\RUT-VIRT-FIN-PT-09-2023-U-LOLC\\02-Homework\\05-APIs\\Instructions\\Starter_Code\\MCForecastTools.py:117: PerformanceWarning: DataFrame is highly fragmented.  This is usually the result of calling `frame.insert` many times, which has poor performance.  Consider joining all columns at once using pd.concat(axis=1) instead. To get a de-fragmented frame, use `newframe = frame.copy()`\n",
      "  portfolio_cumulative_returns[n] = (1 + sim_df.fillna(0)).cumprod()\n",
      "C:\\Users\\ranol\\OneDrive\\Desktop\\RUT-VIRT-FIN-PT-09-2023-U-LOLC\\02-Homework\\05-APIs\\Instructions\\Starter_Code\\MCForecastTools.py:117: PerformanceWarning: DataFrame is highly fragmented.  This is usually the result of calling `frame.insert` many times, which has poor performance.  Consider joining all columns at once using pd.concat(axis=1) instead. To get a de-fragmented frame, use `newframe = frame.copy()`\n",
      "  portfolio_cumulative_returns[n] = (1 + sim_df.fillna(0)).cumprod()\n",
      "C:\\Users\\ranol\\OneDrive\\Desktop\\RUT-VIRT-FIN-PT-09-2023-U-LOLC\\02-Homework\\05-APIs\\Instructions\\Starter_Code\\MCForecastTools.py:117: PerformanceWarning: DataFrame is highly fragmented.  This is usually the result of calling `frame.insert` many times, which has poor performance.  Consider joining all columns at once using pd.concat(axis=1) instead. To get a de-fragmented frame, use `newframe = frame.copy()`\n",
      "  portfolio_cumulative_returns[n] = (1 + sim_df.fillna(0)).cumprod()\n"
     ]
    },
    {
     "name": "stdout",
     "output_type": "stream",
     "text": [
      "Running Monte Carlo simulation number 130.\n"
     ]
    },
    {
     "name": "stderr",
     "output_type": "stream",
     "text": [
      "C:\\Users\\ranol\\OneDrive\\Desktop\\RUT-VIRT-FIN-PT-09-2023-U-LOLC\\02-Homework\\05-APIs\\Instructions\\Starter_Code\\MCForecastTools.py:117: PerformanceWarning: DataFrame is highly fragmented.  This is usually the result of calling `frame.insert` many times, which has poor performance.  Consider joining all columns at once using pd.concat(axis=1) instead. To get a de-fragmented frame, use `newframe = frame.copy()`\n",
      "  portfolio_cumulative_returns[n] = (1 + sim_df.fillna(0)).cumprod()\n",
      "C:\\Users\\ranol\\OneDrive\\Desktop\\RUT-VIRT-FIN-PT-09-2023-U-LOLC\\02-Homework\\05-APIs\\Instructions\\Starter_Code\\MCForecastTools.py:117: PerformanceWarning: DataFrame is highly fragmented.  This is usually the result of calling `frame.insert` many times, which has poor performance.  Consider joining all columns at once using pd.concat(axis=1) instead. To get a de-fragmented frame, use `newframe = frame.copy()`\n",
      "  portfolio_cumulative_returns[n] = (1 + sim_df.fillna(0)).cumprod()\n",
      "C:\\Users\\ranol\\OneDrive\\Desktop\\RUT-VIRT-FIN-PT-09-2023-U-LOLC\\02-Homework\\05-APIs\\Instructions\\Starter_Code\\MCForecastTools.py:117: PerformanceWarning: DataFrame is highly fragmented.  This is usually the result of calling `frame.insert` many times, which has poor performance.  Consider joining all columns at once using pd.concat(axis=1) instead. To get a de-fragmented frame, use `newframe = frame.copy()`\n",
      "  portfolio_cumulative_returns[n] = (1 + sim_df.fillna(0)).cumprod()\n",
      "C:\\Users\\ranol\\OneDrive\\Desktop\\RUT-VIRT-FIN-PT-09-2023-U-LOLC\\02-Homework\\05-APIs\\Instructions\\Starter_Code\\MCForecastTools.py:117: PerformanceWarning: DataFrame is highly fragmented.  This is usually the result of calling `frame.insert` many times, which has poor performance.  Consider joining all columns at once using pd.concat(axis=1) instead. To get a de-fragmented frame, use `newframe = frame.copy()`\n",
      "  portfolio_cumulative_returns[n] = (1 + sim_df.fillna(0)).cumprod()\n",
      "C:\\Users\\ranol\\OneDrive\\Desktop\\RUT-VIRT-FIN-PT-09-2023-U-LOLC\\02-Homework\\05-APIs\\Instructions\\Starter_Code\\MCForecastTools.py:117: PerformanceWarning: DataFrame is highly fragmented.  This is usually the result of calling `frame.insert` many times, which has poor performance.  Consider joining all columns at once using pd.concat(axis=1) instead. To get a de-fragmented frame, use `newframe = frame.copy()`\n",
      "  portfolio_cumulative_returns[n] = (1 + sim_df.fillna(0)).cumprod()\n",
      "C:\\Users\\ranol\\OneDrive\\Desktop\\RUT-VIRT-FIN-PT-09-2023-U-LOLC\\02-Homework\\05-APIs\\Instructions\\Starter_Code\\MCForecastTools.py:117: PerformanceWarning: DataFrame is highly fragmented.  This is usually the result of calling `frame.insert` many times, which has poor performance.  Consider joining all columns at once using pd.concat(axis=1) instead. To get a de-fragmented frame, use `newframe = frame.copy()`\n",
      "  portfolio_cumulative_returns[n] = (1 + sim_df.fillna(0)).cumprod()\n",
      "C:\\Users\\ranol\\OneDrive\\Desktop\\RUT-VIRT-FIN-PT-09-2023-U-LOLC\\02-Homework\\05-APIs\\Instructions\\Starter_Code\\MCForecastTools.py:117: PerformanceWarning: DataFrame is highly fragmented.  This is usually the result of calling `frame.insert` many times, which has poor performance.  Consider joining all columns at once using pd.concat(axis=1) instead. To get a de-fragmented frame, use `newframe = frame.copy()`\n",
      "  portfolio_cumulative_returns[n] = (1 + sim_df.fillna(0)).cumprod()\n",
      "C:\\Users\\ranol\\OneDrive\\Desktop\\RUT-VIRT-FIN-PT-09-2023-U-LOLC\\02-Homework\\05-APIs\\Instructions\\Starter_Code\\MCForecastTools.py:117: PerformanceWarning: DataFrame is highly fragmented.  This is usually the result of calling `frame.insert` many times, which has poor performance.  Consider joining all columns at once using pd.concat(axis=1) instead. To get a de-fragmented frame, use `newframe = frame.copy()`\n",
      "  portfolio_cumulative_returns[n] = (1 + sim_df.fillna(0)).cumprod()\n",
      "C:\\Users\\ranol\\OneDrive\\Desktop\\RUT-VIRT-FIN-PT-09-2023-U-LOLC\\02-Homework\\05-APIs\\Instructions\\Starter_Code\\MCForecastTools.py:117: PerformanceWarning: DataFrame is highly fragmented.  This is usually the result of calling `frame.insert` many times, which has poor performance.  Consider joining all columns at once using pd.concat(axis=1) instead. To get a de-fragmented frame, use `newframe = frame.copy()`\n",
      "  portfolio_cumulative_returns[n] = (1 + sim_df.fillna(0)).cumprod()\n",
      "C:\\Users\\ranol\\OneDrive\\Desktop\\RUT-VIRT-FIN-PT-09-2023-U-LOLC\\02-Homework\\05-APIs\\Instructions\\Starter_Code\\MCForecastTools.py:117: PerformanceWarning: DataFrame is highly fragmented.  This is usually the result of calling `frame.insert` many times, which has poor performance.  Consider joining all columns at once using pd.concat(axis=1) instead. To get a de-fragmented frame, use `newframe = frame.copy()`\n",
      "  portfolio_cumulative_returns[n] = (1 + sim_df.fillna(0)).cumprod()\n",
      "C:\\Users\\ranol\\OneDrive\\Desktop\\RUT-VIRT-FIN-PT-09-2023-U-LOLC\\02-Homework\\05-APIs\\Instructions\\Starter_Code\\MCForecastTools.py:117: PerformanceWarning: DataFrame is highly fragmented.  This is usually the result of calling `frame.insert` many times, which has poor performance.  Consider joining all columns at once using pd.concat(axis=1) instead. To get a de-fragmented frame, use `newframe = frame.copy()`\n",
      "  portfolio_cumulative_returns[n] = (1 + sim_df.fillna(0)).cumprod()\n",
      "C:\\Users\\ranol\\OneDrive\\Desktop\\RUT-VIRT-FIN-PT-09-2023-U-LOLC\\02-Homework\\05-APIs\\Instructions\\Starter_Code\\MCForecastTools.py:117: PerformanceWarning: DataFrame is highly fragmented.  This is usually the result of calling `frame.insert` many times, which has poor performance.  Consider joining all columns at once using pd.concat(axis=1) instead. To get a de-fragmented frame, use `newframe = frame.copy()`\n",
      "  portfolio_cumulative_returns[n] = (1 + sim_df.fillna(0)).cumprod()\n"
     ]
    },
    {
     "name": "stdout",
     "output_type": "stream",
     "text": [
      "Running Monte Carlo simulation number 140.\n"
     ]
    },
    {
     "name": "stderr",
     "output_type": "stream",
     "text": [
      "C:\\Users\\ranol\\OneDrive\\Desktop\\RUT-VIRT-FIN-PT-09-2023-U-LOLC\\02-Homework\\05-APIs\\Instructions\\Starter_Code\\MCForecastTools.py:117: PerformanceWarning: DataFrame is highly fragmented.  This is usually the result of calling `frame.insert` many times, which has poor performance.  Consider joining all columns at once using pd.concat(axis=1) instead. To get a de-fragmented frame, use `newframe = frame.copy()`\n",
      "  portfolio_cumulative_returns[n] = (1 + sim_df.fillna(0)).cumprod()\n",
      "C:\\Users\\ranol\\OneDrive\\Desktop\\RUT-VIRT-FIN-PT-09-2023-U-LOLC\\02-Homework\\05-APIs\\Instructions\\Starter_Code\\MCForecastTools.py:117: PerformanceWarning: DataFrame is highly fragmented.  This is usually the result of calling `frame.insert` many times, which has poor performance.  Consider joining all columns at once using pd.concat(axis=1) instead. To get a de-fragmented frame, use `newframe = frame.copy()`\n",
      "  portfolio_cumulative_returns[n] = (1 + sim_df.fillna(0)).cumprod()\n",
      "C:\\Users\\ranol\\OneDrive\\Desktop\\RUT-VIRT-FIN-PT-09-2023-U-LOLC\\02-Homework\\05-APIs\\Instructions\\Starter_Code\\MCForecastTools.py:117: PerformanceWarning: DataFrame is highly fragmented.  This is usually the result of calling `frame.insert` many times, which has poor performance.  Consider joining all columns at once using pd.concat(axis=1) instead. To get a de-fragmented frame, use `newframe = frame.copy()`\n",
      "  portfolio_cumulative_returns[n] = (1 + sim_df.fillna(0)).cumprod()\n",
      "C:\\Users\\ranol\\OneDrive\\Desktop\\RUT-VIRT-FIN-PT-09-2023-U-LOLC\\02-Homework\\05-APIs\\Instructions\\Starter_Code\\MCForecastTools.py:117: PerformanceWarning: DataFrame is highly fragmented.  This is usually the result of calling `frame.insert` many times, which has poor performance.  Consider joining all columns at once using pd.concat(axis=1) instead. To get a de-fragmented frame, use `newframe = frame.copy()`\n",
      "  portfolio_cumulative_returns[n] = (1 + sim_df.fillna(0)).cumprod()\n",
      "C:\\Users\\ranol\\OneDrive\\Desktop\\RUT-VIRT-FIN-PT-09-2023-U-LOLC\\02-Homework\\05-APIs\\Instructions\\Starter_Code\\MCForecastTools.py:117: PerformanceWarning: DataFrame is highly fragmented.  This is usually the result of calling `frame.insert` many times, which has poor performance.  Consider joining all columns at once using pd.concat(axis=1) instead. To get a de-fragmented frame, use `newframe = frame.copy()`\n",
      "  portfolio_cumulative_returns[n] = (1 + sim_df.fillna(0)).cumprod()\n",
      "C:\\Users\\ranol\\OneDrive\\Desktop\\RUT-VIRT-FIN-PT-09-2023-U-LOLC\\02-Homework\\05-APIs\\Instructions\\Starter_Code\\MCForecastTools.py:117: PerformanceWarning: DataFrame is highly fragmented.  This is usually the result of calling `frame.insert` many times, which has poor performance.  Consider joining all columns at once using pd.concat(axis=1) instead. To get a de-fragmented frame, use `newframe = frame.copy()`\n",
      "  portfolio_cumulative_returns[n] = (1 + sim_df.fillna(0)).cumprod()\n",
      "C:\\Users\\ranol\\OneDrive\\Desktop\\RUT-VIRT-FIN-PT-09-2023-U-LOLC\\02-Homework\\05-APIs\\Instructions\\Starter_Code\\MCForecastTools.py:117: PerformanceWarning: DataFrame is highly fragmented.  This is usually the result of calling `frame.insert` many times, which has poor performance.  Consider joining all columns at once using pd.concat(axis=1) instead. To get a de-fragmented frame, use `newframe = frame.copy()`\n",
      "  portfolio_cumulative_returns[n] = (1 + sim_df.fillna(0)).cumprod()\n",
      "C:\\Users\\ranol\\OneDrive\\Desktop\\RUT-VIRT-FIN-PT-09-2023-U-LOLC\\02-Homework\\05-APIs\\Instructions\\Starter_Code\\MCForecastTools.py:117: PerformanceWarning: DataFrame is highly fragmented.  This is usually the result of calling `frame.insert` many times, which has poor performance.  Consider joining all columns at once using pd.concat(axis=1) instead. To get a de-fragmented frame, use `newframe = frame.copy()`\n",
      "  portfolio_cumulative_returns[n] = (1 + sim_df.fillna(0)).cumprod()\n",
      "C:\\Users\\ranol\\OneDrive\\Desktop\\RUT-VIRT-FIN-PT-09-2023-U-LOLC\\02-Homework\\05-APIs\\Instructions\\Starter_Code\\MCForecastTools.py:117: PerformanceWarning: DataFrame is highly fragmented.  This is usually the result of calling `frame.insert` many times, which has poor performance.  Consider joining all columns at once using pd.concat(axis=1) instead. To get a de-fragmented frame, use `newframe = frame.copy()`\n",
      "  portfolio_cumulative_returns[n] = (1 + sim_df.fillna(0)).cumprod()\n",
      "C:\\Users\\ranol\\OneDrive\\Desktop\\RUT-VIRT-FIN-PT-09-2023-U-LOLC\\02-Homework\\05-APIs\\Instructions\\Starter_Code\\MCForecastTools.py:117: PerformanceWarning: DataFrame is highly fragmented.  This is usually the result of calling `frame.insert` many times, which has poor performance.  Consider joining all columns at once using pd.concat(axis=1) instead. To get a de-fragmented frame, use `newframe = frame.copy()`\n",
      "  portfolio_cumulative_returns[n] = (1 + sim_df.fillna(0)).cumprod()\n",
      "C:\\Users\\ranol\\OneDrive\\Desktop\\RUT-VIRT-FIN-PT-09-2023-U-LOLC\\02-Homework\\05-APIs\\Instructions\\Starter_Code\\MCForecastTools.py:117: PerformanceWarning: DataFrame is highly fragmented.  This is usually the result of calling `frame.insert` many times, which has poor performance.  Consider joining all columns at once using pd.concat(axis=1) instead. To get a de-fragmented frame, use `newframe = frame.copy()`\n",
      "  portfolio_cumulative_returns[n] = (1 + sim_df.fillna(0)).cumprod()\n",
      "C:\\Users\\ranol\\OneDrive\\Desktop\\RUT-VIRT-FIN-PT-09-2023-U-LOLC\\02-Homework\\05-APIs\\Instructions\\Starter_Code\\MCForecastTools.py:117: PerformanceWarning: DataFrame is highly fragmented.  This is usually the result of calling `frame.insert` many times, which has poor performance.  Consider joining all columns at once using pd.concat(axis=1) instead. To get a de-fragmented frame, use `newframe = frame.copy()`\n",
      "  portfolio_cumulative_returns[n] = (1 + sim_df.fillna(0)).cumprod()\n"
     ]
    },
    {
     "name": "stdout",
     "output_type": "stream",
     "text": [
      "Running Monte Carlo simulation number 150.\n"
     ]
    },
    {
     "name": "stderr",
     "output_type": "stream",
     "text": [
      "C:\\Users\\ranol\\OneDrive\\Desktop\\RUT-VIRT-FIN-PT-09-2023-U-LOLC\\02-Homework\\05-APIs\\Instructions\\Starter_Code\\MCForecastTools.py:117: PerformanceWarning: DataFrame is highly fragmented.  This is usually the result of calling `frame.insert` many times, which has poor performance.  Consider joining all columns at once using pd.concat(axis=1) instead. To get a de-fragmented frame, use `newframe = frame.copy()`\n",
      "  portfolio_cumulative_returns[n] = (1 + sim_df.fillna(0)).cumprod()\n",
      "C:\\Users\\ranol\\OneDrive\\Desktop\\RUT-VIRT-FIN-PT-09-2023-U-LOLC\\02-Homework\\05-APIs\\Instructions\\Starter_Code\\MCForecastTools.py:117: PerformanceWarning: DataFrame is highly fragmented.  This is usually the result of calling `frame.insert` many times, which has poor performance.  Consider joining all columns at once using pd.concat(axis=1) instead. To get a de-fragmented frame, use `newframe = frame.copy()`\n",
      "  portfolio_cumulative_returns[n] = (1 + sim_df.fillna(0)).cumprod()\n",
      "C:\\Users\\ranol\\OneDrive\\Desktop\\RUT-VIRT-FIN-PT-09-2023-U-LOLC\\02-Homework\\05-APIs\\Instructions\\Starter_Code\\MCForecastTools.py:117: PerformanceWarning: DataFrame is highly fragmented.  This is usually the result of calling `frame.insert` many times, which has poor performance.  Consider joining all columns at once using pd.concat(axis=1) instead. To get a de-fragmented frame, use `newframe = frame.copy()`\n",
      "  portfolio_cumulative_returns[n] = (1 + sim_df.fillna(0)).cumprod()\n",
      "C:\\Users\\ranol\\OneDrive\\Desktop\\RUT-VIRT-FIN-PT-09-2023-U-LOLC\\02-Homework\\05-APIs\\Instructions\\Starter_Code\\MCForecastTools.py:117: PerformanceWarning: DataFrame is highly fragmented.  This is usually the result of calling `frame.insert` many times, which has poor performance.  Consider joining all columns at once using pd.concat(axis=1) instead. To get a de-fragmented frame, use `newframe = frame.copy()`\n",
      "  portfolio_cumulative_returns[n] = (1 + sim_df.fillna(0)).cumprod()\n",
      "C:\\Users\\ranol\\OneDrive\\Desktop\\RUT-VIRT-FIN-PT-09-2023-U-LOLC\\02-Homework\\05-APIs\\Instructions\\Starter_Code\\MCForecastTools.py:117: PerformanceWarning: DataFrame is highly fragmented.  This is usually the result of calling `frame.insert` many times, which has poor performance.  Consider joining all columns at once using pd.concat(axis=1) instead. To get a de-fragmented frame, use `newframe = frame.copy()`\n",
      "  portfolio_cumulative_returns[n] = (1 + sim_df.fillna(0)).cumprod()\n",
      "C:\\Users\\ranol\\OneDrive\\Desktop\\RUT-VIRT-FIN-PT-09-2023-U-LOLC\\02-Homework\\05-APIs\\Instructions\\Starter_Code\\MCForecastTools.py:117: PerformanceWarning: DataFrame is highly fragmented.  This is usually the result of calling `frame.insert` many times, which has poor performance.  Consider joining all columns at once using pd.concat(axis=1) instead. To get a de-fragmented frame, use `newframe = frame.copy()`\n",
      "  portfolio_cumulative_returns[n] = (1 + sim_df.fillna(0)).cumprod()\n"
     ]
    },
    {
     "name": "stdout",
     "output_type": "stream",
     "text": [
      "Running Monte Carlo simulation number 160.\n"
     ]
    },
    {
     "name": "stderr",
     "output_type": "stream",
     "text": [
      "C:\\Users\\ranol\\OneDrive\\Desktop\\RUT-VIRT-FIN-PT-09-2023-U-LOLC\\02-Homework\\05-APIs\\Instructions\\Starter_Code\\MCForecastTools.py:117: PerformanceWarning: DataFrame is highly fragmented.  This is usually the result of calling `frame.insert` many times, which has poor performance.  Consider joining all columns at once using pd.concat(axis=1) instead. To get a de-fragmented frame, use `newframe = frame.copy()`\n",
      "  portfolio_cumulative_returns[n] = (1 + sim_df.fillna(0)).cumprod()\n",
      "C:\\Users\\ranol\\OneDrive\\Desktop\\RUT-VIRT-FIN-PT-09-2023-U-LOLC\\02-Homework\\05-APIs\\Instructions\\Starter_Code\\MCForecastTools.py:117: PerformanceWarning: DataFrame is highly fragmented.  This is usually the result of calling `frame.insert` many times, which has poor performance.  Consider joining all columns at once using pd.concat(axis=1) instead. To get a de-fragmented frame, use `newframe = frame.copy()`\n",
      "  portfolio_cumulative_returns[n] = (1 + sim_df.fillna(0)).cumprod()\n",
      "C:\\Users\\ranol\\OneDrive\\Desktop\\RUT-VIRT-FIN-PT-09-2023-U-LOLC\\02-Homework\\05-APIs\\Instructions\\Starter_Code\\MCForecastTools.py:117: PerformanceWarning: DataFrame is highly fragmented.  This is usually the result of calling `frame.insert` many times, which has poor performance.  Consider joining all columns at once using pd.concat(axis=1) instead. To get a de-fragmented frame, use `newframe = frame.copy()`\n",
      "  portfolio_cumulative_returns[n] = (1 + sim_df.fillna(0)).cumprod()\n",
      "C:\\Users\\ranol\\OneDrive\\Desktop\\RUT-VIRT-FIN-PT-09-2023-U-LOLC\\02-Homework\\05-APIs\\Instructions\\Starter_Code\\MCForecastTools.py:117: PerformanceWarning: DataFrame is highly fragmented.  This is usually the result of calling `frame.insert` many times, which has poor performance.  Consider joining all columns at once using pd.concat(axis=1) instead. To get a de-fragmented frame, use `newframe = frame.copy()`\n",
      "  portfolio_cumulative_returns[n] = (1 + sim_df.fillna(0)).cumprod()\n",
      "C:\\Users\\ranol\\OneDrive\\Desktop\\RUT-VIRT-FIN-PT-09-2023-U-LOLC\\02-Homework\\05-APIs\\Instructions\\Starter_Code\\MCForecastTools.py:117: PerformanceWarning: DataFrame is highly fragmented.  This is usually the result of calling `frame.insert` many times, which has poor performance.  Consider joining all columns at once using pd.concat(axis=1) instead. To get a de-fragmented frame, use `newframe = frame.copy()`\n",
      "  portfolio_cumulative_returns[n] = (1 + sim_df.fillna(0)).cumprod()\n",
      "C:\\Users\\ranol\\OneDrive\\Desktop\\RUT-VIRT-FIN-PT-09-2023-U-LOLC\\02-Homework\\05-APIs\\Instructions\\Starter_Code\\MCForecastTools.py:117: PerformanceWarning: DataFrame is highly fragmented.  This is usually the result of calling `frame.insert` many times, which has poor performance.  Consider joining all columns at once using pd.concat(axis=1) instead. To get a de-fragmented frame, use `newframe = frame.copy()`\n",
      "  portfolio_cumulative_returns[n] = (1 + sim_df.fillna(0)).cumprod()\n",
      "C:\\Users\\ranol\\OneDrive\\Desktop\\RUT-VIRT-FIN-PT-09-2023-U-LOLC\\02-Homework\\05-APIs\\Instructions\\Starter_Code\\MCForecastTools.py:117: PerformanceWarning: DataFrame is highly fragmented.  This is usually the result of calling `frame.insert` many times, which has poor performance.  Consider joining all columns at once using pd.concat(axis=1) instead. To get a de-fragmented frame, use `newframe = frame.copy()`\n",
      "  portfolio_cumulative_returns[n] = (1 + sim_df.fillna(0)).cumprod()\n",
      "C:\\Users\\ranol\\OneDrive\\Desktop\\RUT-VIRT-FIN-PT-09-2023-U-LOLC\\02-Homework\\05-APIs\\Instructions\\Starter_Code\\MCForecastTools.py:117: PerformanceWarning: DataFrame is highly fragmented.  This is usually the result of calling `frame.insert` many times, which has poor performance.  Consider joining all columns at once using pd.concat(axis=1) instead. To get a de-fragmented frame, use `newframe = frame.copy()`\n",
      "  portfolio_cumulative_returns[n] = (1 + sim_df.fillna(0)).cumprod()\n",
      "C:\\Users\\ranol\\OneDrive\\Desktop\\RUT-VIRT-FIN-PT-09-2023-U-LOLC\\02-Homework\\05-APIs\\Instructions\\Starter_Code\\MCForecastTools.py:117: PerformanceWarning: DataFrame is highly fragmented.  This is usually the result of calling `frame.insert` many times, which has poor performance.  Consider joining all columns at once using pd.concat(axis=1) instead. To get a de-fragmented frame, use `newframe = frame.copy()`\n",
      "  portfolio_cumulative_returns[n] = (1 + sim_df.fillna(0)).cumprod()\n",
      "C:\\Users\\ranol\\OneDrive\\Desktop\\RUT-VIRT-FIN-PT-09-2023-U-LOLC\\02-Homework\\05-APIs\\Instructions\\Starter_Code\\MCForecastTools.py:117: PerformanceWarning: DataFrame is highly fragmented.  This is usually the result of calling `frame.insert` many times, which has poor performance.  Consider joining all columns at once using pd.concat(axis=1) instead. To get a de-fragmented frame, use `newframe = frame.copy()`\n",
      "  portfolio_cumulative_returns[n] = (1 + sim_df.fillna(0)).cumprod()\n",
      "C:\\Users\\ranol\\OneDrive\\Desktop\\RUT-VIRT-FIN-PT-09-2023-U-LOLC\\02-Homework\\05-APIs\\Instructions\\Starter_Code\\MCForecastTools.py:117: PerformanceWarning: DataFrame is highly fragmented.  This is usually the result of calling `frame.insert` many times, which has poor performance.  Consider joining all columns at once using pd.concat(axis=1) instead. To get a de-fragmented frame, use `newframe = frame.copy()`\n",
      "  portfolio_cumulative_returns[n] = (1 + sim_df.fillna(0)).cumprod()\n",
      "C:\\Users\\ranol\\OneDrive\\Desktop\\RUT-VIRT-FIN-PT-09-2023-U-LOLC\\02-Homework\\05-APIs\\Instructions\\Starter_Code\\MCForecastTools.py:117: PerformanceWarning: DataFrame is highly fragmented.  This is usually the result of calling `frame.insert` many times, which has poor performance.  Consider joining all columns at once using pd.concat(axis=1) instead. To get a de-fragmented frame, use `newframe = frame.copy()`\n",
      "  portfolio_cumulative_returns[n] = (1 + sim_df.fillna(0)).cumprod()\n",
      "C:\\Users\\ranol\\OneDrive\\Desktop\\RUT-VIRT-FIN-PT-09-2023-U-LOLC\\02-Homework\\05-APIs\\Instructions\\Starter_Code\\MCForecastTools.py:117: PerformanceWarning: DataFrame is highly fragmented.  This is usually the result of calling `frame.insert` many times, which has poor performance.  Consider joining all columns at once using pd.concat(axis=1) instead. To get a de-fragmented frame, use `newframe = frame.copy()`\n",
      "  portfolio_cumulative_returns[n] = (1 + sim_df.fillna(0)).cumprod()\n"
     ]
    },
    {
     "name": "stdout",
     "output_type": "stream",
     "text": [
      "Running Monte Carlo simulation number 170.\n"
     ]
    },
    {
     "name": "stderr",
     "output_type": "stream",
     "text": [
      "C:\\Users\\ranol\\OneDrive\\Desktop\\RUT-VIRT-FIN-PT-09-2023-U-LOLC\\02-Homework\\05-APIs\\Instructions\\Starter_Code\\MCForecastTools.py:117: PerformanceWarning: DataFrame is highly fragmented.  This is usually the result of calling `frame.insert` many times, which has poor performance.  Consider joining all columns at once using pd.concat(axis=1) instead. To get a de-fragmented frame, use `newframe = frame.copy()`\n",
      "  portfolio_cumulative_returns[n] = (1 + sim_df.fillna(0)).cumprod()\n",
      "C:\\Users\\ranol\\OneDrive\\Desktop\\RUT-VIRT-FIN-PT-09-2023-U-LOLC\\02-Homework\\05-APIs\\Instructions\\Starter_Code\\MCForecastTools.py:117: PerformanceWarning: DataFrame is highly fragmented.  This is usually the result of calling `frame.insert` many times, which has poor performance.  Consider joining all columns at once using pd.concat(axis=1) instead. To get a de-fragmented frame, use `newframe = frame.copy()`\n",
      "  portfolio_cumulative_returns[n] = (1 + sim_df.fillna(0)).cumprod()\n",
      "C:\\Users\\ranol\\OneDrive\\Desktop\\RUT-VIRT-FIN-PT-09-2023-U-LOLC\\02-Homework\\05-APIs\\Instructions\\Starter_Code\\MCForecastTools.py:117: PerformanceWarning: DataFrame is highly fragmented.  This is usually the result of calling `frame.insert` many times, which has poor performance.  Consider joining all columns at once using pd.concat(axis=1) instead. To get a de-fragmented frame, use `newframe = frame.copy()`\n",
      "  portfolio_cumulative_returns[n] = (1 + sim_df.fillna(0)).cumprod()\n",
      "C:\\Users\\ranol\\OneDrive\\Desktop\\RUT-VIRT-FIN-PT-09-2023-U-LOLC\\02-Homework\\05-APIs\\Instructions\\Starter_Code\\MCForecastTools.py:117: PerformanceWarning: DataFrame is highly fragmented.  This is usually the result of calling `frame.insert` many times, which has poor performance.  Consider joining all columns at once using pd.concat(axis=1) instead. To get a de-fragmented frame, use `newframe = frame.copy()`\n",
      "  portfolio_cumulative_returns[n] = (1 + sim_df.fillna(0)).cumprod()\n",
      "C:\\Users\\ranol\\OneDrive\\Desktop\\RUT-VIRT-FIN-PT-09-2023-U-LOLC\\02-Homework\\05-APIs\\Instructions\\Starter_Code\\MCForecastTools.py:117: PerformanceWarning: DataFrame is highly fragmented.  This is usually the result of calling `frame.insert` many times, which has poor performance.  Consider joining all columns at once using pd.concat(axis=1) instead. To get a de-fragmented frame, use `newframe = frame.copy()`\n",
      "  portfolio_cumulative_returns[n] = (1 + sim_df.fillna(0)).cumprod()\n",
      "C:\\Users\\ranol\\OneDrive\\Desktop\\RUT-VIRT-FIN-PT-09-2023-U-LOLC\\02-Homework\\05-APIs\\Instructions\\Starter_Code\\MCForecastTools.py:117: PerformanceWarning: DataFrame is highly fragmented.  This is usually the result of calling `frame.insert` many times, which has poor performance.  Consider joining all columns at once using pd.concat(axis=1) instead. To get a de-fragmented frame, use `newframe = frame.copy()`\n",
      "  portfolio_cumulative_returns[n] = (1 + sim_df.fillna(0)).cumprod()\n",
      "C:\\Users\\ranol\\OneDrive\\Desktop\\RUT-VIRT-FIN-PT-09-2023-U-LOLC\\02-Homework\\05-APIs\\Instructions\\Starter_Code\\MCForecastTools.py:117: PerformanceWarning: DataFrame is highly fragmented.  This is usually the result of calling `frame.insert` many times, which has poor performance.  Consider joining all columns at once using pd.concat(axis=1) instead. To get a de-fragmented frame, use `newframe = frame.copy()`\n",
      "  portfolio_cumulative_returns[n] = (1 + sim_df.fillna(0)).cumprod()\n",
      "C:\\Users\\ranol\\OneDrive\\Desktop\\RUT-VIRT-FIN-PT-09-2023-U-LOLC\\02-Homework\\05-APIs\\Instructions\\Starter_Code\\MCForecastTools.py:117: PerformanceWarning: DataFrame is highly fragmented.  This is usually the result of calling `frame.insert` many times, which has poor performance.  Consider joining all columns at once using pd.concat(axis=1) instead. To get a de-fragmented frame, use `newframe = frame.copy()`\n",
      "  portfolio_cumulative_returns[n] = (1 + sim_df.fillna(0)).cumprod()\n",
      "C:\\Users\\ranol\\OneDrive\\Desktop\\RUT-VIRT-FIN-PT-09-2023-U-LOLC\\02-Homework\\05-APIs\\Instructions\\Starter_Code\\MCForecastTools.py:117: PerformanceWarning: DataFrame is highly fragmented.  This is usually the result of calling `frame.insert` many times, which has poor performance.  Consider joining all columns at once using pd.concat(axis=1) instead. To get a de-fragmented frame, use `newframe = frame.copy()`\n",
      "  portfolio_cumulative_returns[n] = (1 + sim_df.fillna(0)).cumprod()\n",
      "C:\\Users\\ranol\\OneDrive\\Desktop\\RUT-VIRT-FIN-PT-09-2023-U-LOLC\\02-Homework\\05-APIs\\Instructions\\Starter_Code\\MCForecastTools.py:117: PerformanceWarning: DataFrame is highly fragmented.  This is usually the result of calling `frame.insert` many times, which has poor performance.  Consider joining all columns at once using pd.concat(axis=1) instead. To get a de-fragmented frame, use `newframe = frame.copy()`\n",
      "  portfolio_cumulative_returns[n] = (1 + sim_df.fillna(0)).cumprod()\n"
     ]
    },
    {
     "name": "stdout",
     "output_type": "stream",
     "text": [
      "Running Monte Carlo simulation number 180.\n"
     ]
    },
    {
     "name": "stderr",
     "output_type": "stream",
     "text": [
      "C:\\Users\\ranol\\OneDrive\\Desktop\\RUT-VIRT-FIN-PT-09-2023-U-LOLC\\02-Homework\\05-APIs\\Instructions\\Starter_Code\\MCForecastTools.py:117: PerformanceWarning: DataFrame is highly fragmented.  This is usually the result of calling `frame.insert` many times, which has poor performance.  Consider joining all columns at once using pd.concat(axis=1) instead. To get a de-fragmented frame, use `newframe = frame.copy()`\n",
      "  portfolio_cumulative_returns[n] = (1 + sim_df.fillna(0)).cumprod()\n",
      "C:\\Users\\ranol\\OneDrive\\Desktop\\RUT-VIRT-FIN-PT-09-2023-U-LOLC\\02-Homework\\05-APIs\\Instructions\\Starter_Code\\MCForecastTools.py:117: PerformanceWarning: DataFrame is highly fragmented.  This is usually the result of calling `frame.insert` many times, which has poor performance.  Consider joining all columns at once using pd.concat(axis=1) instead. To get a de-fragmented frame, use `newframe = frame.copy()`\n",
      "  portfolio_cumulative_returns[n] = (1 + sim_df.fillna(0)).cumprod()\n",
      "C:\\Users\\ranol\\OneDrive\\Desktop\\RUT-VIRT-FIN-PT-09-2023-U-LOLC\\02-Homework\\05-APIs\\Instructions\\Starter_Code\\MCForecastTools.py:117: PerformanceWarning: DataFrame is highly fragmented.  This is usually the result of calling `frame.insert` many times, which has poor performance.  Consider joining all columns at once using pd.concat(axis=1) instead. To get a de-fragmented frame, use `newframe = frame.copy()`\n",
      "  portfolio_cumulative_returns[n] = (1 + sim_df.fillna(0)).cumprod()\n",
      "C:\\Users\\ranol\\OneDrive\\Desktop\\RUT-VIRT-FIN-PT-09-2023-U-LOLC\\02-Homework\\05-APIs\\Instructions\\Starter_Code\\MCForecastTools.py:117: PerformanceWarning: DataFrame is highly fragmented.  This is usually the result of calling `frame.insert` many times, which has poor performance.  Consider joining all columns at once using pd.concat(axis=1) instead. To get a de-fragmented frame, use `newframe = frame.copy()`\n",
      "  portfolio_cumulative_returns[n] = (1 + sim_df.fillna(0)).cumprod()\n",
      "C:\\Users\\ranol\\OneDrive\\Desktop\\RUT-VIRT-FIN-PT-09-2023-U-LOLC\\02-Homework\\05-APIs\\Instructions\\Starter_Code\\MCForecastTools.py:117: PerformanceWarning: DataFrame is highly fragmented.  This is usually the result of calling `frame.insert` many times, which has poor performance.  Consider joining all columns at once using pd.concat(axis=1) instead. To get a de-fragmented frame, use `newframe = frame.copy()`\n",
      "  portfolio_cumulative_returns[n] = (1 + sim_df.fillna(0)).cumprod()\n",
      "C:\\Users\\ranol\\OneDrive\\Desktop\\RUT-VIRT-FIN-PT-09-2023-U-LOLC\\02-Homework\\05-APIs\\Instructions\\Starter_Code\\MCForecastTools.py:117: PerformanceWarning: DataFrame is highly fragmented.  This is usually the result of calling `frame.insert` many times, which has poor performance.  Consider joining all columns at once using pd.concat(axis=1) instead. To get a de-fragmented frame, use `newframe = frame.copy()`\n",
      "  portfolio_cumulative_returns[n] = (1 + sim_df.fillna(0)).cumprod()\n",
      "C:\\Users\\ranol\\OneDrive\\Desktop\\RUT-VIRT-FIN-PT-09-2023-U-LOLC\\02-Homework\\05-APIs\\Instructions\\Starter_Code\\MCForecastTools.py:117: PerformanceWarning: DataFrame is highly fragmented.  This is usually the result of calling `frame.insert` many times, which has poor performance.  Consider joining all columns at once using pd.concat(axis=1) instead. To get a de-fragmented frame, use `newframe = frame.copy()`\n",
      "  portfolio_cumulative_returns[n] = (1 + sim_df.fillna(0)).cumprod()\n"
     ]
    },
    {
     "name": "stdout",
     "output_type": "stream",
     "text": [
      "Running Monte Carlo simulation number 190.\n"
     ]
    },
    {
     "name": "stderr",
     "output_type": "stream",
     "text": [
      "C:\\Users\\ranol\\OneDrive\\Desktop\\RUT-VIRT-FIN-PT-09-2023-U-LOLC\\02-Homework\\05-APIs\\Instructions\\Starter_Code\\MCForecastTools.py:117: PerformanceWarning: DataFrame is highly fragmented.  This is usually the result of calling `frame.insert` many times, which has poor performance.  Consider joining all columns at once using pd.concat(axis=1) instead. To get a de-fragmented frame, use `newframe = frame.copy()`\n",
      "  portfolio_cumulative_returns[n] = (1 + sim_df.fillna(0)).cumprod()\n",
      "C:\\Users\\ranol\\OneDrive\\Desktop\\RUT-VIRT-FIN-PT-09-2023-U-LOLC\\02-Homework\\05-APIs\\Instructions\\Starter_Code\\MCForecastTools.py:117: PerformanceWarning: DataFrame is highly fragmented.  This is usually the result of calling `frame.insert` many times, which has poor performance.  Consider joining all columns at once using pd.concat(axis=1) instead. To get a de-fragmented frame, use `newframe = frame.copy()`\n",
      "  portfolio_cumulative_returns[n] = (1 + sim_df.fillna(0)).cumprod()\n",
      "C:\\Users\\ranol\\OneDrive\\Desktop\\RUT-VIRT-FIN-PT-09-2023-U-LOLC\\02-Homework\\05-APIs\\Instructions\\Starter_Code\\MCForecastTools.py:117: PerformanceWarning: DataFrame is highly fragmented.  This is usually the result of calling `frame.insert` many times, which has poor performance.  Consider joining all columns at once using pd.concat(axis=1) instead. To get a de-fragmented frame, use `newframe = frame.copy()`\n",
      "  portfolio_cumulative_returns[n] = (1 + sim_df.fillna(0)).cumprod()\n",
      "C:\\Users\\ranol\\OneDrive\\Desktop\\RUT-VIRT-FIN-PT-09-2023-U-LOLC\\02-Homework\\05-APIs\\Instructions\\Starter_Code\\MCForecastTools.py:117: PerformanceWarning: DataFrame is highly fragmented.  This is usually the result of calling `frame.insert` many times, which has poor performance.  Consider joining all columns at once using pd.concat(axis=1) instead. To get a de-fragmented frame, use `newframe = frame.copy()`\n",
      "  portfolio_cumulative_returns[n] = (1 + sim_df.fillna(0)).cumprod()\n",
      "C:\\Users\\ranol\\OneDrive\\Desktop\\RUT-VIRT-FIN-PT-09-2023-U-LOLC\\02-Homework\\05-APIs\\Instructions\\Starter_Code\\MCForecastTools.py:117: PerformanceWarning: DataFrame is highly fragmented.  This is usually the result of calling `frame.insert` many times, which has poor performance.  Consider joining all columns at once using pd.concat(axis=1) instead. To get a de-fragmented frame, use `newframe = frame.copy()`\n",
      "  portfolio_cumulative_returns[n] = (1 + sim_df.fillna(0)).cumprod()\n",
      "C:\\Users\\ranol\\OneDrive\\Desktop\\RUT-VIRT-FIN-PT-09-2023-U-LOLC\\02-Homework\\05-APIs\\Instructions\\Starter_Code\\MCForecastTools.py:117: PerformanceWarning: DataFrame is highly fragmented.  This is usually the result of calling `frame.insert` many times, which has poor performance.  Consider joining all columns at once using pd.concat(axis=1) instead. To get a de-fragmented frame, use `newframe = frame.copy()`\n",
      "  portfolio_cumulative_returns[n] = (1 + sim_df.fillna(0)).cumprod()\n",
      "C:\\Users\\ranol\\OneDrive\\Desktop\\RUT-VIRT-FIN-PT-09-2023-U-LOLC\\02-Homework\\05-APIs\\Instructions\\Starter_Code\\MCForecastTools.py:117: PerformanceWarning: DataFrame is highly fragmented.  This is usually the result of calling `frame.insert` many times, which has poor performance.  Consider joining all columns at once using pd.concat(axis=1) instead. To get a de-fragmented frame, use `newframe = frame.copy()`\n",
      "  portfolio_cumulative_returns[n] = (1 + sim_df.fillna(0)).cumprod()\n",
      "C:\\Users\\ranol\\OneDrive\\Desktop\\RUT-VIRT-FIN-PT-09-2023-U-LOLC\\02-Homework\\05-APIs\\Instructions\\Starter_Code\\MCForecastTools.py:117: PerformanceWarning: DataFrame is highly fragmented.  This is usually the result of calling `frame.insert` many times, which has poor performance.  Consider joining all columns at once using pd.concat(axis=1) instead. To get a de-fragmented frame, use `newframe = frame.copy()`\n",
      "  portfolio_cumulative_returns[n] = (1 + sim_df.fillna(0)).cumprod()\n",
      "C:\\Users\\ranol\\OneDrive\\Desktop\\RUT-VIRT-FIN-PT-09-2023-U-LOLC\\02-Homework\\05-APIs\\Instructions\\Starter_Code\\MCForecastTools.py:117: PerformanceWarning: DataFrame is highly fragmented.  This is usually the result of calling `frame.insert` many times, which has poor performance.  Consider joining all columns at once using pd.concat(axis=1) instead. To get a de-fragmented frame, use `newframe = frame.copy()`\n",
      "  portfolio_cumulative_returns[n] = (1 + sim_df.fillna(0)).cumprod()\n",
      "C:\\Users\\ranol\\OneDrive\\Desktop\\RUT-VIRT-FIN-PT-09-2023-U-LOLC\\02-Homework\\05-APIs\\Instructions\\Starter_Code\\MCForecastTools.py:117: PerformanceWarning: DataFrame is highly fragmented.  This is usually the result of calling `frame.insert` many times, which has poor performance.  Consider joining all columns at once using pd.concat(axis=1) instead. To get a de-fragmented frame, use `newframe = frame.copy()`\n",
      "  portfolio_cumulative_returns[n] = (1 + sim_df.fillna(0)).cumprod()\n",
      "C:\\Users\\ranol\\OneDrive\\Desktop\\RUT-VIRT-FIN-PT-09-2023-U-LOLC\\02-Homework\\05-APIs\\Instructions\\Starter_Code\\MCForecastTools.py:117: PerformanceWarning: DataFrame is highly fragmented.  This is usually the result of calling `frame.insert` many times, which has poor performance.  Consider joining all columns at once using pd.concat(axis=1) instead. To get a de-fragmented frame, use `newframe = frame.copy()`\n",
      "  portfolio_cumulative_returns[n] = (1 + sim_df.fillna(0)).cumprod()\n",
      "C:\\Users\\ranol\\OneDrive\\Desktop\\RUT-VIRT-FIN-PT-09-2023-U-LOLC\\02-Homework\\05-APIs\\Instructions\\Starter_Code\\MCForecastTools.py:117: PerformanceWarning: DataFrame is highly fragmented.  This is usually the result of calling `frame.insert` many times, which has poor performance.  Consider joining all columns at once using pd.concat(axis=1) instead. To get a de-fragmented frame, use `newframe = frame.copy()`\n",
      "  portfolio_cumulative_returns[n] = (1 + sim_df.fillna(0)).cumprod()\n"
     ]
    },
    {
     "name": "stdout",
     "output_type": "stream",
     "text": [
      "Running Monte Carlo simulation number 200.\n"
     ]
    },
    {
     "name": "stderr",
     "output_type": "stream",
     "text": [
      "C:\\Users\\ranol\\OneDrive\\Desktop\\RUT-VIRT-FIN-PT-09-2023-U-LOLC\\02-Homework\\05-APIs\\Instructions\\Starter_Code\\MCForecastTools.py:117: PerformanceWarning: DataFrame is highly fragmented.  This is usually the result of calling `frame.insert` many times, which has poor performance.  Consider joining all columns at once using pd.concat(axis=1) instead. To get a de-fragmented frame, use `newframe = frame.copy()`\n",
      "  portfolio_cumulative_returns[n] = (1 + sim_df.fillna(0)).cumprod()\n",
      "C:\\Users\\ranol\\OneDrive\\Desktop\\RUT-VIRT-FIN-PT-09-2023-U-LOLC\\02-Homework\\05-APIs\\Instructions\\Starter_Code\\MCForecastTools.py:117: PerformanceWarning: DataFrame is highly fragmented.  This is usually the result of calling `frame.insert` many times, which has poor performance.  Consider joining all columns at once using pd.concat(axis=1) instead. To get a de-fragmented frame, use `newframe = frame.copy()`\n",
      "  portfolio_cumulative_returns[n] = (1 + sim_df.fillna(0)).cumprod()\n",
      "C:\\Users\\ranol\\OneDrive\\Desktop\\RUT-VIRT-FIN-PT-09-2023-U-LOLC\\02-Homework\\05-APIs\\Instructions\\Starter_Code\\MCForecastTools.py:117: PerformanceWarning: DataFrame is highly fragmented.  This is usually the result of calling `frame.insert` many times, which has poor performance.  Consider joining all columns at once using pd.concat(axis=1) instead. To get a de-fragmented frame, use `newframe = frame.copy()`\n",
      "  portfolio_cumulative_returns[n] = (1 + sim_df.fillna(0)).cumprod()\n",
      "C:\\Users\\ranol\\OneDrive\\Desktop\\RUT-VIRT-FIN-PT-09-2023-U-LOLC\\02-Homework\\05-APIs\\Instructions\\Starter_Code\\MCForecastTools.py:117: PerformanceWarning: DataFrame is highly fragmented.  This is usually the result of calling `frame.insert` many times, which has poor performance.  Consider joining all columns at once using pd.concat(axis=1) instead. To get a de-fragmented frame, use `newframe = frame.copy()`\n",
      "  portfolio_cumulative_returns[n] = (1 + sim_df.fillna(0)).cumprod()\n",
      "C:\\Users\\ranol\\OneDrive\\Desktop\\RUT-VIRT-FIN-PT-09-2023-U-LOLC\\02-Homework\\05-APIs\\Instructions\\Starter_Code\\MCForecastTools.py:117: PerformanceWarning: DataFrame is highly fragmented.  This is usually the result of calling `frame.insert` many times, which has poor performance.  Consider joining all columns at once using pd.concat(axis=1) instead. To get a de-fragmented frame, use `newframe = frame.copy()`\n",
      "  portfolio_cumulative_returns[n] = (1 + sim_df.fillna(0)).cumprod()\n",
      "C:\\Users\\ranol\\OneDrive\\Desktop\\RUT-VIRT-FIN-PT-09-2023-U-LOLC\\02-Homework\\05-APIs\\Instructions\\Starter_Code\\MCForecastTools.py:117: PerformanceWarning: DataFrame is highly fragmented.  This is usually the result of calling `frame.insert` many times, which has poor performance.  Consider joining all columns at once using pd.concat(axis=1) instead. To get a de-fragmented frame, use `newframe = frame.copy()`\n",
      "  portfolio_cumulative_returns[n] = (1 + sim_df.fillna(0)).cumprod()\n",
      "C:\\Users\\ranol\\OneDrive\\Desktop\\RUT-VIRT-FIN-PT-09-2023-U-LOLC\\02-Homework\\05-APIs\\Instructions\\Starter_Code\\MCForecastTools.py:117: PerformanceWarning: DataFrame is highly fragmented.  This is usually the result of calling `frame.insert` many times, which has poor performance.  Consider joining all columns at once using pd.concat(axis=1) instead. To get a de-fragmented frame, use `newframe = frame.copy()`\n",
      "  portfolio_cumulative_returns[n] = (1 + sim_df.fillna(0)).cumprod()\n",
      "C:\\Users\\ranol\\OneDrive\\Desktop\\RUT-VIRT-FIN-PT-09-2023-U-LOLC\\02-Homework\\05-APIs\\Instructions\\Starter_Code\\MCForecastTools.py:117: PerformanceWarning: DataFrame is highly fragmented.  This is usually the result of calling `frame.insert` many times, which has poor performance.  Consider joining all columns at once using pd.concat(axis=1) instead. To get a de-fragmented frame, use `newframe = frame.copy()`\n",
      "  portfolio_cumulative_returns[n] = (1 + sim_df.fillna(0)).cumprod()\n",
      "C:\\Users\\ranol\\OneDrive\\Desktop\\RUT-VIRT-FIN-PT-09-2023-U-LOLC\\02-Homework\\05-APIs\\Instructions\\Starter_Code\\MCForecastTools.py:117: PerformanceWarning: DataFrame is highly fragmented.  This is usually the result of calling `frame.insert` many times, which has poor performance.  Consider joining all columns at once using pd.concat(axis=1) instead. To get a de-fragmented frame, use `newframe = frame.copy()`\n",
      "  portfolio_cumulative_returns[n] = (1 + sim_df.fillna(0)).cumprod()\n",
      "C:\\Users\\ranol\\OneDrive\\Desktop\\RUT-VIRT-FIN-PT-09-2023-U-LOLC\\02-Homework\\05-APIs\\Instructions\\Starter_Code\\MCForecastTools.py:117: PerformanceWarning: DataFrame is highly fragmented.  This is usually the result of calling `frame.insert` many times, which has poor performance.  Consider joining all columns at once using pd.concat(axis=1) instead. To get a de-fragmented frame, use `newframe = frame.copy()`\n",
      "  portfolio_cumulative_returns[n] = (1 + sim_df.fillna(0)).cumprod()\n",
      "C:\\Users\\ranol\\OneDrive\\Desktop\\RUT-VIRT-FIN-PT-09-2023-U-LOLC\\02-Homework\\05-APIs\\Instructions\\Starter_Code\\MCForecastTools.py:117: PerformanceWarning: DataFrame is highly fragmented.  This is usually the result of calling `frame.insert` many times, which has poor performance.  Consider joining all columns at once using pd.concat(axis=1) instead. To get a de-fragmented frame, use `newframe = frame.copy()`\n",
      "  portfolio_cumulative_returns[n] = (1 + sim_df.fillna(0)).cumprod()\n"
     ]
    },
    {
     "name": "stdout",
     "output_type": "stream",
     "text": [
      "Running Monte Carlo simulation number 210.\n"
     ]
    },
    {
     "name": "stderr",
     "output_type": "stream",
     "text": [
      "C:\\Users\\ranol\\OneDrive\\Desktop\\RUT-VIRT-FIN-PT-09-2023-U-LOLC\\02-Homework\\05-APIs\\Instructions\\Starter_Code\\MCForecastTools.py:117: PerformanceWarning: DataFrame is highly fragmented.  This is usually the result of calling `frame.insert` many times, which has poor performance.  Consider joining all columns at once using pd.concat(axis=1) instead. To get a de-fragmented frame, use `newframe = frame.copy()`\n",
      "  portfolio_cumulative_returns[n] = (1 + sim_df.fillna(0)).cumprod()\n",
      "C:\\Users\\ranol\\OneDrive\\Desktop\\RUT-VIRT-FIN-PT-09-2023-U-LOLC\\02-Homework\\05-APIs\\Instructions\\Starter_Code\\MCForecastTools.py:117: PerformanceWarning: DataFrame is highly fragmented.  This is usually the result of calling `frame.insert` many times, which has poor performance.  Consider joining all columns at once using pd.concat(axis=1) instead. To get a de-fragmented frame, use `newframe = frame.copy()`\n",
      "  portfolio_cumulative_returns[n] = (1 + sim_df.fillna(0)).cumprod()\n",
      "C:\\Users\\ranol\\OneDrive\\Desktop\\RUT-VIRT-FIN-PT-09-2023-U-LOLC\\02-Homework\\05-APIs\\Instructions\\Starter_Code\\MCForecastTools.py:117: PerformanceWarning: DataFrame is highly fragmented.  This is usually the result of calling `frame.insert` many times, which has poor performance.  Consider joining all columns at once using pd.concat(axis=1) instead. To get a de-fragmented frame, use `newframe = frame.copy()`\n",
      "  portfolio_cumulative_returns[n] = (1 + sim_df.fillna(0)).cumprod()\n",
      "C:\\Users\\ranol\\OneDrive\\Desktop\\RUT-VIRT-FIN-PT-09-2023-U-LOLC\\02-Homework\\05-APIs\\Instructions\\Starter_Code\\MCForecastTools.py:117: PerformanceWarning: DataFrame is highly fragmented.  This is usually the result of calling `frame.insert` many times, which has poor performance.  Consider joining all columns at once using pd.concat(axis=1) instead. To get a de-fragmented frame, use `newframe = frame.copy()`\n",
      "  portfolio_cumulative_returns[n] = (1 + sim_df.fillna(0)).cumprod()\n",
      "C:\\Users\\ranol\\OneDrive\\Desktop\\RUT-VIRT-FIN-PT-09-2023-U-LOLC\\02-Homework\\05-APIs\\Instructions\\Starter_Code\\MCForecastTools.py:117: PerformanceWarning: DataFrame is highly fragmented.  This is usually the result of calling `frame.insert` many times, which has poor performance.  Consider joining all columns at once using pd.concat(axis=1) instead. To get a de-fragmented frame, use `newframe = frame.copy()`\n",
      "  portfolio_cumulative_returns[n] = (1 + sim_df.fillna(0)).cumprod()\n",
      "C:\\Users\\ranol\\OneDrive\\Desktop\\RUT-VIRT-FIN-PT-09-2023-U-LOLC\\02-Homework\\05-APIs\\Instructions\\Starter_Code\\MCForecastTools.py:117: PerformanceWarning: DataFrame is highly fragmented.  This is usually the result of calling `frame.insert` many times, which has poor performance.  Consider joining all columns at once using pd.concat(axis=1) instead. To get a de-fragmented frame, use `newframe = frame.copy()`\n",
      "  portfolio_cumulative_returns[n] = (1 + sim_df.fillna(0)).cumprod()\n",
      "C:\\Users\\ranol\\OneDrive\\Desktop\\RUT-VIRT-FIN-PT-09-2023-U-LOLC\\02-Homework\\05-APIs\\Instructions\\Starter_Code\\MCForecastTools.py:117: PerformanceWarning: DataFrame is highly fragmented.  This is usually the result of calling `frame.insert` many times, which has poor performance.  Consider joining all columns at once using pd.concat(axis=1) instead. To get a de-fragmented frame, use `newframe = frame.copy()`\n",
      "  portfolio_cumulative_returns[n] = (1 + sim_df.fillna(0)).cumprod()\n"
     ]
    },
    {
     "name": "stdout",
     "output_type": "stream",
     "text": [
      "Running Monte Carlo simulation number 220.\n"
     ]
    },
    {
     "name": "stderr",
     "output_type": "stream",
     "text": [
      "C:\\Users\\ranol\\OneDrive\\Desktop\\RUT-VIRT-FIN-PT-09-2023-U-LOLC\\02-Homework\\05-APIs\\Instructions\\Starter_Code\\MCForecastTools.py:117: PerformanceWarning: DataFrame is highly fragmented.  This is usually the result of calling `frame.insert` many times, which has poor performance.  Consider joining all columns at once using pd.concat(axis=1) instead. To get a de-fragmented frame, use `newframe = frame.copy()`\n",
      "  portfolio_cumulative_returns[n] = (1 + sim_df.fillna(0)).cumprod()\n",
      "C:\\Users\\ranol\\OneDrive\\Desktop\\RUT-VIRT-FIN-PT-09-2023-U-LOLC\\02-Homework\\05-APIs\\Instructions\\Starter_Code\\MCForecastTools.py:117: PerformanceWarning: DataFrame is highly fragmented.  This is usually the result of calling `frame.insert` many times, which has poor performance.  Consider joining all columns at once using pd.concat(axis=1) instead. To get a de-fragmented frame, use `newframe = frame.copy()`\n",
      "  portfolio_cumulative_returns[n] = (1 + sim_df.fillna(0)).cumprod()\n",
      "C:\\Users\\ranol\\OneDrive\\Desktop\\RUT-VIRT-FIN-PT-09-2023-U-LOLC\\02-Homework\\05-APIs\\Instructions\\Starter_Code\\MCForecastTools.py:117: PerformanceWarning: DataFrame is highly fragmented.  This is usually the result of calling `frame.insert` many times, which has poor performance.  Consider joining all columns at once using pd.concat(axis=1) instead. To get a de-fragmented frame, use `newframe = frame.copy()`\n",
      "  portfolio_cumulative_returns[n] = (1 + sim_df.fillna(0)).cumprod()\n",
      "C:\\Users\\ranol\\OneDrive\\Desktop\\RUT-VIRT-FIN-PT-09-2023-U-LOLC\\02-Homework\\05-APIs\\Instructions\\Starter_Code\\MCForecastTools.py:117: PerformanceWarning: DataFrame is highly fragmented.  This is usually the result of calling `frame.insert` many times, which has poor performance.  Consider joining all columns at once using pd.concat(axis=1) instead. To get a de-fragmented frame, use `newframe = frame.copy()`\n",
      "  portfolio_cumulative_returns[n] = (1 + sim_df.fillna(0)).cumprod()\n",
      "C:\\Users\\ranol\\OneDrive\\Desktop\\RUT-VIRT-FIN-PT-09-2023-U-LOLC\\02-Homework\\05-APIs\\Instructions\\Starter_Code\\MCForecastTools.py:117: PerformanceWarning: DataFrame is highly fragmented.  This is usually the result of calling `frame.insert` many times, which has poor performance.  Consider joining all columns at once using pd.concat(axis=1) instead. To get a de-fragmented frame, use `newframe = frame.copy()`\n",
      "  portfolio_cumulative_returns[n] = (1 + sim_df.fillna(0)).cumprod()\n",
      "C:\\Users\\ranol\\OneDrive\\Desktop\\RUT-VIRT-FIN-PT-09-2023-U-LOLC\\02-Homework\\05-APIs\\Instructions\\Starter_Code\\MCForecastTools.py:117: PerformanceWarning: DataFrame is highly fragmented.  This is usually the result of calling `frame.insert` many times, which has poor performance.  Consider joining all columns at once using pd.concat(axis=1) instead. To get a de-fragmented frame, use `newframe = frame.copy()`\n",
      "  portfolio_cumulative_returns[n] = (1 + sim_df.fillna(0)).cumprod()\n",
      "C:\\Users\\ranol\\OneDrive\\Desktop\\RUT-VIRT-FIN-PT-09-2023-U-LOLC\\02-Homework\\05-APIs\\Instructions\\Starter_Code\\MCForecastTools.py:117: PerformanceWarning: DataFrame is highly fragmented.  This is usually the result of calling `frame.insert` many times, which has poor performance.  Consider joining all columns at once using pd.concat(axis=1) instead. To get a de-fragmented frame, use `newframe = frame.copy()`\n",
      "  portfolio_cumulative_returns[n] = (1 + sim_df.fillna(0)).cumprod()\n",
      "C:\\Users\\ranol\\OneDrive\\Desktop\\RUT-VIRT-FIN-PT-09-2023-U-LOLC\\02-Homework\\05-APIs\\Instructions\\Starter_Code\\MCForecastTools.py:117: PerformanceWarning: DataFrame is highly fragmented.  This is usually the result of calling `frame.insert` many times, which has poor performance.  Consider joining all columns at once using pd.concat(axis=1) instead. To get a de-fragmented frame, use `newframe = frame.copy()`\n",
      "  portfolio_cumulative_returns[n] = (1 + sim_df.fillna(0)).cumprod()\n",
      "C:\\Users\\ranol\\OneDrive\\Desktop\\RUT-VIRT-FIN-PT-09-2023-U-LOLC\\02-Homework\\05-APIs\\Instructions\\Starter_Code\\MCForecastTools.py:117: PerformanceWarning: DataFrame is highly fragmented.  This is usually the result of calling `frame.insert` many times, which has poor performance.  Consider joining all columns at once using pd.concat(axis=1) instead. To get a de-fragmented frame, use `newframe = frame.copy()`\n",
      "  portfolio_cumulative_returns[n] = (1 + sim_df.fillna(0)).cumprod()\n",
      "C:\\Users\\ranol\\OneDrive\\Desktop\\RUT-VIRT-FIN-PT-09-2023-U-LOLC\\02-Homework\\05-APIs\\Instructions\\Starter_Code\\MCForecastTools.py:117: PerformanceWarning: DataFrame is highly fragmented.  This is usually the result of calling `frame.insert` many times, which has poor performance.  Consider joining all columns at once using pd.concat(axis=1) instead. To get a de-fragmented frame, use `newframe = frame.copy()`\n",
      "  portfolio_cumulative_returns[n] = (1 + sim_df.fillna(0)).cumprod()\n",
      "C:\\Users\\ranol\\OneDrive\\Desktop\\RUT-VIRT-FIN-PT-09-2023-U-LOLC\\02-Homework\\05-APIs\\Instructions\\Starter_Code\\MCForecastTools.py:117: PerformanceWarning: DataFrame is highly fragmented.  This is usually the result of calling `frame.insert` many times, which has poor performance.  Consider joining all columns at once using pd.concat(axis=1) instead. To get a de-fragmented frame, use `newframe = frame.copy()`\n",
      "  portfolio_cumulative_returns[n] = (1 + sim_df.fillna(0)).cumprod()\n",
      "C:\\Users\\ranol\\OneDrive\\Desktop\\RUT-VIRT-FIN-PT-09-2023-U-LOLC\\02-Homework\\05-APIs\\Instructions\\Starter_Code\\MCForecastTools.py:117: PerformanceWarning: DataFrame is highly fragmented.  This is usually the result of calling `frame.insert` many times, which has poor performance.  Consider joining all columns at once using pd.concat(axis=1) instead. To get a de-fragmented frame, use `newframe = frame.copy()`\n",
      "  portfolio_cumulative_returns[n] = (1 + sim_df.fillna(0)).cumprod()\n",
      "C:\\Users\\ranol\\OneDrive\\Desktop\\RUT-VIRT-FIN-PT-09-2023-U-LOLC\\02-Homework\\05-APIs\\Instructions\\Starter_Code\\MCForecastTools.py:117: PerformanceWarning: DataFrame is highly fragmented.  This is usually the result of calling `frame.insert` many times, which has poor performance.  Consider joining all columns at once using pd.concat(axis=1) instead. To get a de-fragmented frame, use `newframe = frame.copy()`\n",
      "  portfolio_cumulative_returns[n] = (1 + sim_df.fillna(0)).cumprod()\n",
      "C:\\Users\\ranol\\OneDrive\\Desktop\\RUT-VIRT-FIN-PT-09-2023-U-LOLC\\02-Homework\\05-APIs\\Instructions\\Starter_Code\\MCForecastTools.py:117: PerformanceWarning: DataFrame is highly fragmented.  This is usually the result of calling `frame.insert` many times, which has poor performance.  Consider joining all columns at once using pd.concat(axis=1) instead. To get a de-fragmented frame, use `newframe = frame.copy()`\n",
      "  portfolio_cumulative_returns[n] = (1 + sim_df.fillna(0)).cumprod()\n",
      "C:\\Users\\ranol\\OneDrive\\Desktop\\RUT-VIRT-FIN-PT-09-2023-U-LOLC\\02-Homework\\05-APIs\\Instructions\\Starter_Code\\MCForecastTools.py:117: PerformanceWarning: DataFrame is highly fragmented.  This is usually the result of calling `frame.insert` many times, which has poor performance.  Consider joining all columns at once using pd.concat(axis=1) instead. To get a de-fragmented frame, use `newframe = frame.copy()`\n",
      "  portfolio_cumulative_returns[n] = (1 + sim_df.fillna(0)).cumprod()\n",
      "C:\\Users\\ranol\\OneDrive\\Desktop\\RUT-VIRT-FIN-PT-09-2023-U-LOLC\\02-Homework\\05-APIs\\Instructions\\Starter_Code\\MCForecastTools.py:117: PerformanceWarning: DataFrame is highly fragmented.  This is usually the result of calling `frame.insert` many times, which has poor performance.  Consider joining all columns at once using pd.concat(axis=1) instead. To get a de-fragmented frame, use `newframe = frame.copy()`\n",
      "  portfolio_cumulative_returns[n] = (1 + sim_df.fillna(0)).cumprod()\n",
      "C:\\Users\\ranol\\OneDrive\\Desktop\\RUT-VIRT-FIN-PT-09-2023-U-LOLC\\02-Homework\\05-APIs\\Instructions\\Starter_Code\\MCForecastTools.py:117: PerformanceWarning: DataFrame is highly fragmented.  This is usually the result of calling `frame.insert` many times, which has poor performance.  Consider joining all columns at once using pd.concat(axis=1) instead. To get a de-fragmented frame, use `newframe = frame.copy()`\n",
      "  portfolio_cumulative_returns[n] = (1 + sim_df.fillna(0)).cumprod()\n"
     ]
    },
    {
     "name": "stdout",
     "output_type": "stream",
     "text": [
      "Running Monte Carlo simulation number 230.\n"
     ]
    },
    {
     "name": "stderr",
     "output_type": "stream",
     "text": [
      "C:\\Users\\ranol\\OneDrive\\Desktop\\RUT-VIRT-FIN-PT-09-2023-U-LOLC\\02-Homework\\05-APIs\\Instructions\\Starter_Code\\MCForecastTools.py:117: PerformanceWarning: DataFrame is highly fragmented.  This is usually the result of calling `frame.insert` many times, which has poor performance.  Consider joining all columns at once using pd.concat(axis=1) instead. To get a de-fragmented frame, use `newframe = frame.copy()`\n",
      "  portfolio_cumulative_returns[n] = (1 + sim_df.fillna(0)).cumprod()\n",
      "C:\\Users\\ranol\\OneDrive\\Desktop\\RUT-VIRT-FIN-PT-09-2023-U-LOLC\\02-Homework\\05-APIs\\Instructions\\Starter_Code\\MCForecastTools.py:117: PerformanceWarning: DataFrame is highly fragmented.  This is usually the result of calling `frame.insert` many times, which has poor performance.  Consider joining all columns at once using pd.concat(axis=1) instead. To get a de-fragmented frame, use `newframe = frame.copy()`\n",
      "  portfolio_cumulative_returns[n] = (1 + sim_df.fillna(0)).cumprod()\n",
      "C:\\Users\\ranol\\OneDrive\\Desktop\\RUT-VIRT-FIN-PT-09-2023-U-LOLC\\02-Homework\\05-APIs\\Instructions\\Starter_Code\\MCForecastTools.py:117: PerformanceWarning: DataFrame is highly fragmented.  This is usually the result of calling `frame.insert` many times, which has poor performance.  Consider joining all columns at once using pd.concat(axis=1) instead. To get a de-fragmented frame, use `newframe = frame.copy()`\n",
      "  portfolio_cumulative_returns[n] = (1 + sim_df.fillna(0)).cumprod()\n",
      "C:\\Users\\ranol\\OneDrive\\Desktop\\RUT-VIRT-FIN-PT-09-2023-U-LOLC\\02-Homework\\05-APIs\\Instructions\\Starter_Code\\MCForecastTools.py:117: PerformanceWarning: DataFrame is highly fragmented.  This is usually the result of calling `frame.insert` many times, which has poor performance.  Consider joining all columns at once using pd.concat(axis=1) instead. To get a de-fragmented frame, use `newframe = frame.copy()`\n",
      "  portfolio_cumulative_returns[n] = (1 + sim_df.fillna(0)).cumprod()\n",
      "C:\\Users\\ranol\\OneDrive\\Desktop\\RUT-VIRT-FIN-PT-09-2023-U-LOLC\\02-Homework\\05-APIs\\Instructions\\Starter_Code\\MCForecastTools.py:117: PerformanceWarning: DataFrame is highly fragmented.  This is usually the result of calling `frame.insert` many times, which has poor performance.  Consider joining all columns at once using pd.concat(axis=1) instead. To get a de-fragmented frame, use `newframe = frame.copy()`\n",
      "  portfolio_cumulative_returns[n] = (1 + sim_df.fillna(0)).cumprod()\n",
      "C:\\Users\\ranol\\OneDrive\\Desktop\\RUT-VIRT-FIN-PT-09-2023-U-LOLC\\02-Homework\\05-APIs\\Instructions\\Starter_Code\\MCForecastTools.py:117: PerformanceWarning: DataFrame is highly fragmented.  This is usually the result of calling `frame.insert` many times, which has poor performance.  Consider joining all columns at once using pd.concat(axis=1) instead. To get a de-fragmented frame, use `newframe = frame.copy()`\n",
      "  portfolio_cumulative_returns[n] = (1 + sim_df.fillna(0)).cumprod()\n",
      "C:\\Users\\ranol\\OneDrive\\Desktop\\RUT-VIRT-FIN-PT-09-2023-U-LOLC\\02-Homework\\05-APIs\\Instructions\\Starter_Code\\MCForecastTools.py:117: PerformanceWarning: DataFrame is highly fragmented.  This is usually the result of calling `frame.insert` many times, which has poor performance.  Consider joining all columns at once using pd.concat(axis=1) instead. To get a de-fragmented frame, use `newframe = frame.copy()`\n",
      "  portfolio_cumulative_returns[n] = (1 + sim_df.fillna(0)).cumprod()\n",
      "C:\\Users\\ranol\\OneDrive\\Desktop\\RUT-VIRT-FIN-PT-09-2023-U-LOLC\\02-Homework\\05-APIs\\Instructions\\Starter_Code\\MCForecastTools.py:117: PerformanceWarning: DataFrame is highly fragmented.  This is usually the result of calling `frame.insert` many times, which has poor performance.  Consider joining all columns at once using pd.concat(axis=1) instead. To get a de-fragmented frame, use `newframe = frame.copy()`\n",
      "  portfolio_cumulative_returns[n] = (1 + sim_df.fillna(0)).cumprod()\n",
      "C:\\Users\\ranol\\OneDrive\\Desktop\\RUT-VIRT-FIN-PT-09-2023-U-LOLC\\02-Homework\\05-APIs\\Instructions\\Starter_Code\\MCForecastTools.py:117: PerformanceWarning: DataFrame is highly fragmented.  This is usually the result of calling `frame.insert` many times, which has poor performance.  Consider joining all columns at once using pd.concat(axis=1) instead. To get a de-fragmented frame, use `newframe = frame.copy()`\n",
      "  portfolio_cumulative_returns[n] = (1 + sim_df.fillna(0)).cumprod()\n"
     ]
    },
    {
     "name": "stdout",
     "output_type": "stream",
     "text": [
      "Running Monte Carlo simulation number 240.\n"
     ]
    },
    {
     "name": "stderr",
     "output_type": "stream",
     "text": [
      "C:\\Users\\ranol\\OneDrive\\Desktop\\RUT-VIRT-FIN-PT-09-2023-U-LOLC\\02-Homework\\05-APIs\\Instructions\\Starter_Code\\MCForecastTools.py:117: PerformanceWarning: DataFrame is highly fragmented.  This is usually the result of calling `frame.insert` many times, which has poor performance.  Consider joining all columns at once using pd.concat(axis=1) instead. To get a de-fragmented frame, use `newframe = frame.copy()`\n",
      "  portfolio_cumulative_returns[n] = (1 + sim_df.fillna(0)).cumprod()\n",
      "C:\\Users\\ranol\\OneDrive\\Desktop\\RUT-VIRT-FIN-PT-09-2023-U-LOLC\\02-Homework\\05-APIs\\Instructions\\Starter_Code\\MCForecastTools.py:117: PerformanceWarning: DataFrame is highly fragmented.  This is usually the result of calling `frame.insert` many times, which has poor performance.  Consider joining all columns at once using pd.concat(axis=1) instead. To get a de-fragmented frame, use `newframe = frame.copy()`\n",
      "  portfolio_cumulative_returns[n] = (1 + sim_df.fillna(0)).cumprod()\n",
      "C:\\Users\\ranol\\OneDrive\\Desktop\\RUT-VIRT-FIN-PT-09-2023-U-LOLC\\02-Homework\\05-APIs\\Instructions\\Starter_Code\\MCForecastTools.py:117: PerformanceWarning: DataFrame is highly fragmented.  This is usually the result of calling `frame.insert` many times, which has poor performance.  Consider joining all columns at once using pd.concat(axis=1) instead. To get a de-fragmented frame, use `newframe = frame.copy()`\n",
      "  portfolio_cumulative_returns[n] = (1 + sim_df.fillna(0)).cumprod()\n",
      "C:\\Users\\ranol\\OneDrive\\Desktop\\RUT-VIRT-FIN-PT-09-2023-U-LOLC\\02-Homework\\05-APIs\\Instructions\\Starter_Code\\MCForecastTools.py:117: PerformanceWarning: DataFrame is highly fragmented.  This is usually the result of calling `frame.insert` many times, which has poor performance.  Consider joining all columns at once using pd.concat(axis=1) instead. To get a de-fragmented frame, use `newframe = frame.copy()`\n",
      "  portfolio_cumulative_returns[n] = (1 + sim_df.fillna(0)).cumprod()\n",
      "C:\\Users\\ranol\\OneDrive\\Desktop\\RUT-VIRT-FIN-PT-09-2023-U-LOLC\\02-Homework\\05-APIs\\Instructions\\Starter_Code\\MCForecastTools.py:117: PerformanceWarning: DataFrame is highly fragmented.  This is usually the result of calling `frame.insert` many times, which has poor performance.  Consider joining all columns at once using pd.concat(axis=1) instead. To get a de-fragmented frame, use `newframe = frame.copy()`\n",
      "  portfolio_cumulative_returns[n] = (1 + sim_df.fillna(0)).cumprod()\n",
      "C:\\Users\\ranol\\OneDrive\\Desktop\\RUT-VIRT-FIN-PT-09-2023-U-LOLC\\02-Homework\\05-APIs\\Instructions\\Starter_Code\\MCForecastTools.py:117: PerformanceWarning: DataFrame is highly fragmented.  This is usually the result of calling `frame.insert` many times, which has poor performance.  Consider joining all columns at once using pd.concat(axis=1) instead. To get a de-fragmented frame, use `newframe = frame.copy()`\n",
      "  portfolio_cumulative_returns[n] = (1 + sim_df.fillna(0)).cumprod()\n",
      "C:\\Users\\ranol\\OneDrive\\Desktop\\RUT-VIRT-FIN-PT-09-2023-U-LOLC\\02-Homework\\05-APIs\\Instructions\\Starter_Code\\MCForecastTools.py:117: PerformanceWarning: DataFrame is highly fragmented.  This is usually the result of calling `frame.insert` many times, which has poor performance.  Consider joining all columns at once using pd.concat(axis=1) instead. To get a de-fragmented frame, use `newframe = frame.copy()`\n",
      "  portfolio_cumulative_returns[n] = (1 + sim_df.fillna(0)).cumprod()\n",
      "C:\\Users\\ranol\\OneDrive\\Desktop\\RUT-VIRT-FIN-PT-09-2023-U-LOLC\\02-Homework\\05-APIs\\Instructions\\Starter_Code\\MCForecastTools.py:117: PerformanceWarning: DataFrame is highly fragmented.  This is usually the result of calling `frame.insert` many times, which has poor performance.  Consider joining all columns at once using pd.concat(axis=1) instead. To get a de-fragmented frame, use `newframe = frame.copy()`\n",
      "  portfolio_cumulative_returns[n] = (1 + sim_df.fillna(0)).cumprod()\n"
     ]
    },
    {
     "name": "stdout",
     "output_type": "stream",
     "text": [
      "Running Monte Carlo simulation number 250.\n"
     ]
    },
    {
     "name": "stderr",
     "output_type": "stream",
     "text": [
      "C:\\Users\\ranol\\OneDrive\\Desktop\\RUT-VIRT-FIN-PT-09-2023-U-LOLC\\02-Homework\\05-APIs\\Instructions\\Starter_Code\\MCForecastTools.py:117: PerformanceWarning: DataFrame is highly fragmented.  This is usually the result of calling `frame.insert` many times, which has poor performance.  Consider joining all columns at once using pd.concat(axis=1) instead. To get a de-fragmented frame, use `newframe = frame.copy()`\n",
      "  portfolio_cumulative_returns[n] = (1 + sim_df.fillna(0)).cumprod()\n",
      "C:\\Users\\ranol\\OneDrive\\Desktop\\RUT-VIRT-FIN-PT-09-2023-U-LOLC\\02-Homework\\05-APIs\\Instructions\\Starter_Code\\MCForecastTools.py:117: PerformanceWarning: DataFrame is highly fragmented.  This is usually the result of calling `frame.insert` many times, which has poor performance.  Consider joining all columns at once using pd.concat(axis=1) instead. To get a de-fragmented frame, use `newframe = frame.copy()`\n",
      "  portfolio_cumulative_returns[n] = (1 + sim_df.fillna(0)).cumprod()\n",
      "C:\\Users\\ranol\\OneDrive\\Desktop\\RUT-VIRT-FIN-PT-09-2023-U-LOLC\\02-Homework\\05-APIs\\Instructions\\Starter_Code\\MCForecastTools.py:117: PerformanceWarning: DataFrame is highly fragmented.  This is usually the result of calling `frame.insert` many times, which has poor performance.  Consider joining all columns at once using pd.concat(axis=1) instead. To get a de-fragmented frame, use `newframe = frame.copy()`\n",
      "  portfolio_cumulative_returns[n] = (1 + sim_df.fillna(0)).cumprod()\n",
      "C:\\Users\\ranol\\OneDrive\\Desktop\\RUT-VIRT-FIN-PT-09-2023-U-LOLC\\02-Homework\\05-APIs\\Instructions\\Starter_Code\\MCForecastTools.py:117: PerformanceWarning: DataFrame is highly fragmented.  This is usually the result of calling `frame.insert` many times, which has poor performance.  Consider joining all columns at once using pd.concat(axis=1) instead. To get a de-fragmented frame, use `newframe = frame.copy()`\n",
      "  portfolio_cumulative_returns[n] = (1 + sim_df.fillna(0)).cumprod()\n",
      "C:\\Users\\ranol\\OneDrive\\Desktop\\RUT-VIRT-FIN-PT-09-2023-U-LOLC\\02-Homework\\05-APIs\\Instructions\\Starter_Code\\MCForecastTools.py:117: PerformanceWarning: DataFrame is highly fragmented.  This is usually the result of calling `frame.insert` many times, which has poor performance.  Consider joining all columns at once using pd.concat(axis=1) instead. To get a de-fragmented frame, use `newframe = frame.copy()`\n",
      "  portfolio_cumulative_returns[n] = (1 + sim_df.fillna(0)).cumprod()\n",
      "C:\\Users\\ranol\\OneDrive\\Desktop\\RUT-VIRT-FIN-PT-09-2023-U-LOLC\\02-Homework\\05-APIs\\Instructions\\Starter_Code\\MCForecastTools.py:117: PerformanceWarning: DataFrame is highly fragmented.  This is usually the result of calling `frame.insert` many times, which has poor performance.  Consider joining all columns at once using pd.concat(axis=1) instead. To get a de-fragmented frame, use `newframe = frame.copy()`\n",
      "  portfolio_cumulative_returns[n] = (1 + sim_df.fillna(0)).cumprod()\n",
      "C:\\Users\\ranol\\OneDrive\\Desktop\\RUT-VIRT-FIN-PT-09-2023-U-LOLC\\02-Homework\\05-APIs\\Instructions\\Starter_Code\\MCForecastTools.py:117: PerformanceWarning: DataFrame is highly fragmented.  This is usually the result of calling `frame.insert` many times, which has poor performance.  Consider joining all columns at once using pd.concat(axis=1) instead. To get a de-fragmented frame, use `newframe = frame.copy()`\n",
      "  portfolio_cumulative_returns[n] = (1 + sim_df.fillna(0)).cumprod()\n",
      "C:\\Users\\ranol\\OneDrive\\Desktop\\RUT-VIRT-FIN-PT-09-2023-U-LOLC\\02-Homework\\05-APIs\\Instructions\\Starter_Code\\MCForecastTools.py:117: PerformanceWarning: DataFrame is highly fragmented.  This is usually the result of calling `frame.insert` many times, which has poor performance.  Consider joining all columns at once using pd.concat(axis=1) instead. To get a de-fragmented frame, use `newframe = frame.copy()`\n",
      "  portfolio_cumulative_returns[n] = (1 + sim_df.fillna(0)).cumprod()\n",
      "C:\\Users\\ranol\\OneDrive\\Desktop\\RUT-VIRT-FIN-PT-09-2023-U-LOLC\\02-Homework\\05-APIs\\Instructions\\Starter_Code\\MCForecastTools.py:117: PerformanceWarning: DataFrame is highly fragmented.  This is usually the result of calling `frame.insert` many times, which has poor performance.  Consider joining all columns at once using pd.concat(axis=1) instead. To get a de-fragmented frame, use `newframe = frame.copy()`\n",
      "  portfolio_cumulative_returns[n] = (1 + sim_df.fillna(0)).cumprod()\n"
     ]
    },
    {
     "name": "stdout",
     "output_type": "stream",
     "text": [
      "Running Monte Carlo simulation number 260.\n"
     ]
    },
    {
     "name": "stderr",
     "output_type": "stream",
     "text": [
      "C:\\Users\\ranol\\OneDrive\\Desktop\\RUT-VIRT-FIN-PT-09-2023-U-LOLC\\02-Homework\\05-APIs\\Instructions\\Starter_Code\\MCForecastTools.py:117: PerformanceWarning: DataFrame is highly fragmented.  This is usually the result of calling `frame.insert` many times, which has poor performance.  Consider joining all columns at once using pd.concat(axis=1) instead. To get a de-fragmented frame, use `newframe = frame.copy()`\n",
      "  portfolio_cumulative_returns[n] = (1 + sim_df.fillna(0)).cumprod()\n",
      "C:\\Users\\ranol\\OneDrive\\Desktop\\RUT-VIRT-FIN-PT-09-2023-U-LOLC\\02-Homework\\05-APIs\\Instructions\\Starter_Code\\MCForecastTools.py:117: PerformanceWarning: DataFrame is highly fragmented.  This is usually the result of calling `frame.insert` many times, which has poor performance.  Consider joining all columns at once using pd.concat(axis=1) instead. To get a de-fragmented frame, use `newframe = frame.copy()`\n",
      "  portfolio_cumulative_returns[n] = (1 + sim_df.fillna(0)).cumprod()\n",
      "C:\\Users\\ranol\\OneDrive\\Desktop\\RUT-VIRT-FIN-PT-09-2023-U-LOLC\\02-Homework\\05-APIs\\Instructions\\Starter_Code\\MCForecastTools.py:117: PerformanceWarning: DataFrame is highly fragmented.  This is usually the result of calling `frame.insert` many times, which has poor performance.  Consider joining all columns at once using pd.concat(axis=1) instead. To get a de-fragmented frame, use `newframe = frame.copy()`\n",
      "  portfolio_cumulative_returns[n] = (1 + sim_df.fillna(0)).cumprod()\n",
      "C:\\Users\\ranol\\OneDrive\\Desktop\\RUT-VIRT-FIN-PT-09-2023-U-LOLC\\02-Homework\\05-APIs\\Instructions\\Starter_Code\\MCForecastTools.py:117: PerformanceWarning: DataFrame is highly fragmented.  This is usually the result of calling `frame.insert` many times, which has poor performance.  Consider joining all columns at once using pd.concat(axis=1) instead. To get a de-fragmented frame, use `newframe = frame.copy()`\n",
      "  portfolio_cumulative_returns[n] = (1 + sim_df.fillna(0)).cumprod()\n",
      "C:\\Users\\ranol\\OneDrive\\Desktop\\RUT-VIRT-FIN-PT-09-2023-U-LOLC\\02-Homework\\05-APIs\\Instructions\\Starter_Code\\MCForecastTools.py:117: PerformanceWarning: DataFrame is highly fragmented.  This is usually the result of calling `frame.insert` many times, which has poor performance.  Consider joining all columns at once using pd.concat(axis=1) instead. To get a de-fragmented frame, use `newframe = frame.copy()`\n",
      "  portfolio_cumulative_returns[n] = (1 + sim_df.fillna(0)).cumprod()\n",
      "C:\\Users\\ranol\\OneDrive\\Desktop\\RUT-VIRT-FIN-PT-09-2023-U-LOLC\\02-Homework\\05-APIs\\Instructions\\Starter_Code\\MCForecastTools.py:117: PerformanceWarning: DataFrame is highly fragmented.  This is usually the result of calling `frame.insert` many times, which has poor performance.  Consider joining all columns at once using pd.concat(axis=1) instead. To get a de-fragmented frame, use `newframe = frame.copy()`\n",
      "  portfolio_cumulative_returns[n] = (1 + sim_df.fillna(0)).cumprod()\n",
      "C:\\Users\\ranol\\OneDrive\\Desktop\\RUT-VIRT-FIN-PT-09-2023-U-LOLC\\02-Homework\\05-APIs\\Instructions\\Starter_Code\\MCForecastTools.py:117: PerformanceWarning: DataFrame is highly fragmented.  This is usually the result of calling `frame.insert` many times, which has poor performance.  Consider joining all columns at once using pd.concat(axis=1) instead. To get a de-fragmented frame, use `newframe = frame.copy()`\n",
      "  portfolio_cumulative_returns[n] = (1 + sim_df.fillna(0)).cumprod()\n",
      "C:\\Users\\ranol\\OneDrive\\Desktop\\RUT-VIRT-FIN-PT-09-2023-U-LOLC\\02-Homework\\05-APIs\\Instructions\\Starter_Code\\MCForecastTools.py:117: PerformanceWarning: DataFrame is highly fragmented.  This is usually the result of calling `frame.insert` many times, which has poor performance.  Consider joining all columns at once using pd.concat(axis=1) instead. To get a de-fragmented frame, use `newframe = frame.copy()`\n",
      "  portfolio_cumulative_returns[n] = (1 + sim_df.fillna(0)).cumprod()\n",
      "C:\\Users\\ranol\\OneDrive\\Desktop\\RUT-VIRT-FIN-PT-09-2023-U-LOLC\\02-Homework\\05-APIs\\Instructions\\Starter_Code\\MCForecastTools.py:117: PerformanceWarning: DataFrame is highly fragmented.  This is usually the result of calling `frame.insert` many times, which has poor performance.  Consider joining all columns at once using pd.concat(axis=1) instead. To get a de-fragmented frame, use `newframe = frame.copy()`\n",
      "  portfolio_cumulative_returns[n] = (1 + sim_df.fillna(0)).cumprod()\n",
      "C:\\Users\\ranol\\OneDrive\\Desktop\\RUT-VIRT-FIN-PT-09-2023-U-LOLC\\02-Homework\\05-APIs\\Instructions\\Starter_Code\\MCForecastTools.py:117: PerformanceWarning: DataFrame is highly fragmented.  This is usually the result of calling `frame.insert` many times, which has poor performance.  Consider joining all columns at once using pd.concat(axis=1) instead. To get a de-fragmented frame, use `newframe = frame.copy()`\n",
      "  portfolio_cumulative_returns[n] = (1 + sim_df.fillna(0)).cumprod()\n"
     ]
    },
    {
     "name": "stdout",
     "output_type": "stream",
     "text": [
      "Running Monte Carlo simulation number 270.\n"
     ]
    },
    {
     "name": "stderr",
     "output_type": "stream",
     "text": [
      "C:\\Users\\ranol\\OneDrive\\Desktop\\RUT-VIRT-FIN-PT-09-2023-U-LOLC\\02-Homework\\05-APIs\\Instructions\\Starter_Code\\MCForecastTools.py:117: PerformanceWarning: DataFrame is highly fragmented.  This is usually the result of calling `frame.insert` many times, which has poor performance.  Consider joining all columns at once using pd.concat(axis=1) instead. To get a de-fragmented frame, use `newframe = frame.copy()`\n",
      "  portfolio_cumulative_returns[n] = (1 + sim_df.fillna(0)).cumprod()\n",
      "C:\\Users\\ranol\\OneDrive\\Desktop\\RUT-VIRT-FIN-PT-09-2023-U-LOLC\\02-Homework\\05-APIs\\Instructions\\Starter_Code\\MCForecastTools.py:117: PerformanceWarning: DataFrame is highly fragmented.  This is usually the result of calling `frame.insert` many times, which has poor performance.  Consider joining all columns at once using pd.concat(axis=1) instead. To get a de-fragmented frame, use `newframe = frame.copy()`\n",
      "  portfolio_cumulative_returns[n] = (1 + sim_df.fillna(0)).cumprod()\n",
      "C:\\Users\\ranol\\OneDrive\\Desktop\\RUT-VIRT-FIN-PT-09-2023-U-LOLC\\02-Homework\\05-APIs\\Instructions\\Starter_Code\\MCForecastTools.py:117: PerformanceWarning: DataFrame is highly fragmented.  This is usually the result of calling `frame.insert` many times, which has poor performance.  Consider joining all columns at once using pd.concat(axis=1) instead. To get a de-fragmented frame, use `newframe = frame.copy()`\n",
      "  portfolio_cumulative_returns[n] = (1 + sim_df.fillna(0)).cumprod()\n",
      "C:\\Users\\ranol\\OneDrive\\Desktop\\RUT-VIRT-FIN-PT-09-2023-U-LOLC\\02-Homework\\05-APIs\\Instructions\\Starter_Code\\MCForecastTools.py:117: PerformanceWarning: DataFrame is highly fragmented.  This is usually the result of calling `frame.insert` many times, which has poor performance.  Consider joining all columns at once using pd.concat(axis=1) instead. To get a de-fragmented frame, use `newframe = frame.copy()`\n",
      "  portfolio_cumulative_returns[n] = (1 + sim_df.fillna(0)).cumprod()\n",
      "C:\\Users\\ranol\\OneDrive\\Desktop\\RUT-VIRT-FIN-PT-09-2023-U-LOLC\\02-Homework\\05-APIs\\Instructions\\Starter_Code\\MCForecastTools.py:117: PerformanceWarning: DataFrame is highly fragmented.  This is usually the result of calling `frame.insert` many times, which has poor performance.  Consider joining all columns at once using pd.concat(axis=1) instead. To get a de-fragmented frame, use `newframe = frame.copy()`\n",
      "  portfolio_cumulative_returns[n] = (1 + sim_df.fillna(0)).cumprod()\n",
      "C:\\Users\\ranol\\OneDrive\\Desktop\\RUT-VIRT-FIN-PT-09-2023-U-LOLC\\02-Homework\\05-APIs\\Instructions\\Starter_Code\\MCForecastTools.py:117: PerformanceWarning: DataFrame is highly fragmented.  This is usually the result of calling `frame.insert` many times, which has poor performance.  Consider joining all columns at once using pd.concat(axis=1) instead. To get a de-fragmented frame, use `newframe = frame.copy()`\n",
      "  portfolio_cumulative_returns[n] = (1 + sim_df.fillna(0)).cumprod()\n",
      "C:\\Users\\ranol\\OneDrive\\Desktop\\RUT-VIRT-FIN-PT-09-2023-U-LOLC\\02-Homework\\05-APIs\\Instructions\\Starter_Code\\MCForecastTools.py:117: PerformanceWarning: DataFrame is highly fragmented.  This is usually the result of calling `frame.insert` many times, which has poor performance.  Consider joining all columns at once using pd.concat(axis=1) instead. To get a de-fragmented frame, use `newframe = frame.copy()`\n",
      "  portfolio_cumulative_returns[n] = (1 + sim_df.fillna(0)).cumprod()\n"
     ]
    },
    {
     "name": "stdout",
     "output_type": "stream",
     "text": [
      "Running Monte Carlo simulation number 280.\n"
     ]
    },
    {
     "name": "stderr",
     "output_type": "stream",
     "text": [
      "C:\\Users\\ranol\\OneDrive\\Desktop\\RUT-VIRT-FIN-PT-09-2023-U-LOLC\\02-Homework\\05-APIs\\Instructions\\Starter_Code\\MCForecastTools.py:117: PerformanceWarning: DataFrame is highly fragmented.  This is usually the result of calling `frame.insert` many times, which has poor performance.  Consider joining all columns at once using pd.concat(axis=1) instead. To get a de-fragmented frame, use `newframe = frame.copy()`\n",
      "  portfolio_cumulative_returns[n] = (1 + sim_df.fillna(0)).cumprod()\n",
      "C:\\Users\\ranol\\OneDrive\\Desktop\\RUT-VIRT-FIN-PT-09-2023-U-LOLC\\02-Homework\\05-APIs\\Instructions\\Starter_Code\\MCForecastTools.py:117: PerformanceWarning: DataFrame is highly fragmented.  This is usually the result of calling `frame.insert` many times, which has poor performance.  Consider joining all columns at once using pd.concat(axis=1) instead. To get a de-fragmented frame, use `newframe = frame.copy()`\n",
      "  portfolio_cumulative_returns[n] = (1 + sim_df.fillna(0)).cumprod()\n",
      "C:\\Users\\ranol\\OneDrive\\Desktop\\RUT-VIRT-FIN-PT-09-2023-U-LOLC\\02-Homework\\05-APIs\\Instructions\\Starter_Code\\MCForecastTools.py:117: PerformanceWarning: DataFrame is highly fragmented.  This is usually the result of calling `frame.insert` many times, which has poor performance.  Consider joining all columns at once using pd.concat(axis=1) instead. To get a de-fragmented frame, use `newframe = frame.copy()`\n",
      "  portfolio_cumulative_returns[n] = (1 + sim_df.fillna(0)).cumprod()\n",
      "C:\\Users\\ranol\\OneDrive\\Desktop\\RUT-VIRT-FIN-PT-09-2023-U-LOLC\\02-Homework\\05-APIs\\Instructions\\Starter_Code\\MCForecastTools.py:117: PerformanceWarning: DataFrame is highly fragmented.  This is usually the result of calling `frame.insert` many times, which has poor performance.  Consider joining all columns at once using pd.concat(axis=1) instead. To get a de-fragmented frame, use `newframe = frame.copy()`\n",
      "  portfolio_cumulative_returns[n] = (1 + sim_df.fillna(0)).cumprod()\n",
      "C:\\Users\\ranol\\OneDrive\\Desktop\\RUT-VIRT-FIN-PT-09-2023-U-LOLC\\02-Homework\\05-APIs\\Instructions\\Starter_Code\\MCForecastTools.py:117: PerformanceWarning: DataFrame is highly fragmented.  This is usually the result of calling `frame.insert` many times, which has poor performance.  Consider joining all columns at once using pd.concat(axis=1) instead. To get a de-fragmented frame, use `newframe = frame.copy()`\n",
      "  portfolio_cumulative_returns[n] = (1 + sim_df.fillna(0)).cumprod()\n",
      "C:\\Users\\ranol\\OneDrive\\Desktop\\RUT-VIRT-FIN-PT-09-2023-U-LOLC\\02-Homework\\05-APIs\\Instructions\\Starter_Code\\MCForecastTools.py:117: PerformanceWarning: DataFrame is highly fragmented.  This is usually the result of calling `frame.insert` many times, which has poor performance.  Consider joining all columns at once using pd.concat(axis=1) instead. To get a de-fragmented frame, use `newframe = frame.copy()`\n",
      "  portfolio_cumulative_returns[n] = (1 + sim_df.fillna(0)).cumprod()\n",
      "C:\\Users\\ranol\\OneDrive\\Desktop\\RUT-VIRT-FIN-PT-09-2023-U-LOLC\\02-Homework\\05-APIs\\Instructions\\Starter_Code\\MCForecastTools.py:117: PerformanceWarning: DataFrame is highly fragmented.  This is usually the result of calling `frame.insert` many times, which has poor performance.  Consider joining all columns at once using pd.concat(axis=1) instead. To get a de-fragmented frame, use `newframe = frame.copy()`\n",
      "  portfolio_cumulative_returns[n] = (1 + sim_df.fillna(0)).cumprod()\n",
      "C:\\Users\\ranol\\OneDrive\\Desktop\\RUT-VIRT-FIN-PT-09-2023-U-LOLC\\02-Homework\\05-APIs\\Instructions\\Starter_Code\\MCForecastTools.py:117: PerformanceWarning: DataFrame is highly fragmented.  This is usually the result of calling `frame.insert` many times, which has poor performance.  Consider joining all columns at once using pd.concat(axis=1) instead. To get a de-fragmented frame, use `newframe = frame.copy()`\n",
      "  portfolio_cumulative_returns[n] = (1 + sim_df.fillna(0)).cumprod()\n",
      "C:\\Users\\ranol\\OneDrive\\Desktop\\RUT-VIRT-FIN-PT-09-2023-U-LOLC\\02-Homework\\05-APIs\\Instructions\\Starter_Code\\MCForecastTools.py:117: PerformanceWarning: DataFrame is highly fragmented.  This is usually the result of calling `frame.insert` many times, which has poor performance.  Consider joining all columns at once using pd.concat(axis=1) instead. To get a de-fragmented frame, use `newframe = frame.copy()`\n",
      "  portfolio_cumulative_returns[n] = (1 + sim_df.fillna(0)).cumprod()\n",
      "C:\\Users\\ranol\\OneDrive\\Desktop\\RUT-VIRT-FIN-PT-09-2023-U-LOLC\\02-Homework\\05-APIs\\Instructions\\Starter_Code\\MCForecastTools.py:117: PerformanceWarning: DataFrame is highly fragmented.  This is usually the result of calling `frame.insert` many times, which has poor performance.  Consider joining all columns at once using pd.concat(axis=1) instead. To get a de-fragmented frame, use `newframe = frame.copy()`\n",
      "  portfolio_cumulative_returns[n] = (1 + sim_df.fillna(0)).cumprod()\n",
      "C:\\Users\\ranol\\OneDrive\\Desktop\\RUT-VIRT-FIN-PT-09-2023-U-LOLC\\02-Homework\\05-APIs\\Instructions\\Starter_Code\\MCForecastTools.py:117: PerformanceWarning: DataFrame is highly fragmented.  This is usually the result of calling `frame.insert` many times, which has poor performance.  Consider joining all columns at once using pd.concat(axis=1) instead. To get a de-fragmented frame, use `newframe = frame.copy()`\n",
      "  portfolio_cumulative_returns[n] = (1 + sim_df.fillna(0)).cumprod()\n",
      "C:\\Users\\ranol\\OneDrive\\Desktop\\RUT-VIRT-FIN-PT-09-2023-U-LOLC\\02-Homework\\05-APIs\\Instructions\\Starter_Code\\MCForecastTools.py:117: PerformanceWarning: DataFrame is highly fragmented.  This is usually the result of calling `frame.insert` many times, which has poor performance.  Consider joining all columns at once using pd.concat(axis=1) instead. To get a de-fragmented frame, use `newframe = frame.copy()`\n",
      "  portfolio_cumulative_returns[n] = (1 + sim_df.fillna(0)).cumprod()\n",
      "C:\\Users\\ranol\\OneDrive\\Desktop\\RUT-VIRT-FIN-PT-09-2023-U-LOLC\\02-Homework\\05-APIs\\Instructions\\Starter_Code\\MCForecastTools.py:117: PerformanceWarning: DataFrame is highly fragmented.  This is usually the result of calling `frame.insert` many times, which has poor performance.  Consider joining all columns at once using pd.concat(axis=1) instead. To get a de-fragmented frame, use `newframe = frame.copy()`\n",
      "  portfolio_cumulative_returns[n] = (1 + sim_df.fillna(0)).cumprod()\n",
      "C:\\Users\\ranol\\OneDrive\\Desktop\\RUT-VIRT-FIN-PT-09-2023-U-LOLC\\02-Homework\\05-APIs\\Instructions\\Starter_Code\\MCForecastTools.py:117: PerformanceWarning: DataFrame is highly fragmented.  This is usually the result of calling `frame.insert` many times, which has poor performance.  Consider joining all columns at once using pd.concat(axis=1) instead. To get a de-fragmented frame, use `newframe = frame.copy()`\n",
      "  portfolio_cumulative_returns[n] = (1 + sim_df.fillna(0)).cumprod()\n",
      "C:\\Users\\ranol\\OneDrive\\Desktop\\RUT-VIRT-FIN-PT-09-2023-U-LOLC\\02-Homework\\05-APIs\\Instructions\\Starter_Code\\MCForecastTools.py:117: PerformanceWarning: DataFrame is highly fragmented.  This is usually the result of calling `frame.insert` many times, which has poor performance.  Consider joining all columns at once using pd.concat(axis=1) instead. To get a de-fragmented frame, use `newframe = frame.copy()`\n",
      "  portfolio_cumulative_returns[n] = (1 + sim_df.fillna(0)).cumprod()\n"
     ]
    },
    {
     "name": "stdout",
     "output_type": "stream",
     "text": [
      "Running Monte Carlo simulation number 290.\n"
     ]
    },
    {
     "name": "stderr",
     "output_type": "stream",
     "text": [
      "C:\\Users\\ranol\\OneDrive\\Desktop\\RUT-VIRT-FIN-PT-09-2023-U-LOLC\\02-Homework\\05-APIs\\Instructions\\Starter_Code\\MCForecastTools.py:117: PerformanceWarning: DataFrame is highly fragmented.  This is usually the result of calling `frame.insert` many times, which has poor performance.  Consider joining all columns at once using pd.concat(axis=1) instead. To get a de-fragmented frame, use `newframe = frame.copy()`\n",
      "  portfolio_cumulative_returns[n] = (1 + sim_df.fillna(0)).cumprod()\n",
      "C:\\Users\\ranol\\OneDrive\\Desktop\\RUT-VIRT-FIN-PT-09-2023-U-LOLC\\02-Homework\\05-APIs\\Instructions\\Starter_Code\\MCForecastTools.py:117: PerformanceWarning: DataFrame is highly fragmented.  This is usually the result of calling `frame.insert` many times, which has poor performance.  Consider joining all columns at once using pd.concat(axis=1) instead. To get a de-fragmented frame, use `newframe = frame.copy()`\n",
      "  portfolio_cumulative_returns[n] = (1 + sim_df.fillna(0)).cumprod()\n",
      "C:\\Users\\ranol\\OneDrive\\Desktop\\RUT-VIRT-FIN-PT-09-2023-U-LOLC\\02-Homework\\05-APIs\\Instructions\\Starter_Code\\MCForecastTools.py:117: PerformanceWarning: DataFrame is highly fragmented.  This is usually the result of calling `frame.insert` many times, which has poor performance.  Consider joining all columns at once using pd.concat(axis=1) instead. To get a de-fragmented frame, use `newframe = frame.copy()`\n",
      "  portfolio_cumulative_returns[n] = (1 + sim_df.fillna(0)).cumprod()\n",
      "C:\\Users\\ranol\\OneDrive\\Desktop\\RUT-VIRT-FIN-PT-09-2023-U-LOLC\\02-Homework\\05-APIs\\Instructions\\Starter_Code\\MCForecastTools.py:117: PerformanceWarning: DataFrame is highly fragmented.  This is usually the result of calling `frame.insert` many times, which has poor performance.  Consider joining all columns at once using pd.concat(axis=1) instead. To get a de-fragmented frame, use `newframe = frame.copy()`\n",
      "  portfolio_cumulative_returns[n] = (1 + sim_df.fillna(0)).cumprod()\n",
      "C:\\Users\\ranol\\OneDrive\\Desktop\\RUT-VIRT-FIN-PT-09-2023-U-LOLC\\02-Homework\\05-APIs\\Instructions\\Starter_Code\\MCForecastTools.py:117: PerformanceWarning: DataFrame is highly fragmented.  This is usually the result of calling `frame.insert` many times, which has poor performance.  Consider joining all columns at once using pd.concat(axis=1) instead. To get a de-fragmented frame, use `newframe = frame.copy()`\n",
      "  portfolio_cumulative_returns[n] = (1 + sim_df.fillna(0)).cumprod()\n",
      "C:\\Users\\ranol\\OneDrive\\Desktop\\RUT-VIRT-FIN-PT-09-2023-U-LOLC\\02-Homework\\05-APIs\\Instructions\\Starter_Code\\MCForecastTools.py:117: PerformanceWarning: DataFrame is highly fragmented.  This is usually the result of calling `frame.insert` many times, which has poor performance.  Consider joining all columns at once using pd.concat(axis=1) instead. To get a de-fragmented frame, use `newframe = frame.copy()`\n",
      "  portfolio_cumulative_returns[n] = (1 + sim_df.fillna(0)).cumprod()\n",
      "C:\\Users\\ranol\\OneDrive\\Desktop\\RUT-VIRT-FIN-PT-09-2023-U-LOLC\\02-Homework\\05-APIs\\Instructions\\Starter_Code\\MCForecastTools.py:117: PerformanceWarning: DataFrame is highly fragmented.  This is usually the result of calling `frame.insert` many times, which has poor performance.  Consider joining all columns at once using pd.concat(axis=1) instead. To get a de-fragmented frame, use `newframe = frame.copy()`\n",
      "  portfolio_cumulative_returns[n] = (1 + sim_df.fillna(0)).cumprod()\n"
     ]
    },
    {
     "name": "stdout",
     "output_type": "stream",
     "text": [
      "Running Monte Carlo simulation number 300.\n"
     ]
    },
    {
     "name": "stderr",
     "output_type": "stream",
     "text": [
      "C:\\Users\\ranol\\OneDrive\\Desktop\\RUT-VIRT-FIN-PT-09-2023-U-LOLC\\02-Homework\\05-APIs\\Instructions\\Starter_Code\\MCForecastTools.py:117: PerformanceWarning: DataFrame is highly fragmented.  This is usually the result of calling `frame.insert` many times, which has poor performance.  Consider joining all columns at once using pd.concat(axis=1) instead. To get a de-fragmented frame, use `newframe = frame.copy()`\n",
      "  portfolio_cumulative_returns[n] = (1 + sim_df.fillna(0)).cumprod()\n",
      "C:\\Users\\ranol\\OneDrive\\Desktop\\RUT-VIRT-FIN-PT-09-2023-U-LOLC\\02-Homework\\05-APIs\\Instructions\\Starter_Code\\MCForecastTools.py:117: PerformanceWarning: DataFrame is highly fragmented.  This is usually the result of calling `frame.insert` many times, which has poor performance.  Consider joining all columns at once using pd.concat(axis=1) instead. To get a de-fragmented frame, use `newframe = frame.copy()`\n",
      "  portfolio_cumulative_returns[n] = (1 + sim_df.fillna(0)).cumprod()\n",
      "C:\\Users\\ranol\\OneDrive\\Desktop\\RUT-VIRT-FIN-PT-09-2023-U-LOLC\\02-Homework\\05-APIs\\Instructions\\Starter_Code\\MCForecastTools.py:117: PerformanceWarning: DataFrame is highly fragmented.  This is usually the result of calling `frame.insert` many times, which has poor performance.  Consider joining all columns at once using pd.concat(axis=1) instead. To get a de-fragmented frame, use `newframe = frame.copy()`\n",
      "  portfolio_cumulative_returns[n] = (1 + sim_df.fillna(0)).cumprod()\n",
      "C:\\Users\\ranol\\OneDrive\\Desktop\\RUT-VIRT-FIN-PT-09-2023-U-LOLC\\02-Homework\\05-APIs\\Instructions\\Starter_Code\\MCForecastTools.py:117: PerformanceWarning: DataFrame is highly fragmented.  This is usually the result of calling `frame.insert` many times, which has poor performance.  Consider joining all columns at once using pd.concat(axis=1) instead. To get a de-fragmented frame, use `newframe = frame.copy()`\n",
      "  portfolio_cumulative_returns[n] = (1 + sim_df.fillna(0)).cumprod()\n",
      "C:\\Users\\ranol\\OneDrive\\Desktop\\RUT-VIRT-FIN-PT-09-2023-U-LOLC\\02-Homework\\05-APIs\\Instructions\\Starter_Code\\MCForecastTools.py:117: PerformanceWarning: DataFrame is highly fragmented.  This is usually the result of calling `frame.insert` many times, which has poor performance.  Consider joining all columns at once using pd.concat(axis=1) instead. To get a de-fragmented frame, use `newframe = frame.copy()`\n",
      "  portfolio_cumulative_returns[n] = (1 + sim_df.fillna(0)).cumprod()\n",
      "C:\\Users\\ranol\\OneDrive\\Desktop\\RUT-VIRT-FIN-PT-09-2023-U-LOLC\\02-Homework\\05-APIs\\Instructions\\Starter_Code\\MCForecastTools.py:117: PerformanceWarning: DataFrame is highly fragmented.  This is usually the result of calling `frame.insert` many times, which has poor performance.  Consider joining all columns at once using pd.concat(axis=1) instead. To get a de-fragmented frame, use `newframe = frame.copy()`\n",
      "  portfolio_cumulative_returns[n] = (1 + sim_df.fillna(0)).cumprod()\n",
      "C:\\Users\\ranol\\OneDrive\\Desktop\\RUT-VIRT-FIN-PT-09-2023-U-LOLC\\02-Homework\\05-APIs\\Instructions\\Starter_Code\\MCForecastTools.py:117: PerformanceWarning: DataFrame is highly fragmented.  This is usually the result of calling `frame.insert` many times, which has poor performance.  Consider joining all columns at once using pd.concat(axis=1) instead. To get a de-fragmented frame, use `newframe = frame.copy()`\n",
      "  portfolio_cumulative_returns[n] = (1 + sim_df.fillna(0)).cumprod()\n",
      "C:\\Users\\ranol\\OneDrive\\Desktop\\RUT-VIRT-FIN-PT-09-2023-U-LOLC\\02-Homework\\05-APIs\\Instructions\\Starter_Code\\MCForecastTools.py:117: PerformanceWarning: DataFrame is highly fragmented.  This is usually the result of calling `frame.insert` many times, which has poor performance.  Consider joining all columns at once using pd.concat(axis=1) instead. To get a de-fragmented frame, use `newframe = frame.copy()`\n",
      "  portfolio_cumulative_returns[n] = (1 + sim_df.fillna(0)).cumprod()\n"
     ]
    },
    {
     "name": "stdout",
     "output_type": "stream",
     "text": [
      "Running Monte Carlo simulation number 310.\n"
     ]
    },
    {
     "name": "stderr",
     "output_type": "stream",
     "text": [
      "C:\\Users\\ranol\\OneDrive\\Desktop\\RUT-VIRT-FIN-PT-09-2023-U-LOLC\\02-Homework\\05-APIs\\Instructions\\Starter_Code\\MCForecastTools.py:117: PerformanceWarning: DataFrame is highly fragmented.  This is usually the result of calling `frame.insert` many times, which has poor performance.  Consider joining all columns at once using pd.concat(axis=1) instead. To get a de-fragmented frame, use `newframe = frame.copy()`\n",
      "  portfolio_cumulative_returns[n] = (1 + sim_df.fillna(0)).cumprod()\n",
      "C:\\Users\\ranol\\OneDrive\\Desktop\\RUT-VIRT-FIN-PT-09-2023-U-LOLC\\02-Homework\\05-APIs\\Instructions\\Starter_Code\\MCForecastTools.py:117: PerformanceWarning: DataFrame is highly fragmented.  This is usually the result of calling `frame.insert` many times, which has poor performance.  Consider joining all columns at once using pd.concat(axis=1) instead. To get a de-fragmented frame, use `newframe = frame.copy()`\n",
      "  portfolio_cumulative_returns[n] = (1 + sim_df.fillna(0)).cumprod()\n",
      "C:\\Users\\ranol\\OneDrive\\Desktop\\RUT-VIRT-FIN-PT-09-2023-U-LOLC\\02-Homework\\05-APIs\\Instructions\\Starter_Code\\MCForecastTools.py:117: PerformanceWarning: DataFrame is highly fragmented.  This is usually the result of calling `frame.insert` many times, which has poor performance.  Consider joining all columns at once using pd.concat(axis=1) instead. To get a de-fragmented frame, use `newframe = frame.copy()`\n",
      "  portfolio_cumulative_returns[n] = (1 + sim_df.fillna(0)).cumprod()\n",
      "C:\\Users\\ranol\\OneDrive\\Desktop\\RUT-VIRT-FIN-PT-09-2023-U-LOLC\\02-Homework\\05-APIs\\Instructions\\Starter_Code\\MCForecastTools.py:117: PerformanceWarning: DataFrame is highly fragmented.  This is usually the result of calling `frame.insert` many times, which has poor performance.  Consider joining all columns at once using pd.concat(axis=1) instead. To get a de-fragmented frame, use `newframe = frame.copy()`\n",
      "  portfolio_cumulative_returns[n] = (1 + sim_df.fillna(0)).cumprod()\n",
      "C:\\Users\\ranol\\OneDrive\\Desktop\\RUT-VIRT-FIN-PT-09-2023-U-LOLC\\02-Homework\\05-APIs\\Instructions\\Starter_Code\\MCForecastTools.py:117: PerformanceWarning: DataFrame is highly fragmented.  This is usually the result of calling `frame.insert` many times, which has poor performance.  Consider joining all columns at once using pd.concat(axis=1) instead. To get a de-fragmented frame, use `newframe = frame.copy()`\n",
      "  portfolio_cumulative_returns[n] = (1 + sim_df.fillna(0)).cumprod()\n",
      "C:\\Users\\ranol\\OneDrive\\Desktop\\RUT-VIRT-FIN-PT-09-2023-U-LOLC\\02-Homework\\05-APIs\\Instructions\\Starter_Code\\MCForecastTools.py:117: PerformanceWarning: DataFrame is highly fragmented.  This is usually the result of calling `frame.insert` many times, which has poor performance.  Consider joining all columns at once using pd.concat(axis=1) instead. To get a de-fragmented frame, use `newframe = frame.copy()`\n",
      "  portfolio_cumulative_returns[n] = (1 + sim_df.fillna(0)).cumprod()\n",
      "C:\\Users\\ranol\\OneDrive\\Desktop\\RUT-VIRT-FIN-PT-09-2023-U-LOLC\\02-Homework\\05-APIs\\Instructions\\Starter_Code\\MCForecastTools.py:117: PerformanceWarning: DataFrame is highly fragmented.  This is usually the result of calling `frame.insert` many times, which has poor performance.  Consider joining all columns at once using pd.concat(axis=1) instead. To get a de-fragmented frame, use `newframe = frame.copy()`\n",
      "  portfolio_cumulative_returns[n] = (1 + sim_df.fillna(0)).cumprod()\n",
      "C:\\Users\\ranol\\OneDrive\\Desktop\\RUT-VIRT-FIN-PT-09-2023-U-LOLC\\02-Homework\\05-APIs\\Instructions\\Starter_Code\\MCForecastTools.py:117: PerformanceWarning: DataFrame is highly fragmented.  This is usually the result of calling `frame.insert` many times, which has poor performance.  Consider joining all columns at once using pd.concat(axis=1) instead. To get a de-fragmented frame, use `newframe = frame.copy()`\n",
      "  portfolio_cumulative_returns[n] = (1 + sim_df.fillna(0)).cumprod()\n",
      "C:\\Users\\ranol\\OneDrive\\Desktop\\RUT-VIRT-FIN-PT-09-2023-U-LOLC\\02-Homework\\05-APIs\\Instructions\\Starter_Code\\MCForecastTools.py:117: PerformanceWarning: DataFrame is highly fragmented.  This is usually the result of calling `frame.insert` many times, which has poor performance.  Consider joining all columns at once using pd.concat(axis=1) instead. To get a de-fragmented frame, use `newframe = frame.copy()`\n",
      "  portfolio_cumulative_returns[n] = (1 + sim_df.fillna(0)).cumprod()\n",
      "C:\\Users\\ranol\\OneDrive\\Desktop\\RUT-VIRT-FIN-PT-09-2023-U-LOLC\\02-Homework\\05-APIs\\Instructions\\Starter_Code\\MCForecastTools.py:117: PerformanceWarning: DataFrame is highly fragmented.  This is usually the result of calling `frame.insert` many times, which has poor performance.  Consider joining all columns at once using pd.concat(axis=1) instead. To get a de-fragmented frame, use `newframe = frame.copy()`\n",
      "  portfolio_cumulative_returns[n] = (1 + sim_df.fillna(0)).cumprod()\n",
      "C:\\Users\\ranol\\OneDrive\\Desktop\\RUT-VIRT-FIN-PT-09-2023-U-LOLC\\02-Homework\\05-APIs\\Instructions\\Starter_Code\\MCForecastTools.py:117: PerformanceWarning: DataFrame is highly fragmented.  This is usually the result of calling `frame.insert` many times, which has poor performance.  Consider joining all columns at once using pd.concat(axis=1) instead. To get a de-fragmented frame, use `newframe = frame.copy()`\n",
      "  portfolio_cumulative_returns[n] = (1 + sim_df.fillna(0)).cumprod()\n",
      "C:\\Users\\ranol\\OneDrive\\Desktop\\RUT-VIRT-FIN-PT-09-2023-U-LOLC\\02-Homework\\05-APIs\\Instructions\\Starter_Code\\MCForecastTools.py:117: PerformanceWarning: DataFrame is highly fragmented.  This is usually the result of calling `frame.insert` many times, which has poor performance.  Consider joining all columns at once using pd.concat(axis=1) instead. To get a de-fragmented frame, use `newframe = frame.copy()`\n",
      "  portfolio_cumulative_returns[n] = (1 + sim_df.fillna(0)).cumprod()\n",
      "C:\\Users\\ranol\\OneDrive\\Desktop\\RUT-VIRT-FIN-PT-09-2023-U-LOLC\\02-Homework\\05-APIs\\Instructions\\Starter_Code\\MCForecastTools.py:117: PerformanceWarning: DataFrame is highly fragmented.  This is usually the result of calling `frame.insert` many times, which has poor performance.  Consider joining all columns at once using pd.concat(axis=1) instead. To get a de-fragmented frame, use `newframe = frame.copy()`\n",
      "  portfolio_cumulative_returns[n] = (1 + sim_df.fillna(0)).cumprod()\n",
      "C:\\Users\\ranol\\OneDrive\\Desktop\\RUT-VIRT-FIN-PT-09-2023-U-LOLC\\02-Homework\\05-APIs\\Instructions\\Starter_Code\\MCForecastTools.py:117: PerformanceWarning: DataFrame is highly fragmented.  This is usually the result of calling `frame.insert` many times, which has poor performance.  Consider joining all columns at once using pd.concat(axis=1) instead. To get a de-fragmented frame, use `newframe = frame.copy()`\n",
      "  portfolio_cumulative_returns[n] = (1 + sim_df.fillna(0)).cumprod()\n",
      "C:\\Users\\ranol\\OneDrive\\Desktop\\RUT-VIRT-FIN-PT-09-2023-U-LOLC\\02-Homework\\05-APIs\\Instructions\\Starter_Code\\MCForecastTools.py:117: PerformanceWarning: DataFrame is highly fragmented.  This is usually the result of calling `frame.insert` many times, which has poor performance.  Consider joining all columns at once using pd.concat(axis=1) instead. To get a de-fragmented frame, use `newframe = frame.copy()`\n",
      "  portfolio_cumulative_returns[n] = (1 + sim_df.fillna(0)).cumprod()\n",
      "C:\\Users\\ranol\\OneDrive\\Desktop\\RUT-VIRT-FIN-PT-09-2023-U-LOLC\\02-Homework\\05-APIs\\Instructions\\Starter_Code\\MCForecastTools.py:117: PerformanceWarning: DataFrame is highly fragmented.  This is usually the result of calling `frame.insert` many times, which has poor performance.  Consider joining all columns at once using pd.concat(axis=1) instead. To get a de-fragmented frame, use `newframe = frame.copy()`\n",
      "  portfolio_cumulative_returns[n] = (1 + sim_df.fillna(0)).cumprod()\n",
      "C:\\Users\\ranol\\OneDrive\\Desktop\\RUT-VIRT-FIN-PT-09-2023-U-LOLC\\02-Homework\\05-APIs\\Instructions\\Starter_Code\\MCForecastTools.py:117: PerformanceWarning: DataFrame is highly fragmented.  This is usually the result of calling `frame.insert` many times, which has poor performance.  Consider joining all columns at once using pd.concat(axis=1) instead. To get a de-fragmented frame, use `newframe = frame.copy()`\n",
      "  portfolio_cumulative_returns[n] = (1 + sim_df.fillna(0)).cumprod()\n"
     ]
    },
    {
     "name": "stdout",
     "output_type": "stream",
     "text": [
      "Running Monte Carlo simulation number 320.\n"
     ]
    },
    {
     "name": "stderr",
     "output_type": "stream",
     "text": [
      "C:\\Users\\ranol\\OneDrive\\Desktop\\RUT-VIRT-FIN-PT-09-2023-U-LOLC\\02-Homework\\05-APIs\\Instructions\\Starter_Code\\MCForecastTools.py:117: PerformanceWarning: DataFrame is highly fragmented.  This is usually the result of calling `frame.insert` many times, which has poor performance.  Consider joining all columns at once using pd.concat(axis=1) instead. To get a de-fragmented frame, use `newframe = frame.copy()`\n",
      "  portfolio_cumulative_returns[n] = (1 + sim_df.fillna(0)).cumprod()\n",
      "C:\\Users\\ranol\\OneDrive\\Desktop\\RUT-VIRT-FIN-PT-09-2023-U-LOLC\\02-Homework\\05-APIs\\Instructions\\Starter_Code\\MCForecastTools.py:117: PerformanceWarning: DataFrame is highly fragmented.  This is usually the result of calling `frame.insert` many times, which has poor performance.  Consider joining all columns at once using pd.concat(axis=1) instead. To get a de-fragmented frame, use `newframe = frame.copy()`\n",
      "  portfolio_cumulative_returns[n] = (1 + sim_df.fillna(0)).cumprod()\n",
      "C:\\Users\\ranol\\OneDrive\\Desktop\\RUT-VIRT-FIN-PT-09-2023-U-LOLC\\02-Homework\\05-APIs\\Instructions\\Starter_Code\\MCForecastTools.py:117: PerformanceWarning: DataFrame is highly fragmented.  This is usually the result of calling `frame.insert` many times, which has poor performance.  Consider joining all columns at once using pd.concat(axis=1) instead. To get a de-fragmented frame, use `newframe = frame.copy()`\n",
      "  portfolio_cumulative_returns[n] = (1 + sim_df.fillna(0)).cumprod()\n",
      "C:\\Users\\ranol\\OneDrive\\Desktop\\RUT-VIRT-FIN-PT-09-2023-U-LOLC\\02-Homework\\05-APIs\\Instructions\\Starter_Code\\MCForecastTools.py:117: PerformanceWarning: DataFrame is highly fragmented.  This is usually the result of calling `frame.insert` many times, which has poor performance.  Consider joining all columns at once using pd.concat(axis=1) instead. To get a de-fragmented frame, use `newframe = frame.copy()`\n",
      "  portfolio_cumulative_returns[n] = (1 + sim_df.fillna(0)).cumprod()\n",
      "C:\\Users\\ranol\\OneDrive\\Desktop\\RUT-VIRT-FIN-PT-09-2023-U-LOLC\\02-Homework\\05-APIs\\Instructions\\Starter_Code\\MCForecastTools.py:117: PerformanceWarning: DataFrame is highly fragmented.  This is usually the result of calling `frame.insert` many times, which has poor performance.  Consider joining all columns at once using pd.concat(axis=1) instead. To get a de-fragmented frame, use `newframe = frame.copy()`\n",
      "  portfolio_cumulative_returns[n] = (1 + sim_df.fillna(0)).cumprod()\n",
      "C:\\Users\\ranol\\OneDrive\\Desktop\\RUT-VIRT-FIN-PT-09-2023-U-LOLC\\02-Homework\\05-APIs\\Instructions\\Starter_Code\\MCForecastTools.py:117: PerformanceWarning: DataFrame is highly fragmented.  This is usually the result of calling `frame.insert` many times, which has poor performance.  Consider joining all columns at once using pd.concat(axis=1) instead. To get a de-fragmented frame, use `newframe = frame.copy()`\n",
      "  portfolio_cumulative_returns[n] = (1 + sim_df.fillna(0)).cumprod()\n",
      "C:\\Users\\ranol\\OneDrive\\Desktop\\RUT-VIRT-FIN-PT-09-2023-U-LOLC\\02-Homework\\05-APIs\\Instructions\\Starter_Code\\MCForecastTools.py:117: PerformanceWarning: DataFrame is highly fragmented.  This is usually the result of calling `frame.insert` many times, which has poor performance.  Consider joining all columns at once using pd.concat(axis=1) instead. To get a de-fragmented frame, use `newframe = frame.copy()`\n",
      "  portfolio_cumulative_returns[n] = (1 + sim_df.fillna(0)).cumprod()\n",
      "C:\\Users\\ranol\\OneDrive\\Desktop\\RUT-VIRT-FIN-PT-09-2023-U-LOLC\\02-Homework\\05-APIs\\Instructions\\Starter_Code\\MCForecastTools.py:117: PerformanceWarning: DataFrame is highly fragmented.  This is usually the result of calling `frame.insert` many times, which has poor performance.  Consider joining all columns at once using pd.concat(axis=1) instead. To get a de-fragmented frame, use `newframe = frame.copy()`\n",
      "  portfolio_cumulative_returns[n] = (1 + sim_df.fillna(0)).cumprod()\n"
     ]
    },
    {
     "name": "stdout",
     "output_type": "stream",
     "text": [
      "Running Monte Carlo simulation number 330.\n"
     ]
    },
    {
     "name": "stderr",
     "output_type": "stream",
     "text": [
      "C:\\Users\\ranol\\OneDrive\\Desktop\\RUT-VIRT-FIN-PT-09-2023-U-LOLC\\02-Homework\\05-APIs\\Instructions\\Starter_Code\\MCForecastTools.py:117: PerformanceWarning: DataFrame is highly fragmented.  This is usually the result of calling `frame.insert` many times, which has poor performance.  Consider joining all columns at once using pd.concat(axis=1) instead. To get a de-fragmented frame, use `newframe = frame.copy()`\n",
      "  portfolio_cumulative_returns[n] = (1 + sim_df.fillna(0)).cumprod()\n",
      "C:\\Users\\ranol\\OneDrive\\Desktop\\RUT-VIRT-FIN-PT-09-2023-U-LOLC\\02-Homework\\05-APIs\\Instructions\\Starter_Code\\MCForecastTools.py:117: PerformanceWarning: DataFrame is highly fragmented.  This is usually the result of calling `frame.insert` many times, which has poor performance.  Consider joining all columns at once using pd.concat(axis=1) instead. To get a de-fragmented frame, use `newframe = frame.copy()`\n",
      "  portfolio_cumulative_returns[n] = (1 + sim_df.fillna(0)).cumprod()\n",
      "C:\\Users\\ranol\\OneDrive\\Desktop\\RUT-VIRT-FIN-PT-09-2023-U-LOLC\\02-Homework\\05-APIs\\Instructions\\Starter_Code\\MCForecastTools.py:117: PerformanceWarning: DataFrame is highly fragmented.  This is usually the result of calling `frame.insert` many times, which has poor performance.  Consider joining all columns at once using pd.concat(axis=1) instead. To get a de-fragmented frame, use `newframe = frame.copy()`\n",
      "  portfolio_cumulative_returns[n] = (1 + sim_df.fillna(0)).cumprod()\n",
      "C:\\Users\\ranol\\OneDrive\\Desktop\\RUT-VIRT-FIN-PT-09-2023-U-LOLC\\02-Homework\\05-APIs\\Instructions\\Starter_Code\\MCForecastTools.py:117: PerformanceWarning: DataFrame is highly fragmented.  This is usually the result of calling `frame.insert` many times, which has poor performance.  Consider joining all columns at once using pd.concat(axis=1) instead. To get a de-fragmented frame, use `newframe = frame.copy()`\n",
      "  portfolio_cumulative_returns[n] = (1 + sim_df.fillna(0)).cumprod()\n",
      "C:\\Users\\ranol\\OneDrive\\Desktop\\RUT-VIRT-FIN-PT-09-2023-U-LOLC\\02-Homework\\05-APIs\\Instructions\\Starter_Code\\MCForecastTools.py:117: PerformanceWarning: DataFrame is highly fragmented.  This is usually the result of calling `frame.insert` many times, which has poor performance.  Consider joining all columns at once using pd.concat(axis=1) instead. To get a de-fragmented frame, use `newframe = frame.copy()`\n",
      "  portfolio_cumulative_returns[n] = (1 + sim_df.fillna(0)).cumprod()\n",
      "C:\\Users\\ranol\\OneDrive\\Desktop\\RUT-VIRT-FIN-PT-09-2023-U-LOLC\\02-Homework\\05-APIs\\Instructions\\Starter_Code\\MCForecastTools.py:117: PerformanceWarning: DataFrame is highly fragmented.  This is usually the result of calling `frame.insert` many times, which has poor performance.  Consider joining all columns at once using pd.concat(axis=1) instead. To get a de-fragmented frame, use `newframe = frame.copy()`\n",
      "  portfolio_cumulative_returns[n] = (1 + sim_df.fillna(0)).cumprod()\n",
      "C:\\Users\\ranol\\OneDrive\\Desktop\\RUT-VIRT-FIN-PT-09-2023-U-LOLC\\02-Homework\\05-APIs\\Instructions\\Starter_Code\\MCForecastTools.py:117: PerformanceWarning: DataFrame is highly fragmented.  This is usually the result of calling `frame.insert` many times, which has poor performance.  Consider joining all columns at once using pd.concat(axis=1) instead. To get a de-fragmented frame, use `newframe = frame.copy()`\n",
      "  portfolio_cumulative_returns[n] = (1 + sim_df.fillna(0)).cumprod()\n",
      "C:\\Users\\ranol\\OneDrive\\Desktop\\RUT-VIRT-FIN-PT-09-2023-U-LOLC\\02-Homework\\05-APIs\\Instructions\\Starter_Code\\MCForecastTools.py:117: PerformanceWarning: DataFrame is highly fragmented.  This is usually the result of calling `frame.insert` many times, which has poor performance.  Consider joining all columns at once using pd.concat(axis=1) instead. To get a de-fragmented frame, use `newframe = frame.copy()`\n",
      "  portfolio_cumulative_returns[n] = (1 + sim_df.fillna(0)).cumprod()\n"
     ]
    },
    {
     "name": "stdout",
     "output_type": "stream",
     "text": [
      "Running Monte Carlo simulation number 340.\n"
     ]
    },
    {
     "name": "stderr",
     "output_type": "stream",
     "text": [
      "C:\\Users\\ranol\\OneDrive\\Desktop\\RUT-VIRT-FIN-PT-09-2023-U-LOLC\\02-Homework\\05-APIs\\Instructions\\Starter_Code\\MCForecastTools.py:117: PerformanceWarning: DataFrame is highly fragmented.  This is usually the result of calling `frame.insert` many times, which has poor performance.  Consider joining all columns at once using pd.concat(axis=1) instead. To get a de-fragmented frame, use `newframe = frame.copy()`\n",
      "  portfolio_cumulative_returns[n] = (1 + sim_df.fillna(0)).cumprod()\n",
      "C:\\Users\\ranol\\OneDrive\\Desktop\\RUT-VIRT-FIN-PT-09-2023-U-LOLC\\02-Homework\\05-APIs\\Instructions\\Starter_Code\\MCForecastTools.py:117: PerformanceWarning: DataFrame is highly fragmented.  This is usually the result of calling `frame.insert` many times, which has poor performance.  Consider joining all columns at once using pd.concat(axis=1) instead. To get a de-fragmented frame, use `newframe = frame.copy()`\n",
      "  portfolio_cumulative_returns[n] = (1 + sim_df.fillna(0)).cumprod()\n",
      "C:\\Users\\ranol\\OneDrive\\Desktop\\RUT-VIRT-FIN-PT-09-2023-U-LOLC\\02-Homework\\05-APIs\\Instructions\\Starter_Code\\MCForecastTools.py:117: PerformanceWarning: DataFrame is highly fragmented.  This is usually the result of calling `frame.insert` many times, which has poor performance.  Consider joining all columns at once using pd.concat(axis=1) instead. To get a de-fragmented frame, use `newframe = frame.copy()`\n",
      "  portfolio_cumulative_returns[n] = (1 + sim_df.fillna(0)).cumprod()\n",
      "C:\\Users\\ranol\\OneDrive\\Desktop\\RUT-VIRT-FIN-PT-09-2023-U-LOLC\\02-Homework\\05-APIs\\Instructions\\Starter_Code\\MCForecastTools.py:117: PerformanceWarning: DataFrame is highly fragmented.  This is usually the result of calling `frame.insert` many times, which has poor performance.  Consider joining all columns at once using pd.concat(axis=1) instead. To get a de-fragmented frame, use `newframe = frame.copy()`\n",
      "  portfolio_cumulative_returns[n] = (1 + sim_df.fillna(0)).cumprod()\n",
      "C:\\Users\\ranol\\OneDrive\\Desktop\\RUT-VIRT-FIN-PT-09-2023-U-LOLC\\02-Homework\\05-APIs\\Instructions\\Starter_Code\\MCForecastTools.py:117: PerformanceWarning: DataFrame is highly fragmented.  This is usually the result of calling `frame.insert` many times, which has poor performance.  Consider joining all columns at once using pd.concat(axis=1) instead. To get a de-fragmented frame, use `newframe = frame.copy()`\n",
      "  portfolio_cumulative_returns[n] = (1 + sim_df.fillna(0)).cumprod()\n",
      "C:\\Users\\ranol\\OneDrive\\Desktop\\RUT-VIRT-FIN-PT-09-2023-U-LOLC\\02-Homework\\05-APIs\\Instructions\\Starter_Code\\MCForecastTools.py:117: PerformanceWarning: DataFrame is highly fragmented.  This is usually the result of calling `frame.insert` many times, which has poor performance.  Consider joining all columns at once using pd.concat(axis=1) instead. To get a de-fragmented frame, use `newframe = frame.copy()`\n",
      "  portfolio_cumulative_returns[n] = (1 + sim_df.fillna(0)).cumprod()\n",
      "C:\\Users\\ranol\\OneDrive\\Desktop\\RUT-VIRT-FIN-PT-09-2023-U-LOLC\\02-Homework\\05-APIs\\Instructions\\Starter_Code\\MCForecastTools.py:117: PerformanceWarning: DataFrame is highly fragmented.  This is usually the result of calling `frame.insert` many times, which has poor performance.  Consider joining all columns at once using pd.concat(axis=1) instead. To get a de-fragmented frame, use `newframe = frame.copy()`\n",
      "  portfolio_cumulative_returns[n] = (1 + sim_df.fillna(0)).cumprod()\n",
      "C:\\Users\\ranol\\OneDrive\\Desktop\\RUT-VIRT-FIN-PT-09-2023-U-LOLC\\02-Homework\\05-APIs\\Instructions\\Starter_Code\\MCForecastTools.py:117: PerformanceWarning: DataFrame is highly fragmented.  This is usually the result of calling `frame.insert` many times, which has poor performance.  Consider joining all columns at once using pd.concat(axis=1) instead. To get a de-fragmented frame, use `newframe = frame.copy()`\n",
      "  portfolio_cumulative_returns[n] = (1 + sim_df.fillna(0)).cumprod()\n"
     ]
    },
    {
     "name": "stdout",
     "output_type": "stream",
     "text": [
      "Running Monte Carlo simulation number 350.\n"
     ]
    },
    {
     "name": "stderr",
     "output_type": "stream",
     "text": [
      "C:\\Users\\ranol\\OneDrive\\Desktop\\RUT-VIRT-FIN-PT-09-2023-U-LOLC\\02-Homework\\05-APIs\\Instructions\\Starter_Code\\MCForecastTools.py:117: PerformanceWarning: DataFrame is highly fragmented.  This is usually the result of calling `frame.insert` many times, which has poor performance.  Consider joining all columns at once using pd.concat(axis=1) instead. To get a de-fragmented frame, use `newframe = frame.copy()`\n",
      "  portfolio_cumulative_returns[n] = (1 + sim_df.fillna(0)).cumprod()\n",
      "C:\\Users\\ranol\\OneDrive\\Desktop\\RUT-VIRT-FIN-PT-09-2023-U-LOLC\\02-Homework\\05-APIs\\Instructions\\Starter_Code\\MCForecastTools.py:117: PerformanceWarning: DataFrame is highly fragmented.  This is usually the result of calling `frame.insert` many times, which has poor performance.  Consider joining all columns at once using pd.concat(axis=1) instead. To get a de-fragmented frame, use `newframe = frame.copy()`\n",
      "  portfolio_cumulative_returns[n] = (1 + sim_df.fillna(0)).cumprod()\n",
      "C:\\Users\\ranol\\OneDrive\\Desktop\\RUT-VIRT-FIN-PT-09-2023-U-LOLC\\02-Homework\\05-APIs\\Instructions\\Starter_Code\\MCForecastTools.py:117: PerformanceWarning: DataFrame is highly fragmented.  This is usually the result of calling `frame.insert` many times, which has poor performance.  Consider joining all columns at once using pd.concat(axis=1) instead. To get a de-fragmented frame, use `newframe = frame.copy()`\n",
      "  portfolio_cumulative_returns[n] = (1 + sim_df.fillna(0)).cumprod()\n",
      "C:\\Users\\ranol\\OneDrive\\Desktop\\RUT-VIRT-FIN-PT-09-2023-U-LOLC\\02-Homework\\05-APIs\\Instructions\\Starter_Code\\MCForecastTools.py:117: PerformanceWarning: DataFrame is highly fragmented.  This is usually the result of calling `frame.insert` many times, which has poor performance.  Consider joining all columns at once using pd.concat(axis=1) instead. To get a de-fragmented frame, use `newframe = frame.copy()`\n",
      "  portfolio_cumulative_returns[n] = (1 + sim_df.fillna(0)).cumprod()\n",
      "C:\\Users\\ranol\\OneDrive\\Desktop\\RUT-VIRT-FIN-PT-09-2023-U-LOLC\\02-Homework\\05-APIs\\Instructions\\Starter_Code\\MCForecastTools.py:117: PerformanceWarning: DataFrame is highly fragmented.  This is usually the result of calling `frame.insert` many times, which has poor performance.  Consider joining all columns at once using pd.concat(axis=1) instead. To get a de-fragmented frame, use `newframe = frame.copy()`\n",
      "  portfolio_cumulative_returns[n] = (1 + sim_df.fillna(0)).cumprod()\n",
      "C:\\Users\\ranol\\OneDrive\\Desktop\\RUT-VIRT-FIN-PT-09-2023-U-LOLC\\02-Homework\\05-APIs\\Instructions\\Starter_Code\\MCForecastTools.py:117: PerformanceWarning: DataFrame is highly fragmented.  This is usually the result of calling `frame.insert` many times, which has poor performance.  Consider joining all columns at once using pd.concat(axis=1) instead. To get a de-fragmented frame, use `newframe = frame.copy()`\n",
      "  portfolio_cumulative_returns[n] = (1 + sim_df.fillna(0)).cumprod()\n",
      "C:\\Users\\ranol\\OneDrive\\Desktop\\RUT-VIRT-FIN-PT-09-2023-U-LOLC\\02-Homework\\05-APIs\\Instructions\\Starter_Code\\MCForecastTools.py:117: PerformanceWarning: DataFrame is highly fragmented.  This is usually the result of calling `frame.insert` many times, which has poor performance.  Consider joining all columns at once using pd.concat(axis=1) instead. To get a de-fragmented frame, use `newframe = frame.copy()`\n",
      "  portfolio_cumulative_returns[n] = (1 + sim_df.fillna(0)).cumprod()\n",
      "C:\\Users\\ranol\\OneDrive\\Desktop\\RUT-VIRT-FIN-PT-09-2023-U-LOLC\\02-Homework\\05-APIs\\Instructions\\Starter_Code\\MCForecastTools.py:117: PerformanceWarning: DataFrame is highly fragmented.  This is usually the result of calling `frame.insert` many times, which has poor performance.  Consider joining all columns at once using pd.concat(axis=1) instead. To get a de-fragmented frame, use `newframe = frame.copy()`\n",
      "  portfolio_cumulative_returns[n] = (1 + sim_df.fillna(0)).cumprod()\n",
      "C:\\Users\\ranol\\OneDrive\\Desktop\\RUT-VIRT-FIN-PT-09-2023-U-LOLC\\02-Homework\\05-APIs\\Instructions\\Starter_Code\\MCForecastTools.py:117: PerformanceWarning: DataFrame is highly fragmented.  This is usually the result of calling `frame.insert` many times, which has poor performance.  Consider joining all columns at once using pd.concat(axis=1) instead. To get a de-fragmented frame, use `newframe = frame.copy()`\n",
      "  portfolio_cumulative_returns[n] = (1 + sim_df.fillna(0)).cumprod()\n",
      "C:\\Users\\ranol\\OneDrive\\Desktop\\RUT-VIRT-FIN-PT-09-2023-U-LOLC\\02-Homework\\05-APIs\\Instructions\\Starter_Code\\MCForecastTools.py:117: PerformanceWarning: DataFrame is highly fragmented.  This is usually the result of calling `frame.insert` many times, which has poor performance.  Consider joining all columns at once using pd.concat(axis=1) instead. To get a de-fragmented frame, use `newframe = frame.copy()`\n",
      "  portfolio_cumulative_returns[n] = (1 + sim_df.fillna(0)).cumprod()\n",
      "C:\\Users\\ranol\\OneDrive\\Desktop\\RUT-VIRT-FIN-PT-09-2023-U-LOLC\\02-Homework\\05-APIs\\Instructions\\Starter_Code\\MCForecastTools.py:117: PerformanceWarning: DataFrame is highly fragmented.  This is usually the result of calling `frame.insert` many times, which has poor performance.  Consider joining all columns at once using pd.concat(axis=1) instead. To get a de-fragmented frame, use `newframe = frame.copy()`\n",
      "  portfolio_cumulative_returns[n] = (1 + sim_df.fillna(0)).cumprod()\n",
      "C:\\Users\\ranol\\OneDrive\\Desktop\\RUT-VIRT-FIN-PT-09-2023-U-LOLC\\02-Homework\\05-APIs\\Instructions\\Starter_Code\\MCForecastTools.py:117: PerformanceWarning: DataFrame is highly fragmented.  This is usually the result of calling `frame.insert` many times, which has poor performance.  Consider joining all columns at once using pd.concat(axis=1) instead. To get a de-fragmented frame, use `newframe = frame.copy()`\n",
      "  portfolio_cumulative_returns[n] = (1 + sim_df.fillna(0)).cumprod()\n",
      "C:\\Users\\ranol\\OneDrive\\Desktop\\RUT-VIRT-FIN-PT-09-2023-U-LOLC\\02-Homework\\05-APIs\\Instructions\\Starter_Code\\MCForecastTools.py:117: PerformanceWarning: DataFrame is highly fragmented.  This is usually the result of calling `frame.insert` many times, which has poor performance.  Consider joining all columns at once using pd.concat(axis=1) instead. To get a de-fragmented frame, use `newframe = frame.copy()`\n",
      "  portfolio_cumulative_returns[n] = (1 + sim_df.fillna(0)).cumprod()\n"
     ]
    },
    {
     "name": "stdout",
     "output_type": "stream",
     "text": [
      "Running Monte Carlo simulation number 360.\n"
     ]
    },
    {
     "name": "stderr",
     "output_type": "stream",
     "text": [
      "C:\\Users\\ranol\\OneDrive\\Desktop\\RUT-VIRT-FIN-PT-09-2023-U-LOLC\\02-Homework\\05-APIs\\Instructions\\Starter_Code\\MCForecastTools.py:117: PerformanceWarning: DataFrame is highly fragmented.  This is usually the result of calling `frame.insert` many times, which has poor performance.  Consider joining all columns at once using pd.concat(axis=1) instead. To get a de-fragmented frame, use `newframe = frame.copy()`\n",
      "  portfolio_cumulative_returns[n] = (1 + sim_df.fillna(0)).cumprod()\n",
      "C:\\Users\\ranol\\OneDrive\\Desktop\\RUT-VIRT-FIN-PT-09-2023-U-LOLC\\02-Homework\\05-APIs\\Instructions\\Starter_Code\\MCForecastTools.py:117: PerformanceWarning: DataFrame is highly fragmented.  This is usually the result of calling `frame.insert` many times, which has poor performance.  Consider joining all columns at once using pd.concat(axis=1) instead. To get a de-fragmented frame, use `newframe = frame.copy()`\n",
      "  portfolio_cumulative_returns[n] = (1 + sim_df.fillna(0)).cumprod()\n",
      "C:\\Users\\ranol\\OneDrive\\Desktop\\RUT-VIRT-FIN-PT-09-2023-U-LOLC\\02-Homework\\05-APIs\\Instructions\\Starter_Code\\MCForecastTools.py:117: PerformanceWarning: DataFrame is highly fragmented.  This is usually the result of calling `frame.insert` many times, which has poor performance.  Consider joining all columns at once using pd.concat(axis=1) instead. To get a de-fragmented frame, use `newframe = frame.copy()`\n",
      "  portfolio_cumulative_returns[n] = (1 + sim_df.fillna(0)).cumprod()\n",
      "C:\\Users\\ranol\\OneDrive\\Desktop\\RUT-VIRT-FIN-PT-09-2023-U-LOLC\\02-Homework\\05-APIs\\Instructions\\Starter_Code\\MCForecastTools.py:117: PerformanceWarning: DataFrame is highly fragmented.  This is usually the result of calling `frame.insert` many times, which has poor performance.  Consider joining all columns at once using pd.concat(axis=1) instead. To get a de-fragmented frame, use `newframe = frame.copy()`\n",
      "  portfolio_cumulative_returns[n] = (1 + sim_df.fillna(0)).cumprod()\n",
      "C:\\Users\\ranol\\OneDrive\\Desktop\\RUT-VIRT-FIN-PT-09-2023-U-LOLC\\02-Homework\\05-APIs\\Instructions\\Starter_Code\\MCForecastTools.py:117: PerformanceWarning: DataFrame is highly fragmented.  This is usually the result of calling `frame.insert` many times, which has poor performance.  Consider joining all columns at once using pd.concat(axis=1) instead. To get a de-fragmented frame, use `newframe = frame.copy()`\n",
      "  portfolio_cumulative_returns[n] = (1 + sim_df.fillna(0)).cumprod()\n",
      "C:\\Users\\ranol\\OneDrive\\Desktop\\RUT-VIRT-FIN-PT-09-2023-U-LOLC\\02-Homework\\05-APIs\\Instructions\\Starter_Code\\MCForecastTools.py:117: PerformanceWarning: DataFrame is highly fragmented.  This is usually the result of calling `frame.insert` many times, which has poor performance.  Consider joining all columns at once using pd.concat(axis=1) instead. To get a de-fragmented frame, use `newframe = frame.copy()`\n",
      "  portfolio_cumulative_returns[n] = (1 + sim_df.fillna(0)).cumprod()\n",
      "C:\\Users\\ranol\\OneDrive\\Desktop\\RUT-VIRT-FIN-PT-09-2023-U-LOLC\\02-Homework\\05-APIs\\Instructions\\Starter_Code\\MCForecastTools.py:117: PerformanceWarning: DataFrame is highly fragmented.  This is usually the result of calling `frame.insert` many times, which has poor performance.  Consider joining all columns at once using pd.concat(axis=1) instead. To get a de-fragmented frame, use `newframe = frame.copy()`\n",
      "  portfolio_cumulative_returns[n] = (1 + sim_df.fillna(0)).cumprod()\n"
     ]
    },
    {
     "name": "stdout",
     "output_type": "stream",
     "text": [
      "Running Monte Carlo simulation number 370.\n"
     ]
    },
    {
     "name": "stderr",
     "output_type": "stream",
     "text": [
      "C:\\Users\\ranol\\OneDrive\\Desktop\\RUT-VIRT-FIN-PT-09-2023-U-LOLC\\02-Homework\\05-APIs\\Instructions\\Starter_Code\\MCForecastTools.py:117: PerformanceWarning: DataFrame is highly fragmented.  This is usually the result of calling `frame.insert` many times, which has poor performance.  Consider joining all columns at once using pd.concat(axis=1) instead. To get a de-fragmented frame, use `newframe = frame.copy()`\n",
      "  portfolio_cumulative_returns[n] = (1 + sim_df.fillna(0)).cumprod()\n",
      "C:\\Users\\ranol\\OneDrive\\Desktop\\RUT-VIRT-FIN-PT-09-2023-U-LOLC\\02-Homework\\05-APIs\\Instructions\\Starter_Code\\MCForecastTools.py:117: PerformanceWarning: DataFrame is highly fragmented.  This is usually the result of calling `frame.insert` many times, which has poor performance.  Consider joining all columns at once using pd.concat(axis=1) instead. To get a de-fragmented frame, use `newframe = frame.copy()`\n",
      "  portfolio_cumulative_returns[n] = (1 + sim_df.fillna(0)).cumprod()\n",
      "C:\\Users\\ranol\\OneDrive\\Desktop\\RUT-VIRT-FIN-PT-09-2023-U-LOLC\\02-Homework\\05-APIs\\Instructions\\Starter_Code\\MCForecastTools.py:117: PerformanceWarning: DataFrame is highly fragmented.  This is usually the result of calling `frame.insert` many times, which has poor performance.  Consider joining all columns at once using pd.concat(axis=1) instead. To get a de-fragmented frame, use `newframe = frame.copy()`\n",
      "  portfolio_cumulative_returns[n] = (1 + sim_df.fillna(0)).cumprod()\n",
      "C:\\Users\\ranol\\OneDrive\\Desktop\\RUT-VIRT-FIN-PT-09-2023-U-LOLC\\02-Homework\\05-APIs\\Instructions\\Starter_Code\\MCForecastTools.py:117: PerformanceWarning: DataFrame is highly fragmented.  This is usually the result of calling `frame.insert` many times, which has poor performance.  Consider joining all columns at once using pd.concat(axis=1) instead. To get a de-fragmented frame, use `newframe = frame.copy()`\n",
      "  portfolio_cumulative_returns[n] = (1 + sim_df.fillna(0)).cumprod()\n",
      "C:\\Users\\ranol\\OneDrive\\Desktop\\RUT-VIRT-FIN-PT-09-2023-U-LOLC\\02-Homework\\05-APIs\\Instructions\\Starter_Code\\MCForecastTools.py:117: PerformanceWarning: DataFrame is highly fragmented.  This is usually the result of calling `frame.insert` many times, which has poor performance.  Consider joining all columns at once using pd.concat(axis=1) instead. To get a de-fragmented frame, use `newframe = frame.copy()`\n",
      "  portfolio_cumulative_returns[n] = (1 + sim_df.fillna(0)).cumprod()\n",
      "C:\\Users\\ranol\\OneDrive\\Desktop\\RUT-VIRT-FIN-PT-09-2023-U-LOLC\\02-Homework\\05-APIs\\Instructions\\Starter_Code\\MCForecastTools.py:117: PerformanceWarning: DataFrame is highly fragmented.  This is usually the result of calling `frame.insert` many times, which has poor performance.  Consider joining all columns at once using pd.concat(axis=1) instead. To get a de-fragmented frame, use `newframe = frame.copy()`\n",
      "  portfolio_cumulative_returns[n] = (1 + sim_df.fillna(0)).cumprod()\n",
      "C:\\Users\\ranol\\OneDrive\\Desktop\\RUT-VIRT-FIN-PT-09-2023-U-LOLC\\02-Homework\\05-APIs\\Instructions\\Starter_Code\\MCForecastTools.py:117: PerformanceWarning: DataFrame is highly fragmented.  This is usually the result of calling `frame.insert` many times, which has poor performance.  Consider joining all columns at once using pd.concat(axis=1) instead. To get a de-fragmented frame, use `newframe = frame.copy()`\n",
      "  portfolio_cumulative_returns[n] = (1 + sim_df.fillna(0)).cumprod()\n",
      "C:\\Users\\ranol\\OneDrive\\Desktop\\RUT-VIRT-FIN-PT-09-2023-U-LOLC\\02-Homework\\05-APIs\\Instructions\\Starter_Code\\MCForecastTools.py:117: PerformanceWarning: DataFrame is highly fragmented.  This is usually the result of calling `frame.insert` many times, which has poor performance.  Consider joining all columns at once using pd.concat(axis=1) instead. To get a de-fragmented frame, use `newframe = frame.copy()`\n",
      "  portfolio_cumulative_returns[n] = (1 + sim_df.fillna(0)).cumprod()\n",
      "C:\\Users\\ranol\\OneDrive\\Desktop\\RUT-VIRT-FIN-PT-09-2023-U-LOLC\\02-Homework\\05-APIs\\Instructions\\Starter_Code\\MCForecastTools.py:117: PerformanceWarning: DataFrame is highly fragmented.  This is usually the result of calling `frame.insert` many times, which has poor performance.  Consider joining all columns at once using pd.concat(axis=1) instead. To get a de-fragmented frame, use `newframe = frame.copy()`\n",
      "  portfolio_cumulative_returns[n] = (1 + sim_df.fillna(0)).cumprod()\n",
      "C:\\Users\\ranol\\OneDrive\\Desktop\\RUT-VIRT-FIN-PT-09-2023-U-LOLC\\02-Homework\\05-APIs\\Instructions\\Starter_Code\\MCForecastTools.py:117: PerformanceWarning: DataFrame is highly fragmented.  This is usually the result of calling `frame.insert` many times, which has poor performance.  Consider joining all columns at once using pd.concat(axis=1) instead. To get a de-fragmented frame, use `newframe = frame.copy()`\n",
      "  portfolio_cumulative_returns[n] = (1 + sim_df.fillna(0)).cumprod()\n",
      "C:\\Users\\ranol\\OneDrive\\Desktop\\RUT-VIRT-FIN-PT-09-2023-U-LOLC\\02-Homework\\05-APIs\\Instructions\\Starter_Code\\MCForecastTools.py:117: PerformanceWarning: DataFrame is highly fragmented.  This is usually the result of calling `frame.insert` many times, which has poor performance.  Consider joining all columns at once using pd.concat(axis=1) instead. To get a de-fragmented frame, use `newframe = frame.copy()`\n",
      "  portfolio_cumulative_returns[n] = (1 + sim_df.fillna(0)).cumprod()\n",
      "C:\\Users\\ranol\\OneDrive\\Desktop\\RUT-VIRT-FIN-PT-09-2023-U-LOLC\\02-Homework\\05-APIs\\Instructions\\Starter_Code\\MCForecastTools.py:117: PerformanceWarning: DataFrame is highly fragmented.  This is usually the result of calling `frame.insert` many times, which has poor performance.  Consider joining all columns at once using pd.concat(axis=1) instead. To get a de-fragmented frame, use `newframe = frame.copy()`\n",
      "  portfolio_cumulative_returns[n] = (1 + sim_df.fillna(0)).cumprod()\n"
     ]
    },
    {
     "name": "stdout",
     "output_type": "stream",
     "text": [
      "Running Monte Carlo simulation number 380.\n"
     ]
    },
    {
     "name": "stderr",
     "output_type": "stream",
     "text": [
      "C:\\Users\\ranol\\OneDrive\\Desktop\\RUT-VIRT-FIN-PT-09-2023-U-LOLC\\02-Homework\\05-APIs\\Instructions\\Starter_Code\\MCForecastTools.py:117: PerformanceWarning: DataFrame is highly fragmented.  This is usually the result of calling `frame.insert` many times, which has poor performance.  Consider joining all columns at once using pd.concat(axis=1) instead. To get a de-fragmented frame, use `newframe = frame.copy()`\n",
      "  portfolio_cumulative_returns[n] = (1 + sim_df.fillna(0)).cumprod()\n",
      "C:\\Users\\ranol\\OneDrive\\Desktop\\RUT-VIRT-FIN-PT-09-2023-U-LOLC\\02-Homework\\05-APIs\\Instructions\\Starter_Code\\MCForecastTools.py:117: PerformanceWarning: DataFrame is highly fragmented.  This is usually the result of calling `frame.insert` many times, which has poor performance.  Consider joining all columns at once using pd.concat(axis=1) instead. To get a de-fragmented frame, use `newframe = frame.copy()`\n",
      "  portfolio_cumulative_returns[n] = (1 + sim_df.fillna(0)).cumprod()\n",
      "C:\\Users\\ranol\\OneDrive\\Desktop\\RUT-VIRT-FIN-PT-09-2023-U-LOLC\\02-Homework\\05-APIs\\Instructions\\Starter_Code\\MCForecastTools.py:117: PerformanceWarning: DataFrame is highly fragmented.  This is usually the result of calling `frame.insert` many times, which has poor performance.  Consider joining all columns at once using pd.concat(axis=1) instead. To get a de-fragmented frame, use `newframe = frame.copy()`\n",
      "  portfolio_cumulative_returns[n] = (1 + sim_df.fillna(0)).cumprod()\n",
      "C:\\Users\\ranol\\OneDrive\\Desktop\\RUT-VIRT-FIN-PT-09-2023-U-LOLC\\02-Homework\\05-APIs\\Instructions\\Starter_Code\\MCForecastTools.py:117: PerformanceWarning: DataFrame is highly fragmented.  This is usually the result of calling `frame.insert` many times, which has poor performance.  Consider joining all columns at once using pd.concat(axis=1) instead. To get a de-fragmented frame, use `newframe = frame.copy()`\n",
      "  portfolio_cumulative_returns[n] = (1 + sim_df.fillna(0)).cumprod()\n",
      "C:\\Users\\ranol\\OneDrive\\Desktop\\RUT-VIRT-FIN-PT-09-2023-U-LOLC\\02-Homework\\05-APIs\\Instructions\\Starter_Code\\MCForecastTools.py:117: PerformanceWarning: DataFrame is highly fragmented.  This is usually the result of calling `frame.insert` many times, which has poor performance.  Consider joining all columns at once using pd.concat(axis=1) instead. To get a de-fragmented frame, use `newframe = frame.copy()`\n",
      "  portfolio_cumulative_returns[n] = (1 + sim_df.fillna(0)).cumprod()\n",
      "C:\\Users\\ranol\\OneDrive\\Desktop\\RUT-VIRT-FIN-PT-09-2023-U-LOLC\\02-Homework\\05-APIs\\Instructions\\Starter_Code\\MCForecastTools.py:117: PerformanceWarning: DataFrame is highly fragmented.  This is usually the result of calling `frame.insert` many times, which has poor performance.  Consider joining all columns at once using pd.concat(axis=1) instead. To get a de-fragmented frame, use `newframe = frame.copy()`\n",
      "  portfolio_cumulative_returns[n] = (1 + sim_df.fillna(0)).cumprod()\n",
      "C:\\Users\\ranol\\OneDrive\\Desktop\\RUT-VIRT-FIN-PT-09-2023-U-LOLC\\02-Homework\\05-APIs\\Instructions\\Starter_Code\\MCForecastTools.py:117: PerformanceWarning: DataFrame is highly fragmented.  This is usually the result of calling `frame.insert` many times, which has poor performance.  Consider joining all columns at once using pd.concat(axis=1) instead. To get a de-fragmented frame, use `newframe = frame.copy()`\n",
      "  portfolio_cumulative_returns[n] = (1 + sim_df.fillna(0)).cumprod()\n",
      "C:\\Users\\ranol\\OneDrive\\Desktop\\RUT-VIRT-FIN-PT-09-2023-U-LOLC\\02-Homework\\05-APIs\\Instructions\\Starter_Code\\MCForecastTools.py:117: PerformanceWarning: DataFrame is highly fragmented.  This is usually the result of calling `frame.insert` many times, which has poor performance.  Consider joining all columns at once using pd.concat(axis=1) instead. To get a de-fragmented frame, use `newframe = frame.copy()`\n",
      "  portfolio_cumulative_returns[n] = (1 + sim_df.fillna(0)).cumprod()\n",
      "C:\\Users\\ranol\\OneDrive\\Desktop\\RUT-VIRT-FIN-PT-09-2023-U-LOLC\\02-Homework\\05-APIs\\Instructions\\Starter_Code\\MCForecastTools.py:117: PerformanceWarning: DataFrame is highly fragmented.  This is usually the result of calling `frame.insert` many times, which has poor performance.  Consider joining all columns at once using pd.concat(axis=1) instead. To get a de-fragmented frame, use `newframe = frame.copy()`\n",
      "  portfolio_cumulative_returns[n] = (1 + sim_df.fillna(0)).cumprod()\n",
      "C:\\Users\\ranol\\OneDrive\\Desktop\\RUT-VIRT-FIN-PT-09-2023-U-LOLC\\02-Homework\\05-APIs\\Instructions\\Starter_Code\\MCForecastTools.py:117: PerformanceWarning: DataFrame is highly fragmented.  This is usually the result of calling `frame.insert` many times, which has poor performance.  Consider joining all columns at once using pd.concat(axis=1) instead. To get a de-fragmented frame, use `newframe = frame.copy()`\n",
      "  portfolio_cumulative_returns[n] = (1 + sim_df.fillna(0)).cumprod()\n",
      "C:\\Users\\ranol\\OneDrive\\Desktop\\RUT-VIRT-FIN-PT-09-2023-U-LOLC\\02-Homework\\05-APIs\\Instructions\\Starter_Code\\MCForecastTools.py:117: PerformanceWarning: DataFrame is highly fragmented.  This is usually the result of calling `frame.insert` many times, which has poor performance.  Consider joining all columns at once using pd.concat(axis=1) instead. To get a de-fragmented frame, use `newframe = frame.copy()`\n",
      "  portfolio_cumulative_returns[n] = (1 + sim_df.fillna(0)).cumprod()\n",
      "C:\\Users\\ranol\\OneDrive\\Desktop\\RUT-VIRT-FIN-PT-09-2023-U-LOLC\\02-Homework\\05-APIs\\Instructions\\Starter_Code\\MCForecastTools.py:117: PerformanceWarning: DataFrame is highly fragmented.  This is usually the result of calling `frame.insert` many times, which has poor performance.  Consider joining all columns at once using pd.concat(axis=1) instead. To get a de-fragmented frame, use `newframe = frame.copy()`\n",
      "  portfolio_cumulative_returns[n] = (1 + sim_df.fillna(0)).cumprod()\n"
     ]
    },
    {
     "name": "stdout",
     "output_type": "stream",
     "text": [
      "Running Monte Carlo simulation number 390.\n"
     ]
    },
    {
     "name": "stderr",
     "output_type": "stream",
     "text": [
      "C:\\Users\\ranol\\OneDrive\\Desktop\\RUT-VIRT-FIN-PT-09-2023-U-LOLC\\02-Homework\\05-APIs\\Instructions\\Starter_Code\\MCForecastTools.py:117: PerformanceWarning: DataFrame is highly fragmented.  This is usually the result of calling `frame.insert` many times, which has poor performance.  Consider joining all columns at once using pd.concat(axis=1) instead. To get a de-fragmented frame, use `newframe = frame.copy()`\n",
      "  portfolio_cumulative_returns[n] = (1 + sim_df.fillna(0)).cumprod()\n",
      "C:\\Users\\ranol\\OneDrive\\Desktop\\RUT-VIRT-FIN-PT-09-2023-U-LOLC\\02-Homework\\05-APIs\\Instructions\\Starter_Code\\MCForecastTools.py:117: PerformanceWarning: DataFrame is highly fragmented.  This is usually the result of calling `frame.insert` many times, which has poor performance.  Consider joining all columns at once using pd.concat(axis=1) instead. To get a de-fragmented frame, use `newframe = frame.copy()`\n",
      "  portfolio_cumulative_returns[n] = (1 + sim_df.fillna(0)).cumprod()\n",
      "C:\\Users\\ranol\\OneDrive\\Desktop\\RUT-VIRT-FIN-PT-09-2023-U-LOLC\\02-Homework\\05-APIs\\Instructions\\Starter_Code\\MCForecastTools.py:117: PerformanceWarning: DataFrame is highly fragmented.  This is usually the result of calling `frame.insert` many times, which has poor performance.  Consider joining all columns at once using pd.concat(axis=1) instead. To get a de-fragmented frame, use `newframe = frame.copy()`\n",
      "  portfolio_cumulative_returns[n] = (1 + sim_df.fillna(0)).cumprod()\n",
      "C:\\Users\\ranol\\OneDrive\\Desktop\\RUT-VIRT-FIN-PT-09-2023-U-LOLC\\02-Homework\\05-APIs\\Instructions\\Starter_Code\\MCForecastTools.py:117: PerformanceWarning: DataFrame is highly fragmented.  This is usually the result of calling `frame.insert` many times, which has poor performance.  Consider joining all columns at once using pd.concat(axis=1) instead. To get a de-fragmented frame, use `newframe = frame.copy()`\n",
      "  portfolio_cumulative_returns[n] = (1 + sim_df.fillna(0)).cumprod()\n",
      "C:\\Users\\ranol\\OneDrive\\Desktop\\RUT-VIRT-FIN-PT-09-2023-U-LOLC\\02-Homework\\05-APIs\\Instructions\\Starter_Code\\MCForecastTools.py:117: PerformanceWarning: DataFrame is highly fragmented.  This is usually the result of calling `frame.insert` many times, which has poor performance.  Consider joining all columns at once using pd.concat(axis=1) instead. To get a de-fragmented frame, use `newframe = frame.copy()`\n",
      "  portfolio_cumulative_returns[n] = (1 + sim_df.fillna(0)).cumprod()\n",
      "C:\\Users\\ranol\\OneDrive\\Desktop\\RUT-VIRT-FIN-PT-09-2023-U-LOLC\\02-Homework\\05-APIs\\Instructions\\Starter_Code\\MCForecastTools.py:117: PerformanceWarning: DataFrame is highly fragmented.  This is usually the result of calling `frame.insert` many times, which has poor performance.  Consider joining all columns at once using pd.concat(axis=1) instead. To get a de-fragmented frame, use `newframe = frame.copy()`\n",
      "  portfolio_cumulative_returns[n] = (1 + sim_df.fillna(0)).cumprod()\n",
      "C:\\Users\\ranol\\OneDrive\\Desktop\\RUT-VIRT-FIN-PT-09-2023-U-LOLC\\02-Homework\\05-APIs\\Instructions\\Starter_Code\\MCForecastTools.py:117: PerformanceWarning: DataFrame is highly fragmented.  This is usually the result of calling `frame.insert` many times, which has poor performance.  Consider joining all columns at once using pd.concat(axis=1) instead. To get a de-fragmented frame, use `newframe = frame.copy()`\n",
      "  portfolio_cumulative_returns[n] = (1 + sim_df.fillna(0)).cumprod()\n"
     ]
    },
    {
     "name": "stdout",
     "output_type": "stream",
     "text": [
      "Running Monte Carlo simulation number 400.\n"
     ]
    },
    {
     "name": "stderr",
     "output_type": "stream",
     "text": [
      "C:\\Users\\ranol\\OneDrive\\Desktop\\RUT-VIRT-FIN-PT-09-2023-U-LOLC\\02-Homework\\05-APIs\\Instructions\\Starter_Code\\MCForecastTools.py:117: PerformanceWarning: DataFrame is highly fragmented.  This is usually the result of calling `frame.insert` many times, which has poor performance.  Consider joining all columns at once using pd.concat(axis=1) instead. To get a de-fragmented frame, use `newframe = frame.copy()`\n",
      "  portfolio_cumulative_returns[n] = (1 + sim_df.fillna(0)).cumprod()\n",
      "C:\\Users\\ranol\\OneDrive\\Desktop\\RUT-VIRT-FIN-PT-09-2023-U-LOLC\\02-Homework\\05-APIs\\Instructions\\Starter_Code\\MCForecastTools.py:117: PerformanceWarning: DataFrame is highly fragmented.  This is usually the result of calling `frame.insert` many times, which has poor performance.  Consider joining all columns at once using pd.concat(axis=1) instead. To get a de-fragmented frame, use `newframe = frame.copy()`\n",
      "  portfolio_cumulative_returns[n] = (1 + sim_df.fillna(0)).cumprod()\n",
      "C:\\Users\\ranol\\OneDrive\\Desktop\\RUT-VIRT-FIN-PT-09-2023-U-LOLC\\02-Homework\\05-APIs\\Instructions\\Starter_Code\\MCForecastTools.py:117: PerformanceWarning: DataFrame is highly fragmented.  This is usually the result of calling `frame.insert` many times, which has poor performance.  Consider joining all columns at once using pd.concat(axis=1) instead. To get a de-fragmented frame, use `newframe = frame.copy()`\n",
      "  portfolio_cumulative_returns[n] = (1 + sim_df.fillna(0)).cumprod()\n",
      "C:\\Users\\ranol\\OneDrive\\Desktop\\RUT-VIRT-FIN-PT-09-2023-U-LOLC\\02-Homework\\05-APIs\\Instructions\\Starter_Code\\MCForecastTools.py:117: PerformanceWarning: DataFrame is highly fragmented.  This is usually the result of calling `frame.insert` many times, which has poor performance.  Consider joining all columns at once using pd.concat(axis=1) instead. To get a de-fragmented frame, use `newframe = frame.copy()`\n",
      "  portfolio_cumulative_returns[n] = (1 + sim_df.fillna(0)).cumprod()\n",
      "C:\\Users\\ranol\\OneDrive\\Desktop\\RUT-VIRT-FIN-PT-09-2023-U-LOLC\\02-Homework\\05-APIs\\Instructions\\Starter_Code\\MCForecastTools.py:117: PerformanceWarning: DataFrame is highly fragmented.  This is usually the result of calling `frame.insert` many times, which has poor performance.  Consider joining all columns at once using pd.concat(axis=1) instead. To get a de-fragmented frame, use `newframe = frame.copy()`\n",
      "  portfolio_cumulative_returns[n] = (1 + sim_df.fillna(0)).cumprod()\n",
      "C:\\Users\\ranol\\OneDrive\\Desktop\\RUT-VIRT-FIN-PT-09-2023-U-LOLC\\02-Homework\\05-APIs\\Instructions\\Starter_Code\\MCForecastTools.py:117: PerformanceWarning: DataFrame is highly fragmented.  This is usually the result of calling `frame.insert` many times, which has poor performance.  Consider joining all columns at once using pd.concat(axis=1) instead. To get a de-fragmented frame, use `newframe = frame.copy()`\n",
      "  portfolio_cumulative_returns[n] = (1 + sim_df.fillna(0)).cumprod()\n",
      "C:\\Users\\ranol\\OneDrive\\Desktop\\RUT-VIRT-FIN-PT-09-2023-U-LOLC\\02-Homework\\05-APIs\\Instructions\\Starter_Code\\MCForecastTools.py:117: PerformanceWarning: DataFrame is highly fragmented.  This is usually the result of calling `frame.insert` many times, which has poor performance.  Consider joining all columns at once using pd.concat(axis=1) instead. To get a de-fragmented frame, use `newframe = frame.copy()`\n",
      "  portfolio_cumulative_returns[n] = (1 + sim_df.fillna(0)).cumprod()\n",
      "C:\\Users\\ranol\\OneDrive\\Desktop\\RUT-VIRT-FIN-PT-09-2023-U-LOLC\\02-Homework\\05-APIs\\Instructions\\Starter_Code\\MCForecastTools.py:117: PerformanceWarning: DataFrame is highly fragmented.  This is usually the result of calling `frame.insert` many times, which has poor performance.  Consider joining all columns at once using pd.concat(axis=1) instead. To get a de-fragmented frame, use `newframe = frame.copy()`\n",
      "  portfolio_cumulative_returns[n] = (1 + sim_df.fillna(0)).cumprod()\n"
     ]
    },
    {
     "name": "stdout",
     "output_type": "stream",
     "text": [
      "Running Monte Carlo simulation number 410.\n"
     ]
    },
    {
     "name": "stderr",
     "output_type": "stream",
     "text": [
      "C:\\Users\\ranol\\OneDrive\\Desktop\\RUT-VIRT-FIN-PT-09-2023-U-LOLC\\02-Homework\\05-APIs\\Instructions\\Starter_Code\\MCForecastTools.py:117: PerformanceWarning: DataFrame is highly fragmented.  This is usually the result of calling `frame.insert` many times, which has poor performance.  Consider joining all columns at once using pd.concat(axis=1) instead. To get a de-fragmented frame, use `newframe = frame.copy()`\n",
      "  portfolio_cumulative_returns[n] = (1 + sim_df.fillna(0)).cumprod()\n",
      "C:\\Users\\ranol\\OneDrive\\Desktop\\RUT-VIRT-FIN-PT-09-2023-U-LOLC\\02-Homework\\05-APIs\\Instructions\\Starter_Code\\MCForecastTools.py:117: PerformanceWarning: DataFrame is highly fragmented.  This is usually the result of calling `frame.insert` many times, which has poor performance.  Consider joining all columns at once using pd.concat(axis=1) instead. To get a de-fragmented frame, use `newframe = frame.copy()`\n",
      "  portfolio_cumulative_returns[n] = (1 + sim_df.fillna(0)).cumprod()\n",
      "C:\\Users\\ranol\\OneDrive\\Desktop\\RUT-VIRT-FIN-PT-09-2023-U-LOLC\\02-Homework\\05-APIs\\Instructions\\Starter_Code\\MCForecastTools.py:117: PerformanceWarning: DataFrame is highly fragmented.  This is usually the result of calling `frame.insert` many times, which has poor performance.  Consider joining all columns at once using pd.concat(axis=1) instead. To get a de-fragmented frame, use `newframe = frame.copy()`\n",
      "  portfolio_cumulative_returns[n] = (1 + sim_df.fillna(0)).cumprod()\n",
      "C:\\Users\\ranol\\OneDrive\\Desktop\\RUT-VIRT-FIN-PT-09-2023-U-LOLC\\02-Homework\\05-APIs\\Instructions\\Starter_Code\\MCForecastTools.py:117: PerformanceWarning: DataFrame is highly fragmented.  This is usually the result of calling `frame.insert` many times, which has poor performance.  Consider joining all columns at once using pd.concat(axis=1) instead. To get a de-fragmented frame, use `newframe = frame.copy()`\n",
      "  portfolio_cumulative_returns[n] = (1 + sim_df.fillna(0)).cumprod()\n",
      "C:\\Users\\ranol\\OneDrive\\Desktop\\RUT-VIRT-FIN-PT-09-2023-U-LOLC\\02-Homework\\05-APIs\\Instructions\\Starter_Code\\MCForecastTools.py:117: PerformanceWarning: DataFrame is highly fragmented.  This is usually the result of calling `frame.insert` many times, which has poor performance.  Consider joining all columns at once using pd.concat(axis=1) instead. To get a de-fragmented frame, use `newframe = frame.copy()`\n",
      "  portfolio_cumulative_returns[n] = (1 + sim_df.fillna(0)).cumprod()\n",
      "C:\\Users\\ranol\\OneDrive\\Desktop\\RUT-VIRT-FIN-PT-09-2023-U-LOLC\\02-Homework\\05-APIs\\Instructions\\Starter_Code\\MCForecastTools.py:117: PerformanceWarning: DataFrame is highly fragmented.  This is usually the result of calling `frame.insert` many times, which has poor performance.  Consider joining all columns at once using pd.concat(axis=1) instead. To get a de-fragmented frame, use `newframe = frame.copy()`\n",
      "  portfolio_cumulative_returns[n] = (1 + sim_df.fillna(0)).cumprod()\n",
      "C:\\Users\\ranol\\OneDrive\\Desktop\\RUT-VIRT-FIN-PT-09-2023-U-LOLC\\02-Homework\\05-APIs\\Instructions\\Starter_Code\\MCForecastTools.py:117: PerformanceWarning: DataFrame is highly fragmented.  This is usually the result of calling `frame.insert` many times, which has poor performance.  Consider joining all columns at once using pd.concat(axis=1) instead. To get a de-fragmented frame, use `newframe = frame.copy()`\n",
      "  portfolio_cumulative_returns[n] = (1 + sim_df.fillna(0)).cumprod()\n",
      "C:\\Users\\ranol\\OneDrive\\Desktop\\RUT-VIRT-FIN-PT-09-2023-U-LOLC\\02-Homework\\05-APIs\\Instructions\\Starter_Code\\MCForecastTools.py:117: PerformanceWarning: DataFrame is highly fragmented.  This is usually the result of calling `frame.insert` many times, which has poor performance.  Consider joining all columns at once using pd.concat(axis=1) instead. To get a de-fragmented frame, use `newframe = frame.copy()`\n",
      "  portfolio_cumulative_returns[n] = (1 + sim_df.fillna(0)).cumprod()\n",
      "C:\\Users\\ranol\\OneDrive\\Desktop\\RUT-VIRT-FIN-PT-09-2023-U-LOLC\\02-Homework\\05-APIs\\Instructions\\Starter_Code\\MCForecastTools.py:117: PerformanceWarning: DataFrame is highly fragmented.  This is usually the result of calling `frame.insert` many times, which has poor performance.  Consider joining all columns at once using pd.concat(axis=1) instead. To get a de-fragmented frame, use `newframe = frame.copy()`\n",
      "  portfolio_cumulative_returns[n] = (1 + sim_df.fillna(0)).cumprod()\n",
      "C:\\Users\\ranol\\OneDrive\\Desktop\\RUT-VIRT-FIN-PT-09-2023-U-LOLC\\02-Homework\\05-APIs\\Instructions\\Starter_Code\\MCForecastTools.py:117: PerformanceWarning: DataFrame is highly fragmented.  This is usually the result of calling `frame.insert` many times, which has poor performance.  Consider joining all columns at once using pd.concat(axis=1) instead. To get a de-fragmented frame, use `newframe = frame.copy()`\n",
      "  portfolio_cumulative_returns[n] = (1 + sim_df.fillna(0)).cumprod()\n",
      "C:\\Users\\ranol\\OneDrive\\Desktop\\RUT-VIRT-FIN-PT-09-2023-U-LOLC\\02-Homework\\05-APIs\\Instructions\\Starter_Code\\MCForecastTools.py:117: PerformanceWarning: DataFrame is highly fragmented.  This is usually the result of calling `frame.insert` many times, which has poor performance.  Consider joining all columns at once using pd.concat(axis=1) instead. To get a de-fragmented frame, use `newframe = frame.copy()`\n",
      "  portfolio_cumulative_returns[n] = (1 + sim_df.fillna(0)).cumprod()\n",
      "C:\\Users\\ranol\\OneDrive\\Desktop\\RUT-VIRT-FIN-PT-09-2023-U-LOLC\\02-Homework\\05-APIs\\Instructions\\Starter_Code\\MCForecastTools.py:117: PerformanceWarning: DataFrame is highly fragmented.  This is usually the result of calling `frame.insert` many times, which has poor performance.  Consider joining all columns at once using pd.concat(axis=1) instead. To get a de-fragmented frame, use `newframe = frame.copy()`\n",
      "  portfolio_cumulative_returns[n] = (1 + sim_df.fillna(0)).cumprod()\n",
      "C:\\Users\\ranol\\OneDrive\\Desktop\\RUT-VIRT-FIN-PT-09-2023-U-LOLC\\02-Homework\\05-APIs\\Instructions\\Starter_Code\\MCForecastTools.py:117: PerformanceWarning: DataFrame is highly fragmented.  This is usually the result of calling `frame.insert` many times, which has poor performance.  Consider joining all columns at once using pd.concat(axis=1) instead. To get a de-fragmented frame, use `newframe = frame.copy()`\n",
      "  portfolio_cumulative_returns[n] = (1 + sim_df.fillna(0)).cumprod()\n",
      "C:\\Users\\ranol\\OneDrive\\Desktop\\RUT-VIRT-FIN-PT-09-2023-U-LOLC\\02-Homework\\05-APIs\\Instructions\\Starter_Code\\MCForecastTools.py:117: PerformanceWarning: DataFrame is highly fragmented.  This is usually the result of calling `frame.insert` many times, which has poor performance.  Consider joining all columns at once using pd.concat(axis=1) instead. To get a de-fragmented frame, use `newframe = frame.copy()`\n",
      "  portfolio_cumulative_returns[n] = (1 + sim_df.fillna(0)).cumprod()\n",
      "C:\\Users\\ranol\\OneDrive\\Desktop\\RUT-VIRT-FIN-PT-09-2023-U-LOLC\\02-Homework\\05-APIs\\Instructions\\Starter_Code\\MCForecastTools.py:117: PerformanceWarning: DataFrame is highly fragmented.  This is usually the result of calling `frame.insert` many times, which has poor performance.  Consider joining all columns at once using pd.concat(axis=1) instead. To get a de-fragmented frame, use `newframe = frame.copy()`\n",
      "  portfolio_cumulative_returns[n] = (1 + sim_df.fillna(0)).cumprod()\n",
      "C:\\Users\\ranol\\OneDrive\\Desktop\\RUT-VIRT-FIN-PT-09-2023-U-LOLC\\02-Homework\\05-APIs\\Instructions\\Starter_Code\\MCForecastTools.py:117: PerformanceWarning: DataFrame is highly fragmented.  This is usually the result of calling `frame.insert` many times, which has poor performance.  Consider joining all columns at once using pd.concat(axis=1) instead. To get a de-fragmented frame, use `newframe = frame.copy()`\n",
      "  portfolio_cumulative_returns[n] = (1 + sim_df.fillna(0)).cumprod()\n"
     ]
    },
    {
     "name": "stdout",
     "output_type": "stream",
     "text": [
      "Running Monte Carlo simulation number 420.\n"
     ]
    },
    {
     "name": "stderr",
     "output_type": "stream",
     "text": [
      "C:\\Users\\ranol\\OneDrive\\Desktop\\RUT-VIRT-FIN-PT-09-2023-U-LOLC\\02-Homework\\05-APIs\\Instructions\\Starter_Code\\MCForecastTools.py:117: PerformanceWarning: DataFrame is highly fragmented.  This is usually the result of calling `frame.insert` many times, which has poor performance.  Consider joining all columns at once using pd.concat(axis=1) instead. To get a de-fragmented frame, use `newframe = frame.copy()`\n",
      "  portfolio_cumulative_returns[n] = (1 + sim_df.fillna(0)).cumprod()\n",
      "C:\\Users\\ranol\\OneDrive\\Desktop\\RUT-VIRT-FIN-PT-09-2023-U-LOLC\\02-Homework\\05-APIs\\Instructions\\Starter_Code\\MCForecastTools.py:117: PerformanceWarning: DataFrame is highly fragmented.  This is usually the result of calling `frame.insert` many times, which has poor performance.  Consider joining all columns at once using pd.concat(axis=1) instead. To get a de-fragmented frame, use `newframe = frame.copy()`\n",
      "  portfolio_cumulative_returns[n] = (1 + sim_df.fillna(0)).cumprod()\n",
      "C:\\Users\\ranol\\OneDrive\\Desktop\\RUT-VIRT-FIN-PT-09-2023-U-LOLC\\02-Homework\\05-APIs\\Instructions\\Starter_Code\\MCForecastTools.py:117: PerformanceWarning: DataFrame is highly fragmented.  This is usually the result of calling `frame.insert` many times, which has poor performance.  Consider joining all columns at once using pd.concat(axis=1) instead. To get a de-fragmented frame, use `newframe = frame.copy()`\n",
      "  portfolio_cumulative_returns[n] = (1 + sim_df.fillna(0)).cumprod()\n",
      "C:\\Users\\ranol\\OneDrive\\Desktop\\RUT-VIRT-FIN-PT-09-2023-U-LOLC\\02-Homework\\05-APIs\\Instructions\\Starter_Code\\MCForecastTools.py:117: PerformanceWarning: DataFrame is highly fragmented.  This is usually the result of calling `frame.insert` many times, which has poor performance.  Consider joining all columns at once using pd.concat(axis=1) instead. To get a de-fragmented frame, use `newframe = frame.copy()`\n",
      "  portfolio_cumulative_returns[n] = (1 + sim_df.fillna(0)).cumprod()\n",
      "C:\\Users\\ranol\\OneDrive\\Desktop\\RUT-VIRT-FIN-PT-09-2023-U-LOLC\\02-Homework\\05-APIs\\Instructions\\Starter_Code\\MCForecastTools.py:117: PerformanceWarning: DataFrame is highly fragmented.  This is usually the result of calling `frame.insert` many times, which has poor performance.  Consider joining all columns at once using pd.concat(axis=1) instead. To get a de-fragmented frame, use `newframe = frame.copy()`\n",
      "  portfolio_cumulative_returns[n] = (1 + sim_df.fillna(0)).cumprod()\n",
      "C:\\Users\\ranol\\OneDrive\\Desktop\\RUT-VIRT-FIN-PT-09-2023-U-LOLC\\02-Homework\\05-APIs\\Instructions\\Starter_Code\\MCForecastTools.py:117: PerformanceWarning: DataFrame is highly fragmented.  This is usually the result of calling `frame.insert` many times, which has poor performance.  Consider joining all columns at once using pd.concat(axis=1) instead. To get a de-fragmented frame, use `newframe = frame.copy()`\n",
      "  portfolio_cumulative_returns[n] = (1 + sim_df.fillna(0)).cumprod()\n",
      "C:\\Users\\ranol\\OneDrive\\Desktop\\RUT-VIRT-FIN-PT-09-2023-U-LOLC\\02-Homework\\05-APIs\\Instructions\\Starter_Code\\MCForecastTools.py:117: PerformanceWarning: DataFrame is highly fragmented.  This is usually the result of calling `frame.insert` many times, which has poor performance.  Consider joining all columns at once using pd.concat(axis=1) instead. To get a de-fragmented frame, use `newframe = frame.copy()`\n",
      "  portfolio_cumulative_returns[n] = (1 + sim_df.fillna(0)).cumprod()\n",
      "C:\\Users\\ranol\\OneDrive\\Desktop\\RUT-VIRT-FIN-PT-09-2023-U-LOLC\\02-Homework\\05-APIs\\Instructions\\Starter_Code\\MCForecastTools.py:117: PerformanceWarning: DataFrame is highly fragmented.  This is usually the result of calling `frame.insert` many times, which has poor performance.  Consider joining all columns at once using pd.concat(axis=1) instead. To get a de-fragmented frame, use `newframe = frame.copy()`\n",
      "  portfolio_cumulative_returns[n] = (1 + sim_df.fillna(0)).cumprod()\n",
      "C:\\Users\\ranol\\OneDrive\\Desktop\\RUT-VIRT-FIN-PT-09-2023-U-LOLC\\02-Homework\\05-APIs\\Instructions\\Starter_Code\\MCForecastTools.py:117: PerformanceWarning: DataFrame is highly fragmented.  This is usually the result of calling `frame.insert` many times, which has poor performance.  Consider joining all columns at once using pd.concat(axis=1) instead. To get a de-fragmented frame, use `newframe = frame.copy()`\n",
      "  portfolio_cumulative_returns[n] = (1 + sim_df.fillna(0)).cumprod()\n"
     ]
    },
    {
     "name": "stdout",
     "output_type": "stream",
     "text": [
      "Running Monte Carlo simulation number 430.\n",
      "Running Monte Carlo simulation number 440.\n"
     ]
    },
    {
     "name": "stderr",
     "output_type": "stream",
     "text": [
      "C:\\Users\\ranol\\OneDrive\\Desktop\\RUT-VIRT-FIN-PT-09-2023-U-LOLC\\02-Homework\\05-APIs\\Instructions\\Starter_Code\\MCForecastTools.py:117: PerformanceWarning: DataFrame is highly fragmented.  This is usually the result of calling `frame.insert` many times, which has poor performance.  Consider joining all columns at once using pd.concat(axis=1) instead. To get a de-fragmented frame, use `newframe = frame.copy()`\n",
      "  portfolio_cumulative_returns[n] = (1 + sim_df.fillna(0)).cumprod()\n",
      "C:\\Users\\ranol\\OneDrive\\Desktop\\RUT-VIRT-FIN-PT-09-2023-U-LOLC\\02-Homework\\05-APIs\\Instructions\\Starter_Code\\MCForecastTools.py:117: PerformanceWarning: DataFrame is highly fragmented.  This is usually the result of calling `frame.insert` many times, which has poor performance.  Consider joining all columns at once using pd.concat(axis=1) instead. To get a de-fragmented frame, use `newframe = frame.copy()`\n",
      "  portfolio_cumulative_returns[n] = (1 + sim_df.fillna(0)).cumprod()\n",
      "C:\\Users\\ranol\\OneDrive\\Desktop\\RUT-VIRT-FIN-PT-09-2023-U-LOLC\\02-Homework\\05-APIs\\Instructions\\Starter_Code\\MCForecastTools.py:117: PerformanceWarning: DataFrame is highly fragmented.  This is usually the result of calling `frame.insert` many times, which has poor performance.  Consider joining all columns at once using pd.concat(axis=1) instead. To get a de-fragmented frame, use `newframe = frame.copy()`\n",
      "  portfolio_cumulative_returns[n] = (1 + sim_df.fillna(0)).cumprod()\n",
      "C:\\Users\\ranol\\OneDrive\\Desktop\\RUT-VIRT-FIN-PT-09-2023-U-LOLC\\02-Homework\\05-APIs\\Instructions\\Starter_Code\\MCForecastTools.py:117: PerformanceWarning: DataFrame is highly fragmented.  This is usually the result of calling `frame.insert` many times, which has poor performance.  Consider joining all columns at once using pd.concat(axis=1) instead. To get a de-fragmented frame, use `newframe = frame.copy()`\n",
      "  portfolio_cumulative_returns[n] = (1 + sim_df.fillna(0)).cumprod()\n",
      "C:\\Users\\ranol\\OneDrive\\Desktop\\RUT-VIRT-FIN-PT-09-2023-U-LOLC\\02-Homework\\05-APIs\\Instructions\\Starter_Code\\MCForecastTools.py:117: PerformanceWarning: DataFrame is highly fragmented.  This is usually the result of calling `frame.insert` many times, which has poor performance.  Consider joining all columns at once using pd.concat(axis=1) instead. To get a de-fragmented frame, use `newframe = frame.copy()`\n",
      "  portfolio_cumulative_returns[n] = (1 + sim_df.fillna(0)).cumprod()\n",
      "C:\\Users\\ranol\\OneDrive\\Desktop\\RUT-VIRT-FIN-PT-09-2023-U-LOLC\\02-Homework\\05-APIs\\Instructions\\Starter_Code\\MCForecastTools.py:117: PerformanceWarning: DataFrame is highly fragmented.  This is usually the result of calling `frame.insert` many times, which has poor performance.  Consider joining all columns at once using pd.concat(axis=1) instead. To get a de-fragmented frame, use `newframe = frame.copy()`\n",
      "  portfolio_cumulative_returns[n] = (1 + sim_df.fillna(0)).cumprod()\n",
      "C:\\Users\\ranol\\OneDrive\\Desktop\\RUT-VIRT-FIN-PT-09-2023-U-LOLC\\02-Homework\\05-APIs\\Instructions\\Starter_Code\\MCForecastTools.py:117: PerformanceWarning: DataFrame is highly fragmented.  This is usually the result of calling `frame.insert` many times, which has poor performance.  Consider joining all columns at once using pd.concat(axis=1) instead. To get a de-fragmented frame, use `newframe = frame.copy()`\n",
      "  portfolio_cumulative_returns[n] = (1 + sim_df.fillna(0)).cumprod()\n",
      "C:\\Users\\ranol\\OneDrive\\Desktop\\RUT-VIRT-FIN-PT-09-2023-U-LOLC\\02-Homework\\05-APIs\\Instructions\\Starter_Code\\MCForecastTools.py:117: PerformanceWarning: DataFrame is highly fragmented.  This is usually the result of calling `frame.insert` many times, which has poor performance.  Consider joining all columns at once using pd.concat(axis=1) instead. To get a de-fragmented frame, use `newframe = frame.copy()`\n",
      "  portfolio_cumulative_returns[n] = (1 + sim_df.fillna(0)).cumprod()\n",
      "C:\\Users\\ranol\\OneDrive\\Desktop\\RUT-VIRT-FIN-PT-09-2023-U-LOLC\\02-Homework\\05-APIs\\Instructions\\Starter_Code\\MCForecastTools.py:117: PerformanceWarning: DataFrame is highly fragmented.  This is usually the result of calling `frame.insert` many times, which has poor performance.  Consider joining all columns at once using pd.concat(axis=1) instead. To get a de-fragmented frame, use `newframe = frame.copy()`\n",
      "  portfolio_cumulative_returns[n] = (1 + sim_df.fillna(0)).cumprod()\n",
      "C:\\Users\\ranol\\OneDrive\\Desktop\\RUT-VIRT-FIN-PT-09-2023-U-LOLC\\02-Homework\\05-APIs\\Instructions\\Starter_Code\\MCForecastTools.py:117: PerformanceWarning: DataFrame is highly fragmented.  This is usually the result of calling `frame.insert` many times, which has poor performance.  Consider joining all columns at once using pd.concat(axis=1) instead. To get a de-fragmented frame, use `newframe = frame.copy()`\n",
      "  portfolio_cumulative_returns[n] = (1 + sim_df.fillna(0)).cumprod()\n",
      "C:\\Users\\ranol\\OneDrive\\Desktop\\RUT-VIRT-FIN-PT-09-2023-U-LOLC\\02-Homework\\05-APIs\\Instructions\\Starter_Code\\MCForecastTools.py:117: PerformanceWarning: DataFrame is highly fragmented.  This is usually the result of calling `frame.insert` many times, which has poor performance.  Consider joining all columns at once using pd.concat(axis=1) instead. To get a de-fragmented frame, use `newframe = frame.copy()`\n",
      "  portfolio_cumulative_returns[n] = (1 + sim_df.fillna(0)).cumprod()\n",
      "C:\\Users\\ranol\\OneDrive\\Desktop\\RUT-VIRT-FIN-PT-09-2023-U-LOLC\\02-Homework\\05-APIs\\Instructions\\Starter_Code\\MCForecastTools.py:117: PerformanceWarning: DataFrame is highly fragmented.  This is usually the result of calling `frame.insert` many times, which has poor performance.  Consider joining all columns at once using pd.concat(axis=1) instead. To get a de-fragmented frame, use `newframe = frame.copy()`\n",
      "  portfolio_cumulative_returns[n] = (1 + sim_df.fillna(0)).cumprod()\n",
      "C:\\Users\\ranol\\OneDrive\\Desktop\\RUT-VIRT-FIN-PT-09-2023-U-LOLC\\02-Homework\\05-APIs\\Instructions\\Starter_Code\\MCForecastTools.py:117: PerformanceWarning: DataFrame is highly fragmented.  This is usually the result of calling `frame.insert` many times, which has poor performance.  Consider joining all columns at once using pd.concat(axis=1) instead. To get a de-fragmented frame, use `newframe = frame.copy()`\n",
      "  portfolio_cumulative_returns[n] = (1 + sim_df.fillna(0)).cumprod()\n",
      "C:\\Users\\ranol\\OneDrive\\Desktop\\RUT-VIRT-FIN-PT-09-2023-U-LOLC\\02-Homework\\05-APIs\\Instructions\\Starter_Code\\MCForecastTools.py:117: PerformanceWarning: DataFrame is highly fragmented.  This is usually the result of calling `frame.insert` many times, which has poor performance.  Consider joining all columns at once using pd.concat(axis=1) instead. To get a de-fragmented frame, use `newframe = frame.copy()`\n",
      "  portfolio_cumulative_returns[n] = (1 + sim_df.fillna(0)).cumprod()\n",
      "C:\\Users\\ranol\\OneDrive\\Desktop\\RUT-VIRT-FIN-PT-09-2023-U-LOLC\\02-Homework\\05-APIs\\Instructions\\Starter_Code\\MCForecastTools.py:117: PerformanceWarning: DataFrame is highly fragmented.  This is usually the result of calling `frame.insert` many times, which has poor performance.  Consider joining all columns at once using pd.concat(axis=1) instead. To get a de-fragmented frame, use `newframe = frame.copy()`\n",
      "  portfolio_cumulative_returns[n] = (1 + sim_df.fillna(0)).cumprod()\n",
      "C:\\Users\\ranol\\OneDrive\\Desktop\\RUT-VIRT-FIN-PT-09-2023-U-LOLC\\02-Homework\\05-APIs\\Instructions\\Starter_Code\\MCForecastTools.py:117: PerformanceWarning: DataFrame is highly fragmented.  This is usually the result of calling `frame.insert` many times, which has poor performance.  Consider joining all columns at once using pd.concat(axis=1) instead. To get a de-fragmented frame, use `newframe = frame.copy()`\n",
      "  portfolio_cumulative_returns[n] = (1 + sim_df.fillna(0)).cumprod()\n",
      "C:\\Users\\ranol\\OneDrive\\Desktop\\RUT-VIRT-FIN-PT-09-2023-U-LOLC\\02-Homework\\05-APIs\\Instructions\\Starter_Code\\MCForecastTools.py:117: PerformanceWarning: DataFrame is highly fragmented.  This is usually the result of calling `frame.insert` many times, which has poor performance.  Consider joining all columns at once using pd.concat(axis=1) instead. To get a de-fragmented frame, use `newframe = frame.copy()`\n",
      "  portfolio_cumulative_returns[n] = (1 + sim_df.fillna(0)).cumprod()\n",
      "C:\\Users\\ranol\\OneDrive\\Desktop\\RUT-VIRT-FIN-PT-09-2023-U-LOLC\\02-Homework\\05-APIs\\Instructions\\Starter_Code\\MCForecastTools.py:117: PerformanceWarning: DataFrame is highly fragmented.  This is usually the result of calling `frame.insert` many times, which has poor performance.  Consider joining all columns at once using pd.concat(axis=1) instead. To get a de-fragmented frame, use `newframe = frame.copy()`\n",
      "  portfolio_cumulative_returns[n] = (1 + sim_df.fillna(0)).cumprod()\n",
      "C:\\Users\\ranol\\OneDrive\\Desktop\\RUT-VIRT-FIN-PT-09-2023-U-LOLC\\02-Homework\\05-APIs\\Instructions\\Starter_Code\\MCForecastTools.py:117: PerformanceWarning: DataFrame is highly fragmented.  This is usually the result of calling `frame.insert` many times, which has poor performance.  Consider joining all columns at once using pd.concat(axis=1) instead. To get a de-fragmented frame, use `newframe = frame.copy()`\n",
      "  portfolio_cumulative_returns[n] = (1 + sim_df.fillna(0)).cumprod()\n"
     ]
    },
    {
     "name": "stdout",
     "output_type": "stream",
     "text": [
      "Running Monte Carlo simulation number 450.\n"
     ]
    },
    {
     "name": "stderr",
     "output_type": "stream",
     "text": [
      "C:\\Users\\ranol\\OneDrive\\Desktop\\RUT-VIRT-FIN-PT-09-2023-U-LOLC\\02-Homework\\05-APIs\\Instructions\\Starter_Code\\MCForecastTools.py:117: PerformanceWarning: DataFrame is highly fragmented.  This is usually the result of calling `frame.insert` many times, which has poor performance.  Consider joining all columns at once using pd.concat(axis=1) instead. To get a de-fragmented frame, use `newframe = frame.copy()`\n",
      "  portfolio_cumulative_returns[n] = (1 + sim_df.fillna(0)).cumprod()\n",
      "C:\\Users\\ranol\\OneDrive\\Desktop\\RUT-VIRT-FIN-PT-09-2023-U-LOLC\\02-Homework\\05-APIs\\Instructions\\Starter_Code\\MCForecastTools.py:117: PerformanceWarning: DataFrame is highly fragmented.  This is usually the result of calling `frame.insert` many times, which has poor performance.  Consider joining all columns at once using pd.concat(axis=1) instead. To get a de-fragmented frame, use `newframe = frame.copy()`\n",
      "  portfolio_cumulative_returns[n] = (1 + sim_df.fillna(0)).cumprod()\n",
      "C:\\Users\\ranol\\OneDrive\\Desktop\\RUT-VIRT-FIN-PT-09-2023-U-LOLC\\02-Homework\\05-APIs\\Instructions\\Starter_Code\\MCForecastTools.py:117: PerformanceWarning: DataFrame is highly fragmented.  This is usually the result of calling `frame.insert` many times, which has poor performance.  Consider joining all columns at once using pd.concat(axis=1) instead. To get a de-fragmented frame, use `newframe = frame.copy()`\n",
      "  portfolio_cumulative_returns[n] = (1 + sim_df.fillna(0)).cumprod()\n",
      "C:\\Users\\ranol\\OneDrive\\Desktop\\RUT-VIRT-FIN-PT-09-2023-U-LOLC\\02-Homework\\05-APIs\\Instructions\\Starter_Code\\MCForecastTools.py:117: PerformanceWarning: DataFrame is highly fragmented.  This is usually the result of calling `frame.insert` many times, which has poor performance.  Consider joining all columns at once using pd.concat(axis=1) instead. To get a de-fragmented frame, use `newframe = frame.copy()`\n",
      "  portfolio_cumulative_returns[n] = (1 + sim_df.fillna(0)).cumprod()\n",
      "C:\\Users\\ranol\\OneDrive\\Desktop\\RUT-VIRT-FIN-PT-09-2023-U-LOLC\\02-Homework\\05-APIs\\Instructions\\Starter_Code\\MCForecastTools.py:117: PerformanceWarning: DataFrame is highly fragmented.  This is usually the result of calling `frame.insert` many times, which has poor performance.  Consider joining all columns at once using pd.concat(axis=1) instead. To get a de-fragmented frame, use `newframe = frame.copy()`\n",
      "  portfolio_cumulative_returns[n] = (1 + sim_df.fillna(0)).cumprod()\n",
      "C:\\Users\\ranol\\OneDrive\\Desktop\\RUT-VIRT-FIN-PT-09-2023-U-LOLC\\02-Homework\\05-APIs\\Instructions\\Starter_Code\\MCForecastTools.py:117: PerformanceWarning: DataFrame is highly fragmented.  This is usually the result of calling `frame.insert` many times, which has poor performance.  Consider joining all columns at once using pd.concat(axis=1) instead. To get a de-fragmented frame, use `newframe = frame.copy()`\n",
      "  portfolio_cumulative_returns[n] = (1 + sim_df.fillna(0)).cumprod()\n",
      "C:\\Users\\ranol\\OneDrive\\Desktop\\RUT-VIRT-FIN-PT-09-2023-U-LOLC\\02-Homework\\05-APIs\\Instructions\\Starter_Code\\MCForecastTools.py:117: PerformanceWarning: DataFrame is highly fragmented.  This is usually the result of calling `frame.insert` many times, which has poor performance.  Consider joining all columns at once using pd.concat(axis=1) instead. To get a de-fragmented frame, use `newframe = frame.copy()`\n",
      "  portfolio_cumulative_returns[n] = (1 + sim_df.fillna(0)).cumprod()\n",
      "C:\\Users\\ranol\\OneDrive\\Desktop\\RUT-VIRT-FIN-PT-09-2023-U-LOLC\\02-Homework\\05-APIs\\Instructions\\Starter_Code\\MCForecastTools.py:117: PerformanceWarning: DataFrame is highly fragmented.  This is usually the result of calling `frame.insert` many times, which has poor performance.  Consider joining all columns at once using pd.concat(axis=1) instead. To get a de-fragmented frame, use `newframe = frame.copy()`\n",
      "  portfolio_cumulative_returns[n] = (1 + sim_df.fillna(0)).cumprod()\n",
      "C:\\Users\\ranol\\OneDrive\\Desktop\\RUT-VIRT-FIN-PT-09-2023-U-LOLC\\02-Homework\\05-APIs\\Instructions\\Starter_Code\\MCForecastTools.py:117: PerformanceWarning: DataFrame is highly fragmented.  This is usually the result of calling `frame.insert` many times, which has poor performance.  Consider joining all columns at once using pd.concat(axis=1) instead. To get a de-fragmented frame, use `newframe = frame.copy()`\n",
      "  portfolio_cumulative_returns[n] = (1 + sim_df.fillna(0)).cumprod()\n"
     ]
    },
    {
     "name": "stdout",
     "output_type": "stream",
     "text": [
      "Running Monte Carlo simulation number 460.\n"
     ]
    },
    {
     "name": "stderr",
     "output_type": "stream",
     "text": [
      "C:\\Users\\ranol\\OneDrive\\Desktop\\RUT-VIRT-FIN-PT-09-2023-U-LOLC\\02-Homework\\05-APIs\\Instructions\\Starter_Code\\MCForecastTools.py:117: PerformanceWarning: DataFrame is highly fragmented.  This is usually the result of calling `frame.insert` many times, which has poor performance.  Consider joining all columns at once using pd.concat(axis=1) instead. To get a de-fragmented frame, use `newframe = frame.copy()`\n",
      "  portfolio_cumulative_returns[n] = (1 + sim_df.fillna(0)).cumprod()\n",
      "C:\\Users\\ranol\\OneDrive\\Desktop\\RUT-VIRT-FIN-PT-09-2023-U-LOLC\\02-Homework\\05-APIs\\Instructions\\Starter_Code\\MCForecastTools.py:117: PerformanceWarning: DataFrame is highly fragmented.  This is usually the result of calling `frame.insert` many times, which has poor performance.  Consider joining all columns at once using pd.concat(axis=1) instead. To get a de-fragmented frame, use `newframe = frame.copy()`\n",
      "  portfolio_cumulative_returns[n] = (1 + sim_df.fillna(0)).cumprod()\n",
      "C:\\Users\\ranol\\OneDrive\\Desktop\\RUT-VIRT-FIN-PT-09-2023-U-LOLC\\02-Homework\\05-APIs\\Instructions\\Starter_Code\\MCForecastTools.py:117: PerformanceWarning: DataFrame is highly fragmented.  This is usually the result of calling `frame.insert` many times, which has poor performance.  Consider joining all columns at once using pd.concat(axis=1) instead. To get a de-fragmented frame, use `newframe = frame.copy()`\n",
      "  portfolio_cumulative_returns[n] = (1 + sim_df.fillna(0)).cumprod()\n",
      "C:\\Users\\ranol\\OneDrive\\Desktop\\RUT-VIRT-FIN-PT-09-2023-U-LOLC\\02-Homework\\05-APIs\\Instructions\\Starter_Code\\MCForecastTools.py:117: PerformanceWarning: DataFrame is highly fragmented.  This is usually the result of calling `frame.insert` many times, which has poor performance.  Consider joining all columns at once using pd.concat(axis=1) instead. To get a de-fragmented frame, use `newframe = frame.copy()`\n",
      "  portfolio_cumulative_returns[n] = (1 + sim_df.fillna(0)).cumprod()\n",
      "C:\\Users\\ranol\\OneDrive\\Desktop\\RUT-VIRT-FIN-PT-09-2023-U-LOLC\\02-Homework\\05-APIs\\Instructions\\Starter_Code\\MCForecastTools.py:117: PerformanceWarning: DataFrame is highly fragmented.  This is usually the result of calling `frame.insert` many times, which has poor performance.  Consider joining all columns at once using pd.concat(axis=1) instead. To get a de-fragmented frame, use `newframe = frame.copy()`\n",
      "  portfolio_cumulative_returns[n] = (1 + sim_df.fillna(0)).cumprod()\n",
      "C:\\Users\\ranol\\OneDrive\\Desktop\\RUT-VIRT-FIN-PT-09-2023-U-LOLC\\02-Homework\\05-APIs\\Instructions\\Starter_Code\\MCForecastTools.py:117: PerformanceWarning: DataFrame is highly fragmented.  This is usually the result of calling `frame.insert` many times, which has poor performance.  Consider joining all columns at once using pd.concat(axis=1) instead. To get a de-fragmented frame, use `newframe = frame.copy()`\n",
      "  portfolio_cumulative_returns[n] = (1 + sim_df.fillna(0)).cumprod()\n",
      "C:\\Users\\ranol\\OneDrive\\Desktop\\RUT-VIRT-FIN-PT-09-2023-U-LOLC\\02-Homework\\05-APIs\\Instructions\\Starter_Code\\MCForecastTools.py:117: PerformanceWarning: DataFrame is highly fragmented.  This is usually the result of calling `frame.insert` many times, which has poor performance.  Consider joining all columns at once using pd.concat(axis=1) instead. To get a de-fragmented frame, use `newframe = frame.copy()`\n",
      "  portfolio_cumulative_returns[n] = (1 + sim_df.fillna(0)).cumprod()\n",
      "C:\\Users\\ranol\\OneDrive\\Desktop\\RUT-VIRT-FIN-PT-09-2023-U-LOLC\\02-Homework\\05-APIs\\Instructions\\Starter_Code\\MCForecastTools.py:117: PerformanceWarning: DataFrame is highly fragmented.  This is usually the result of calling `frame.insert` many times, which has poor performance.  Consider joining all columns at once using pd.concat(axis=1) instead. To get a de-fragmented frame, use `newframe = frame.copy()`\n",
      "  portfolio_cumulative_returns[n] = (1 + sim_df.fillna(0)).cumprod()\n",
      "C:\\Users\\ranol\\OneDrive\\Desktop\\RUT-VIRT-FIN-PT-09-2023-U-LOLC\\02-Homework\\05-APIs\\Instructions\\Starter_Code\\MCForecastTools.py:117: PerformanceWarning: DataFrame is highly fragmented.  This is usually the result of calling `frame.insert` many times, which has poor performance.  Consider joining all columns at once using pd.concat(axis=1) instead. To get a de-fragmented frame, use `newframe = frame.copy()`\n",
      "  portfolio_cumulative_returns[n] = (1 + sim_df.fillna(0)).cumprod()\n",
      "C:\\Users\\ranol\\OneDrive\\Desktop\\RUT-VIRT-FIN-PT-09-2023-U-LOLC\\02-Homework\\05-APIs\\Instructions\\Starter_Code\\MCForecastTools.py:117: PerformanceWarning: DataFrame is highly fragmented.  This is usually the result of calling `frame.insert` many times, which has poor performance.  Consider joining all columns at once using pd.concat(axis=1) instead. To get a de-fragmented frame, use `newframe = frame.copy()`\n",
      "  portfolio_cumulative_returns[n] = (1 + sim_df.fillna(0)).cumprod()\n"
     ]
    },
    {
     "name": "stdout",
     "output_type": "stream",
     "text": [
      "Running Monte Carlo simulation number 470.\n"
     ]
    },
    {
     "name": "stderr",
     "output_type": "stream",
     "text": [
      "C:\\Users\\ranol\\OneDrive\\Desktop\\RUT-VIRT-FIN-PT-09-2023-U-LOLC\\02-Homework\\05-APIs\\Instructions\\Starter_Code\\MCForecastTools.py:117: PerformanceWarning: DataFrame is highly fragmented.  This is usually the result of calling `frame.insert` many times, which has poor performance.  Consider joining all columns at once using pd.concat(axis=1) instead. To get a de-fragmented frame, use `newframe = frame.copy()`\n",
      "  portfolio_cumulative_returns[n] = (1 + sim_df.fillna(0)).cumprod()\n",
      "C:\\Users\\ranol\\OneDrive\\Desktop\\RUT-VIRT-FIN-PT-09-2023-U-LOLC\\02-Homework\\05-APIs\\Instructions\\Starter_Code\\MCForecastTools.py:117: PerformanceWarning: DataFrame is highly fragmented.  This is usually the result of calling `frame.insert` many times, which has poor performance.  Consider joining all columns at once using pd.concat(axis=1) instead. To get a de-fragmented frame, use `newframe = frame.copy()`\n",
      "  portfolio_cumulative_returns[n] = (1 + sim_df.fillna(0)).cumprod()\n",
      "C:\\Users\\ranol\\OneDrive\\Desktop\\RUT-VIRT-FIN-PT-09-2023-U-LOLC\\02-Homework\\05-APIs\\Instructions\\Starter_Code\\MCForecastTools.py:117: PerformanceWarning: DataFrame is highly fragmented.  This is usually the result of calling `frame.insert` many times, which has poor performance.  Consider joining all columns at once using pd.concat(axis=1) instead. To get a de-fragmented frame, use `newframe = frame.copy()`\n",
      "  portfolio_cumulative_returns[n] = (1 + sim_df.fillna(0)).cumprod()\n",
      "C:\\Users\\ranol\\OneDrive\\Desktop\\RUT-VIRT-FIN-PT-09-2023-U-LOLC\\02-Homework\\05-APIs\\Instructions\\Starter_Code\\MCForecastTools.py:117: PerformanceWarning: DataFrame is highly fragmented.  This is usually the result of calling `frame.insert` many times, which has poor performance.  Consider joining all columns at once using pd.concat(axis=1) instead. To get a de-fragmented frame, use `newframe = frame.copy()`\n",
      "  portfolio_cumulative_returns[n] = (1 + sim_df.fillna(0)).cumprod()\n",
      "C:\\Users\\ranol\\OneDrive\\Desktop\\RUT-VIRT-FIN-PT-09-2023-U-LOLC\\02-Homework\\05-APIs\\Instructions\\Starter_Code\\MCForecastTools.py:117: PerformanceWarning: DataFrame is highly fragmented.  This is usually the result of calling `frame.insert` many times, which has poor performance.  Consider joining all columns at once using pd.concat(axis=1) instead. To get a de-fragmented frame, use `newframe = frame.copy()`\n",
      "  portfolio_cumulative_returns[n] = (1 + sim_df.fillna(0)).cumprod()\n",
      "C:\\Users\\ranol\\OneDrive\\Desktop\\RUT-VIRT-FIN-PT-09-2023-U-LOLC\\02-Homework\\05-APIs\\Instructions\\Starter_Code\\MCForecastTools.py:117: PerformanceWarning: DataFrame is highly fragmented.  This is usually the result of calling `frame.insert` many times, which has poor performance.  Consider joining all columns at once using pd.concat(axis=1) instead. To get a de-fragmented frame, use `newframe = frame.copy()`\n",
      "  portfolio_cumulative_returns[n] = (1 + sim_df.fillna(0)).cumprod()\n",
      "C:\\Users\\ranol\\OneDrive\\Desktop\\RUT-VIRT-FIN-PT-09-2023-U-LOLC\\02-Homework\\05-APIs\\Instructions\\Starter_Code\\MCForecastTools.py:117: PerformanceWarning: DataFrame is highly fragmented.  This is usually the result of calling `frame.insert` many times, which has poor performance.  Consider joining all columns at once using pd.concat(axis=1) instead. To get a de-fragmented frame, use `newframe = frame.copy()`\n",
      "  portfolio_cumulative_returns[n] = (1 + sim_df.fillna(0)).cumprod()\n",
      "C:\\Users\\ranol\\OneDrive\\Desktop\\RUT-VIRT-FIN-PT-09-2023-U-LOLC\\02-Homework\\05-APIs\\Instructions\\Starter_Code\\MCForecastTools.py:117: PerformanceWarning: DataFrame is highly fragmented.  This is usually the result of calling `frame.insert` many times, which has poor performance.  Consider joining all columns at once using pd.concat(axis=1) instead. To get a de-fragmented frame, use `newframe = frame.copy()`\n",
      "  portfolio_cumulative_returns[n] = (1 + sim_df.fillna(0)).cumprod()\n",
      "C:\\Users\\ranol\\OneDrive\\Desktop\\RUT-VIRT-FIN-PT-09-2023-U-LOLC\\02-Homework\\05-APIs\\Instructions\\Starter_Code\\MCForecastTools.py:117: PerformanceWarning: DataFrame is highly fragmented.  This is usually the result of calling `frame.insert` many times, which has poor performance.  Consider joining all columns at once using pd.concat(axis=1) instead. To get a de-fragmented frame, use `newframe = frame.copy()`\n",
      "  portfolio_cumulative_returns[n] = (1 + sim_df.fillna(0)).cumprod()\n",
      "C:\\Users\\ranol\\OneDrive\\Desktop\\RUT-VIRT-FIN-PT-09-2023-U-LOLC\\02-Homework\\05-APIs\\Instructions\\Starter_Code\\MCForecastTools.py:117: PerformanceWarning: DataFrame is highly fragmented.  This is usually the result of calling `frame.insert` many times, which has poor performance.  Consider joining all columns at once using pd.concat(axis=1) instead. To get a de-fragmented frame, use `newframe = frame.copy()`\n",
      "  portfolio_cumulative_returns[n] = (1 + sim_df.fillna(0)).cumprod()\n"
     ]
    },
    {
     "name": "stdout",
     "output_type": "stream",
     "text": [
      "Running Monte Carlo simulation number 480.\n"
     ]
    },
    {
     "name": "stderr",
     "output_type": "stream",
     "text": [
      "C:\\Users\\ranol\\OneDrive\\Desktop\\RUT-VIRT-FIN-PT-09-2023-U-LOLC\\02-Homework\\05-APIs\\Instructions\\Starter_Code\\MCForecastTools.py:117: PerformanceWarning: DataFrame is highly fragmented.  This is usually the result of calling `frame.insert` many times, which has poor performance.  Consider joining all columns at once using pd.concat(axis=1) instead. To get a de-fragmented frame, use `newframe = frame.copy()`\n",
      "  portfolio_cumulative_returns[n] = (1 + sim_df.fillna(0)).cumprod()\n",
      "C:\\Users\\ranol\\OneDrive\\Desktop\\RUT-VIRT-FIN-PT-09-2023-U-LOLC\\02-Homework\\05-APIs\\Instructions\\Starter_Code\\MCForecastTools.py:117: PerformanceWarning: DataFrame is highly fragmented.  This is usually the result of calling `frame.insert` many times, which has poor performance.  Consider joining all columns at once using pd.concat(axis=1) instead. To get a de-fragmented frame, use `newframe = frame.copy()`\n",
      "  portfolio_cumulative_returns[n] = (1 + sim_df.fillna(0)).cumprod()\n",
      "C:\\Users\\ranol\\OneDrive\\Desktop\\RUT-VIRT-FIN-PT-09-2023-U-LOLC\\02-Homework\\05-APIs\\Instructions\\Starter_Code\\MCForecastTools.py:117: PerformanceWarning: DataFrame is highly fragmented.  This is usually the result of calling `frame.insert` many times, which has poor performance.  Consider joining all columns at once using pd.concat(axis=1) instead. To get a de-fragmented frame, use `newframe = frame.copy()`\n",
      "  portfolio_cumulative_returns[n] = (1 + sim_df.fillna(0)).cumprod()\n",
      "C:\\Users\\ranol\\OneDrive\\Desktop\\RUT-VIRT-FIN-PT-09-2023-U-LOLC\\02-Homework\\05-APIs\\Instructions\\Starter_Code\\MCForecastTools.py:117: PerformanceWarning: DataFrame is highly fragmented.  This is usually the result of calling `frame.insert` many times, which has poor performance.  Consider joining all columns at once using pd.concat(axis=1) instead. To get a de-fragmented frame, use `newframe = frame.copy()`\n",
      "  portfolio_cumulative_returns[n] = (1 + sim_df.fillna(0)).cumprod()\n",
      "C:\\Users\\ranol\\OneDrive\\Desktop\\RUT-VIRT-FIN-PT-09-2023-U-LOLC\\02-Homework\\05-APIs\\Instructions\\Starter_Code\\MCForecastTools.py:117: PerformanceWarning: DataFrame is highly fragmented.  This is usually the result of calling `frame.insert` many times, which has poor performance.  Consider joining all columns at once using pd.concat(axis=1) instead. To get a de-fragmented frame, use `newframe = frame.copy()`\n",
      "  portfolio_cumulative_returns[n] = (1 + sim_df.fillna(0)).cumprod()\n",
      "C:\\Users\\ranol\\OneDrive\\Desktop\\RUT-VIRT-FIN-PT-09-2023-U-LOLC\\02-Homework\\05-APIs\\Instructions\\Starter_Code\\MCForecastTools.py:117: PerformanceWarning: DataFrame is highly fragmented.  This is usually the result of calling `frame.insert` many times, which has poor performance.  Consider joining all columns at once using pd.concat(axis=1) instead. To get a de-fragmented frame, use `newframe = frame.copy()`\n",
      "  portfolio_cumulative_returns[n] = (1 + sim_df.fillna(0)).cumprod()\n",
      "C:\\Users\\ranol\\OneDrive\\Desktop\\RUT-VIRT-FIN-PT-09-2023-U-LOLC\\02-Homework\\05-APIs\\Instructions\\Starter_Code\\MCForecastTools.py:117: PerformanceWarning: DataFrame is highly fragmented.  This is usually the result of calling `frame.insert` many times, which has poor performance.  Consider joining all columns at once using pd.concat(axis=1) instead. To get a de-fragmented frame, use `newframe = frame.copy()`\n",
      "  portfolio_cumulative_returns[n] = (1 + sim_df.fillna(0)).cumprod()\n",
      "C:\\Users\\ranol\\OneDrive\\Desktop\\RUT-VIRT-FIN-PT-09-2023-U-LOLC\\02-Homework\\05-APIs\\Instructions\\Starter_Code\\MCForecastTools.py:117: PerformanceWarning: DataFrame is highly fragmented.  This is usually the result of calling `frame.insert` many times, which has poor performance.  Consider joining all columns at once using pd.concat(axis=1) instead. To get a de-fragmented frame, use `newframe = frame.copy()`\n",
      "  portfolio_cumulative_returns[n] = (1 + sim_df.fillna(0)).cumprod()\n",
      "C:\\Users\\ranol\\OneDrive\\Desktop\\RUT-VIRT-FIN-PT-09-2023-U-LOLC\\02-Homework\\05-APIs\\Instructions\\Starter_Code\\MCForecastTools.py:117: PerformanceWarning: DataFrame is highly fragmented.  This is usually the result of calling `frame.insert` many times, which has poor performance.  Consider joining all columns at once using pd.concat(axis=1) instead. To get a de-fragmented frame, use `newframe = frame.copy()`\n",
      "  portfolio_cumulative_returns[n] = (1 + sim_df.fillna(0)).cumprod()\n"
     ]
    },
    {
     "name": "stdout",
     "output_type": "stream",
     "text": [
      "Running Monte Carlo simulation number 490.\n"
     ]
    },
    {
     "name": "stderr",
     "output_type": "stream",
     "text": [
      "C:\\Users\\ranol\\OneDrive\\Desktop\\RUT-VIRT-FIN-PT-09-2023-U-LOLC\\02-Homework\\05-APIs\\Instructions\\Starter_Code\\MCForecastTools.py:117: PerformanceWarning: DataFrame is highly fragmented.  This is usually the result of calling `frame.insert` many times, which has poor performance.  Consider joining all columns at once using pd.concat(axis=1) instead. To get a de-fragmented frame, use `newframe = frame.copy()`\n",
      "  portfolio_cumulative_returns[n] = (1 + sim_df.fillna(0)).cumprod()\n",
      "C:\\Users\\ranol\\OneDrive\\Desktop\\RUT-VIRT-FIN-PT-09-2023-U-LOLC\\02-Homework\\05-APIs\\Instructions\\Starter_Code\\MCForecastTools.py:117: PerformanceWarning: DataFrame is highly fragmented.  This is usually the result of calling `frame.insert` many times, which has poor performance.  Consider joining all columns at once using pd.concat(axis=1) instead. To get a de-fragmented frame, use `newframe = frame.copy()`\n",
      "  portfolio_cumulative_returns[n] = (1 + sim_df.fillna(0)).cumprod()\n",
      "C:\\Users\\ranol\\OneDrive\\Desktop\\RUT-VIRT-FIN-PT-09-2023-U-LOLC\\02-Homework\\05-APIs\\Instructions\\Starter_Code\\MCForecastTools.py:117: PerformanceWarning: DataFrame is highly fragmented.  This is usually the result of calling `frame.insert` many times, which has poor performance.  Consider joining all columns at once using pd.concat(axis=1) instead. To get a de-fragmented frame, use `newframe = frame.copy()`\n",
      "  portfolio_cumulative_returns[n] = (1 + sim_df.fillna(0)).cumprod()\n",
      "C:\\Users\\ranol\\OneDrive\\Desktop\\RUT-VIRT-FIN-PT-09-2023-U-LOLC\\02-Homework\\05-APIs\\Instructions\\Starter_Code\\MCForecastTools.py:117: PerformanceWarning: DataFrame is highly fragmented.  This is usually the result of calling `frame.insert` many times, which has poor performance.  Consider joining all columns at once using pd.concat(axis=1) instead. To get a de-fragmented frame, use `newframe = frame.copy()`\n",
      "  portfolio_cumulative_returns[n] = (1 + sim_df.fillna(0)).cumprod()\n",
      "C:\\Users\\ranol\\OneDrive\\Desktop\\RUT-VIRT-FIN-PT-09-2023-U-LOLC\\02-Homework\\05-APIs\\Instructions\\Starter_Code\\MCForecastTools.py:117: PerformanceWarning: DataFrame is highly fragmented.  This is usually the result of calling `frame.insert` many times, which has poor performance.  Consider joining all columns at once using pd.concat(axis=1) instead. To get a de-fragmented frame, use `newframe = frame.copy()`\n",
      "  portfolio_cumulative_returns[n] = (1 + sim_df.fillna(0)).cumprod()\n",
      "C:\\Users\\ranol\\OneDrive\\Desktop\\RUT-VIRT-FIN-PT-09-2023-U-LOLC\\02-Homework\\05-APIs\\Instructions\\Starter_Code\\MCForecastTools.py:117: PerformanceWarning: DataFrame is highly fragmented.  This is usually the result of calling `frame.insert` many times, which has poor performance.  Consider joining all columns at once using pd.concat(axis=1) instead. To get a de-fragmented frame, use `newframe = frame.copy()`\n",
      "  portfolio_cumulative_returns[n] = (1 + sim_df.fillna(0)).cumprod()\n",
      "C:\\Users\\ranol\\OneDrive\\Desktop\\RUT-VIRT-FIN-PT-09-2023-U-LOLC\\02-Homework\\05-APIs\\Instructions\\Starter_Code\\MCForecastTools.py:117: PerformanceWarning: DataFrame is highly fragmented.  This is usually the result of calling `frame.insert` many times, which has poor performance.  Consider joining all columns at once using pd.concat(axis=1) instead. To get a de-fragmented frame, use `newframe = frame.copy()`\n",
      "  portfolio_cumulative_returns[n] = (1 + sim_df.fillna(0)).cumprod()\n",
      "C:\\Users\\ranol\\OneDrive\\Desktop\\RUT-VIRT-FIN-PT-09-2023-U-LOLC\\02-Homework\\05-APIs\\Instructions\\Starter_Code\\MCForecastTools.py:117: PerformanceWarning: DataFrame is highly fragmented.  This is usually the result of calling `frame.insert` many times, which has poor performance.  Consider joining all columns at once using pd.concat(axis=1) instead. To get a de-fragmented frame, use `newframe = frame.copy()`\n",
      "  portfolio_cumulative_returns[n] = (1 + sim_df.fillna(0)).cumprod()\n"
     ]
    },
    {
     "data": {
      "text/html": [
       "<div>\n",
       "<style scoped>\n",
       "    .dataframe tbody tr th:only-of-type {\n",
       "        vertical-align: middle;\n",
       "    }\n",
       "\n",
       "    .dataframe tbody tr th {\n",
       "        vertical-align: top;\n",
       "    }\n",
       "\n",
       "    .dataframe thead th {\n",
       "        text-align: right;\n",
       "    }\n",
       "</style>\n",
       "<table border=\"1\" class=\"dataframe\">\n",
       "  <thead>\n",
       "    <tr style=\"text-align: right;\">\n",
       "      <th></th>\n",
       "      <th>0</th>\n",
       "      <th>1</th>\n",
       "      <th>2</th>\n",
       "      <th>3</th>\n",
       "      <th>4</th>\n",
       "      <th>5</th>\n",
       "      <th>6</th>\n",
       "      <th>7</th>\n",
       "      <th>8</th>\n",
       "      <th>9</th>\n",
       "      <th>...</th>\n",
       "      <th>490</th>\n",
       "      <th>491</th>\n",
       "      <th>492</th>\n",
       "      <th>493</th>\n",
       "      <th>494</th>\n",
       "      <th>495</th>\n",
       "      <th>496</th>\n",
       "      <th>497</th>\n",
       "      <th>498</th>\n",
       "      <th>499</th>\n",
       "    </tr>\n",
       "  </thead>\n",
       "  <tbody>\n",
       "    <tr>\n",
       "      <th>0</th>\n",
       "      <td>1.000000</td>\n",
       "      <td>1.000000</td>\n",
       "      <td>1.000000</td>\n",
       "      <td>1.000000</td>\n",
       "      <td>1.000000</td>\n",
       "      <td>1.000000</td>\n",
       "      <td>1.000000</td>\n",
       "      <td>1.000000</td>\n",
       "      <td>1.000000</td>\n",
       "      <td>1.000000</td>\n",
       "      <td>...</td>\n",
       "      <td>1.000000</td>\n",
       "      <td>1.000000</td>\n",
       "      <td>1.000000</td>\n",
       "      <td>1.000000</td>\n",
       "      <td>1.000000</td>\n",
       "      <td>1.000000</td>\n",
       "      <td>1.000000</td>\n",
       "      <td>1.000000</td>\n",
       "      <td>1.000000</td>\n",
       "      <td>1.000000</td>\n",
       "    </tr>\n",
       "    <tr>\n",
       "      <th>1</th>\n",
       "      <td>1.000545</td>\n",
       "      <td>0.996317</td>\n",
       "      <td>0.993762</td>\n",
       "      <td>0.998782</td>\n",
       "      <td>1.003728</td>\n",
       "      <td>0.993558</td>\n",
       "      <td>1.001633</td>\n",
       "      <td>1.000308</td>\n",
       "      <td>1.004210</td>\n",
       "      <td>0.998448</td>\n",
       "      <td>...</td>\n",
       "      <td>1.002636</td>\n",
       "      <td>1.002129</td>\n",
       "      <td>1.001692</td>\n",
       "      <td>1.001836</td>\n",
       "      <td>0.999312</td>\n",
       "      <td>0.997756</td>\n",
       "      <td>0.997908</td>\n",
       "      <td>1.004582</td>\n",
       "      <td>1.001860</td>\n",
       "      <td>0.999469</td>\n",
       "    </tr>\n",
       "    <tr>\n",
       "      <th>2</th>\n",
       "      <td>1.000788</td>\n",
       "      <td>0.994025</td>\n",
       "      <td>0.994446</td>\n",
       "      <td>0.997679</td>\n",
       "      <td>1.002715</td>\n",
       "      <td>0.996562</td>\n",
       "      <td>1.000965</td>\n",
       "      <td>1.002618</td>\n",
       "      <td>0.998583</td>\n",
       "      <td>1.004983</td>\n",
       "      <td>...</td>\n",
       "      <td>1.000559</td>\n",
       "      <td>1.005563</td>\n",
       "      <td>1.002539</td>\n",
       "      <td>1.004652</td>\n",
       "      <td>0.999268</td>\n",
       "      <td>0.996857</td>\n",
       "      <td>0.994331</td>\n",
       "      <td>1.000093</td>\n",
       "      <td>1.001203</td>\n",
       "      <td>0.996394</td>\n",
       "    </tr>\n",
       "    <tr>\n",
       "      <th>3</th>\n",
       "      <td>0.998420</td>\n",
       "      <td>0.995296</td>\n",
       "      <td>0.989567</td>\n",
       "      <td>0.993976</td>\n",
       "      <td>1.001916</td>\n",
       "      <td>0.996228</td>\n",
       "      <td>1.001515</td>\n",
       "      <td>1.005042</td>\n",
       "      <td>0.995631</td>\n",
       "      <td>1.007865</td>\n",
       "      <td>...</td>\n",
       "      <td>0.998186</td>\n",
       "      <td>1.006879</td>\n",
       "      <td>1.001177</td>\n",
       "      <td>1.004456</td>\n",
       "      <td>0.995387</td>\n",
       "      <td>0.995480</td>\n",
       "      <td>0.999515</td>\n",
       "      <td>1.002856</td>\n",
       "      <td>0.998136</td>\n",
       "      <td>0.994576</td>\n",
       "    </tr>\n",
       "    <tr>\n",
       "      <th>4</th>\n",
       "      <td>0.996455</td>\n",
       "      <td>0.992852</td>\n",
       "      <td>0.985448</td>\n",
       "      <td>0.995966</td>\n",
       "      <td>0.999639</td>\n",
       "      <td>1.002367</td>\n",
       "      <td>1.001095</td>\n",
       "      <td>1.010584</td>\n",
       "      <td>0.993080</td>\n",
       "      <td>1.008294</td>\n",
       "      <td>...</td>\n",
       "      <td>0.999066</td>\n",
       "      <td>1.004335</td>\n",
       "      <td>0.996485</td>\n",
       "      <td>1.004204</td>\n",
       "      <td>0.997021</td>\n",
       "      <td>0.997091</td>\n",
       "      <td>1.005411</td>\n",
       "      <td>1.000898</td>\n",
       "      <td>1.004333</td>\n",
       "      <td>0.995026</td>\n",
       "    </tr>\n",
       "    <tr>\n",
       "      <th>...</th>\n",
       "      <td>...</td>\n",
       "      <td>...</td>\n",
       "      <td>...</td>\n",
       "      <td>...</td>\n",
       "      <td>...</td>\n",
       "      <td>...</td>\n",
       "      <td>...</td>\n",
       "      <td>...</td>\n",
       "      <td>...</td>\n",
       "      <td>...</td>\n",
       "      <td>...</td>\n",
       "      <td>...</td>\n",
       "      <td>...</td>\n",
       "      <td>...</td>\n",
       "      <td>...</td>\n",
       "      <td>...</td>\n",
       "      <td>...</td>\n",
       "      <td>...</td>\n",
       "      <td>...</td>\n",
       "      <td>...</td>\n",
       "      <td>...</td>\n",
       "    </tr>\n",
       "    <tr>\n",
       "      <th>1256</th>\n",
       "      <td>1.414424</td>\n",
       "      <td>1.132792</td>\n",
       "      <td>1.369988</td>\n",
       "      <td>1.142658</td>\n",
       "      <td>1.310413</td>\n",
       "      <td>1.223911</td>\n",
       "      <td>1.126386</td>\n",
       "      <td>1.312672</td>\n",
       "      <td>1.193683</td>\n",
       "      <td>1.232794</td>\n",
       "      <td>...</td>\n",
       "      <td>1.340544</td>\n",
       "      <td>1.181750</td>\n",
       "      <td>1.079436</td>\n",
       "      <td>1.227882</td>\n",
       "      <td>1.011072</td>\n",
       "      <td>1.111316</td>\n",
       "      <td>1.043384</td>\n",
       "      <td>0.868094</td>\n",
       "      <td>1.343221</td>\n",
       "      <td>1.250095</td>\n",
       "    </tr>\n",
       "    <tr>\n",
       "      <th>1257</th>\n",
       "      <td>1.413308</td>\n",
       "      <td>1.134524</td>\n",
       "      <td>1.376393</td>\n",
       "      <td>1.150593</td>\n",
       "      <td>1.322281</td>\n",
       "      <td>1.225248</td>\n",
       "      <td>1.133370</td>\n",
       "      <td>1.319721</td>\n",
       "      <td>1.189666</td>\n",
       "      <td>1.234361</td>\n",
       "      <td>...</td>\n",
       "      <td>1.340607</td>\n",
       "      <td>1.181713</td>\n",
       "      <td>1.078361</td>\n",
       "      <td>1.225066</td>\n",
       "      <td>1.014114</td>\n",
       "      <td>1.105504</td>\n",
       "      <td>1.042668</td>\n",
       "      <td>0.866435</td>\n",
       "      <td>1.344741</td>\n",
       "      <td>1.249138</td>\n",
       "    </tr>\n",
       "    <tr>\n",
       "      <th>1258</th>\n",
       "      <td>1.412937</td>\n",
       "      <td>1.134898</td>\n",
       "      <td>1.374746</td>\n",
       "      <td>1.142226</td>\n",
       "      <td>1.318178</td>\n",
       "      <td>1.225425</td>\n",
       "      <td>1.130536</td>\n",
       "      <td>1.323088</td>\n",
       "      <td>1.188229</td>\n",
       "      <td>1.227555</td>\n",
       "      <td>...</td>\n",
       "      <td>1.338969</td>\n",
       "      <td>1.177952</td>\n",
       "      <td>1.080381</td>\n",
       "      <td>1.219295</td>\n",
       "      <td>1.013289</td>\n",
       "      <td>1.097551</td>\n",
       "      <td>1.043580</td>\n",
       "      <td>0.863546</td>\n",
       "      <td>1.335344</td>\n",
       "      <td>1.248542</td>\n",
       "    </tr>\n",
       "    <tr>\n",
       "      <th>1259</th>\n",
       "      <td>1.416348</td>\n",
       "      <td>1.133539</td>\n",
       "      <td>1.370531</td>\n",
       "      <td>1.148691</td>\n",
       "      <td>1.318576</td>\n",
       "      <td>1.229633</td>\n",
       "      <td>1.126137</td>\n",
       "      <td>1.321465</td>\n",
       "      <td>1.187707</td>\n",
       "      <td>1.220163</td>\n",
       "      <td>...</td>\n",
       "      <td>1.333241</td>\n",
       "      <td>1.183112</td>\n",
       "      <td>1.078832</td>\n",
       "      <td>1.218641</td>\n",
       "      <td>1.013169</td>\n",
       "      <td>1.098278</td>\n",
       "      <td>1.039362</td>\n",
       "      <td>0.864275</td>\n",
       "      <td>1.343870</td>\n",
       "      <td>1.250488</td>\n",
       "    </tr>\n",
       "    <tr>\n",
       "      <th>1260</th>\n",
       "      <td>1.419039</td>\n",
       "      <td>1.133479</td>\n",
       "      <td>1.368371</td>\n",
       "      <td>1.149909</td>\n",
       "      <td>1.316062</td>\n",
       "      <td>1.232145</td>\n",
       "      <td>1.127932</td>\n",
       "      <td>1.322305</td>\n",
       "      <td>1.186170</td>\n",
       "      <td>1.216328</td>\n",
       "      <td>...</td>\n",
       "      <td>1.338932</td>\n",
       "      <td>1.178938</td>\n",
       "      <td>1.082424</td>\n",
       "      <td>1.216150</td>\n",
       "      <td>1.017165</td>\n",
       "      <td>1.100810</td>\n",
       "      <td>1.034704</td>\n",
       "      <td>0.861609</td>\n",
       "      <td>1.342358</td>\n",
       "      <td>1.255163</td>\n",
       "    </tr>\n",
       "  </tbody>\n",
       "</table>\n",
       "<p>1261 rows × 500 columns</p>\n",
       "</div>"
      ],
      "text/plain": [
       "           0         1         2         3         4         5         6    \\\n",
       "0     1.000000  1.000000  1.000000  1.000000  1.000000  1.000000  1.000000   \n",
       "1     1.000545  0.996317  0.993762  0.998782  1.003728  0.993558  1.001633   \n",
       "2     1.000788  0.994025  0.994446  0.997679  1.002715  0.996562  1.000965   \n",
       "3     0.998420  0.995296  0.989567  0.993976  1.001916  0.996228  1.001515   \n",
       "4     0.996455  0.992852  0.985448  0.995966  0.999639  1.002367  1.001095   \n",
       "...        ...       ...       ...       ...       ...       ...       ...   \n",
       "1256  1.414424  1.132792  1.369988  1.142658  1.310413  1.223911  1.126386   \n",
       "1257  1.413308  1.134524  1.376393  1.150593  1.322281  1.225248  1.133370   \n",
       "1258  1.412937  1.134898  1.374746  1.142226  1.318178  1.225425  1.130536   \n",
       "1259  1.416348  1.133539  1.370531  1.148691  1.318576  1.229633  1.126137   \n",
       "1260  1.419039  1.133479  1.368371  1.149909  1.316062  1.232145  1.127932   \n",
       "\n",
       "           7         8         9    ...       490       491       492  \\\n",
       "0     1.000000  1.000000  1.000000  ...  1.000000  1.000000  1.000000   \n",
       "1     1.000308  1.004210  0.998448  ...  1.002636  1.002129  1.001692   \n",
       "2     1.002618  0.998583  1.004983  ...  1.000559  1.005563  1.002539   \n",
       "3     1.005042  0.995631  1.007865  ...  0.998186  1.006879  1.001177   \n",
       "4     1.010584  0.993080  1.008294  ...  0.999066  1.004335  0.996485   \n",
       "...        ...       ...       ...  ...       ...       ...       ...   \n",
       "1256  1.312672  1.193683  1.232794  ...  1.340544  1.181750  1.079436   \n",
       "1257  1.319721  1.189666  1.234361  ...  1.340607  1.181713  1.078361   \n",
       "1258  1.323088  1.188229  1.227555  ...  1.338969  1.177952  1.080381   \n",
       "1259  1.321465  1.187707  1.220163  ...  1.333241  1.183112  1.078832   \n",
       "1260  1.322305  1.186170  1.216328  ...  1.338932  1.178938  1.082424   \n",
       "\n",
       "           493       494       495       496       497       498       499  \n",
       "0     1.000000  1.000000  1.000000  1.000000  1.000000  1.000000  1.000000  \n",
       "1     1.001836  0.999312  0.997756  0.997908  1.004582  1.001860  0.999469  \n",
       "2     1.004652  0.999268  0.996857  0.994331  1.000093  1.001203  0.996394  \n",
       "3     1.004456  0.995387  0.995480  0.999515  1.002856  0.998136  0.994576  \n",
       "4     1.004204  0.997021  0.997091  1.005411  1.000898  1.004333  0.995026  \n",
       "...        ...       ...       ...       ...       ...       ...       ...  \n",
       "1256  1.227882  1.011072  1.111316  1.043384  0.868094  1.343221  1.250095  \n",
       "1257  1.225066  1.014114  1.105504  1.042668  0.866435  1.344741  1.249138  \n",
       "1258  1.219295  1.013289  1.097551  1.043580  0.863546  1.335344  1.248542  \n",
       "1259  1.218641  1.013169  1.098278  1.039362  0.864275  1.343870  1.250488  \n",
       "1260  1.216150  1.017165  1.100810  1.034704  0.861609  1.342358  1.255163  \n",
       "\n",
       "[1261 rows x 500 columns]"
      ]
     },
     "execution_count": 139,
     "metadata": {},
     "output_type": "execute_result"
    }
   ],
   "source": [
    "# Running a Monte Carlo simulation to forecast 5 years cumulative returns\n",
    "MC_five_year.calc_cumulative_return()"
   ]
  },
  {
   "cell_type": "code",
   "execution_count": 26,
   "metadata": {},
   "outputs": [
    {
     "data": {
      "image/png": "[encoded data removed]",
      "text/plain": [
       "<Figure size 432x288 with 1 Axes>"
      ]
     },
     "metadata": {
      "needs_background": "light"
     },
     "output_type": "display_data"
    }
   ],
   "source": [
    "# Plot simulation outcomes\n",
    "# YOUR CODE HERE!"
   ]
  },
  {
   "cell_type": "code",
   "execution_count": 27,
   "metadata": {},
   "outputs": [
    {
     "data": {
      "image/png": "[encoded data removed]",
      "text/plain": [
       "<Figure size 432x288 with 1 Axes>"
      ]
     },
     "metadata": {
      "needs_background": "light"
     },
     "output_type": "display_data"
    }
   ],
   "source": [
    "# Plot probability distribution and confidence intervals\n",
    "# YOUR CODE HERE!"
   ]
  },
  {
   "cell_type": "code",
   "execution_count": 28,
   "metadata": {},
   "outputs": [
    {
     "name": "stdout",
     "output_type": "stream",
     "text": [
      "count           500.000000\n",
      "mean              1.245905\n",
      "std               0.160008\n",
      "min               0.771559\n",
      "25%               1.140795\n",
      "50%               1.232555\n",
      "75%               1.352284\n",
      "max               1.733421\n",
      "95% CI Lower      0.951523\n",
      "95% CI Upper      1.586592\n",
      "Name: 1260, dtype: float64\n"
     ]
    }
   ],
   "source": [
    "# Fetch summary statistics from the Monte Carlo simulation results\n",
    "# YOUR CODE HERE!\n",
    "\n",
    "# Print summary statistics\n",
    "# YOUR CODE HERE!"
   ]
  },
  {
   "cell_type": "code",
   "execution_count": 29,
   "metadata": {},
   "outputs": [
    {
     "name": "stdout",
     "output_type": "stream",
     "text": [
      "There is a 95% chance that an initial investment of $60000 in the portfolio over the next 5 years will end within in the range of $57091.37 and $95195.55\n"
     ]
    }
   ],
   "source": [
    "# Set initial investment\n",
    "# YOUR CODE HERE!\n",
    "\n",
    "# Use the lower and upper `95%` confidence intervals to calculate the range of the possible outcomes of our $60,000\n",
    "# YOUR CODE HERE!\n",
    "\n",
    "# Print results\n",
    "print(f\"There is a 95% chance that an initial investment of ${initial_investment} in the portfolio\"\n",
    "      f\" over the next 5 years will end within in the range of\"\n",
    "      f\" ${ci_lower_five} and ${ci_upper_five}\")"
   ]
  },
  {
   "cell_type": "markdown",
   "metadata": {},
   "source": [
    "### Ten Years Retirement Option"
   ]
  },
  {
   "cell_type": "code",
   "execution_count": 30,
   "metadata": {},
   "outputs": [],
   "source": [
    "# Configuring a Monte Carlo simulation to forecast 10 years cumulative returns\n",
    "# YOUR CODE HERE!"
   ]
  },
  {
   "cell_type": "code",
   "execution_count": 31,
   "metadata": {},
   "outputs": [
    {
     "name": "stdout",
     "output_type": "stream",
     "text": [
      "Running Monte Carlo simulation number 0.\n",
      "Running Monte Carlo simulation number 10.\n",
      "Running Monte Carlo simulation number 20.\n",
      "Running Monte Carlo simulation number 30.\n",
      "Running Monte Carlo simulation number 40.\n",
      "Running Monte Carlo simulation number 50.\n",
      "Running Monte Carlo simulation number 60.\n",
      "Running Monte Carlo simulation number 70.\n",
      "Running Monte Carlo simulation number 80.\n",
      "Running Monte Carlo simulation number 90.\n",
      "Running Monte Carlo simulation number 100.\n",
      "Running Monte Carlo simulation number 110.\n",
      "Running Monte Carlo simulation number 120.\n",
      "Running Monte Carlo simulation number 130.\n",
      "Running Monte Carlo simulation number 140.\n",
      "Running Monte Carlo simulation number 150.\n",
      "Running Monte Carlo simulation number 160.\n",
      "Running Monte Carlo simulation number 170.\n",
      "Running Monte Carlo simulation number 180.\n",
      "Running Monte Carlo simulation number 190.\n",
      "Running Monte Carlo simulation number 200.\n",
      "Running Monte Carlo simulation number 210.\n",
      "Running Monte Carlo simulation number 220.\n",
      "Running Monte Carlo simulation number 230.\n",
      "Running Monte Carlo simulation number 240.\n",
      "Running Monte Carlo simulation number 250.\n",
      "Running Monte Carlo simulation number 260.\n",
      "Running Monte Carlo simulation number 270.\n",
      "Running Monte Carlo simulation number 280.\n",
      "Running Monte Carlo simulation number 290.\n",
      "Running Monte Carlo simulation number 300.\n",
      "Running Monte Carlo simulation number 310.\n",
      "Running Monte Carlo simulation number 320.\n",
      "Running Monte Carlo simulation number 330.\n",
      "Running Monte Carlo simulation number 340.\n",
      "Running Monte Carlo simulation number 350.\n",
      "Running Monte Carlo simulation number 360.\n",
      "Running Monte Carlo simulation number 370.\n",
      "Running Monte Carlo simulation number 380.\n",
      "Running Monte Carlo simulation number 390.\n",
      "Running Monte Carlo simulation number 400.\n",
      "Running Monte Carlo simulation number 410.\n",
      "Running Monte Carlo simulation number 420.\n",
      "Running Monte Carlo simulation number 430.\n",
      "Running Monte Carlo simulation number 440.\n",
      "Running Monte Carlo simulation number 450.\n",
      "Running Monte Carlo simulation number 460.\n",
      "Running Monte Carlo simulation number 470.\n",
      "Running Monte Carlo simulation number 480.\n",
      "Running Monte Carlo simulation number 490.\n"
     ]
    },
    {
     "data": {
      "text/html": [
       "<div>\n",
       "<style scoped>\n",
       "    .dataframe tbody tr th:only-of-type {\n",
       "        vertical-align: middle;\n",
       "    }\n",
       "\n",
       "    .dataframe tbody tr th {\n",
       "        vertical-align: top;\n",
       "    }\n",
       "\n",
       "    .dataframe thead th {\n",
       "        text-align: right;\n",
       "    }\n",
       "</style>\n",
       "<table border=\"1\" class=\"dataframe\">\n",
       "  <thead>\n",
       "    <tr style=\"text-align: right;\">\n",
       "      <th></th>\n",
       "      <th>0</th>\n",
       "      <th>1</th>\n",
       "      <th>2</th>\n",
       "      <th>3</th>\n",
       "      <th>4</th>\n",
       "      <th>5</th>\n",
       "      <th>6</th>\n",
       "      <th>7</th>\n",
       "      <th>8</th>\n",
       "      <th>9</th>\n",
       "      <th>...</th>\n",
       "      <th>490</th>\n",
       "      <th>491</th>\n",
       "      <th>492</th>\n",
       "      <th>493</th>\n",
       "      <th>494</th>\n",
       "      <th>495</th>\n",
       "      <th>496</th>\n",
       "      <th>497</th>\n",
       "      <th>498</th>\n",
       "      <th>499</th>\n",
       "    </tr>\n",
       "  </thead>\n",
       "  <tbody>\n",
       "    <tr>\n",
       "      <th>0</th>\n",
       "      <td>1.000000</td>\n",
       "      <td>1.000000</td>\n",
       "      <td>1.000000</td>\n",
       "      <td>1.000000</td>\n",
       "      <td>1.000000</td>\n",
       "      <td>1.000000</td>\n",
       "      <td>1.000000</td>\n",
       "      <td>1.000000</td>\n",
       "      <td>1.000000</td>\n",
       "      <td>1.000000</td>\n",
       "      <td>...</td>\n",
       "      <td>1.000000</td>\n",
       "      <td>1.000000</td>\n",
       "      <td>1.000000</td>\n",
       "      <td>1.000000</td>\n",
       "      <td>1.000000</td>\n",
       "      <td>1.000000</td>\n",
       "      <td>1.000000</td>\n",
       "      <td>1.000000</td>\n",
       "      <td>1.000000</td>\n",
       "      <td>1.000000</td>\n",
       "    </tr>\n",
       "    <tr>\n",
       "      <th>1</th>\n",
       "      <td>1.004461</td>\n",
       "      <td>1.003269</td>\n",
       "      <td>0.998934</td>\n",
       "      <td>0.996767</td>\n",
       "      <td>1.000906</td>\n",
       "      <td>0.999279</td>\n",
       "      <td>0.995262</td>\n",
       "      <td>1.005752</td>\n",
       "      <td>0.993466</td>\n",
       "      <td>0.993655</td>\n",
       "      <td>...</td>\n",
       "      <td>1.001427</td>\n",
       "      <td>1.004350</td>\n",
       "      <td>0.996932</td>\n",
       "      <td>0.996844</td>\n",
       "      <td>0.997507</td>\n",
       "      <td>1.003457</td>\n",
       "      <td>0.998736</td>\n",
       "      <td>1.001195</td>\n",
       "      <td>0.999904</td>\n",
       "      <td>1.010218</td>\n",
       "    </tr>\n",
       "    <tr>\n",
       "      <th>2</th>\n",
       "      <td>1.007901</td>\n",
       "      <td>1.003304</td>\n",
       "      <td>0.993812</td>\n",
       "      <td>0.999973</td>\n",
       "      <td>1.000910</td>\n",
       "      <td>1.002347</td>\n",
       "      <td>0.996311</td>\n",
       "      <td>1.007234</td>\n",
       "      <td>0.993550</td>\n",
       "      <td>0.991021</td>\n",
       "      <td>...</td>\n",
       "      <td>0.997379</td>\n",
       "      <td>1.001952</td>\n",
       "      <td>0.998124</td>\n",
       "      <td>0.998063</td>\n",
       "      <td>1.001733</td>\n",
       "      <td>1.000273</td>\n",
       "      <td>0.994865</td>\n",
       "      <td>1.000109</td>\n",
       "      <td>0.994648</td>\n",
       "      <td>1.007838</td>\n",
       "    </tr>\n",
       "    <tr>\n",
       "      <th>3</th>\n",
       "      <td>1.007532</td>\n",
       "      <td>1.001077</td>\n",
       "      <td>0.990963</td>\n",
       "      <td>0.998339</td>\n",
       "      <td>1.001779</td>\n",
       "      <td>1.003653</td>\n",
       "      <td>0.994439</td>\n",
       "      <td>1.012230</td>\n",
       "      <td>0.999170</td>\n",
       "      <td>0.996484</td>\n",
       "      <td>...</td>\n",
       "      <td>0.995265</td>\n",
       "      <td>1.001745</td>\n",
       "      <td>0.995332</td>\n",
       "      <td>1.003023</td>\n",
       "      <td>1.003800</td>\n",
       "      <td>0.999755</td>\n",
       "      <td>0.997616</td>\n",
       "      <td>1.004730</td>\n",
       "      <td>0.993391</td>\n",
       "      <td>1.010444</td>\n",
       "    </tr>\n",
       "    <tr>\n",
       "      <th>4</th>\n",
       "      <td>1.020339</td>\n",
       "      <td>1.005743</td>\n",
       "      <td>0.991869</td>\n",
       "      <td>0.998218</td>\n",
       "      <td>1.005630</td>\n",
       "      <td>1.008717</td>\n",
       "      <td>0.987764</td>\n",
       "      <td>1.012750</td>\n",
       "      <td>0.999227</td>\n",
       "      <td>0.996474</td>\n",
       "      <td>...</td>\n",
       "      <td>0.999028</td>\n",
       "      <td>1.004730</td>\n",
       "      <td>0.995357</td>\n",
       "      <td>1.000204</td>\n",
       "      <td>1.008738</td>\n",
       "      <td>0.999273</td>\n",
       "      <td>0.999426</td>\n",
       "      <td>1.003776</td>\n",
       "      <td>0.991478</td>\n",
       "      <td>1.013379</td>\n",
       "    </tr>\n",
       "    <tr>\n",
       "      <th>...</th>\n",
       "      <td>...</td>\n",
       "      <td>...</td>\n",
       "      <td>...</td>\n",
       "      <td>...</td>\n",
       "      <td>...</td>\n",
       "      <td>...</td>\n",
       "      <td>...</td>\n",
       "      <td>...</td>\n",
       "      <td>...</td>\n",
       "      <td>...</td>\n",
       "      <td>...</td>\n",
       "      <td>...</td>\n",
       "      <td>...</td>\n",
       "      <td>...</td>\n",
       "      <td>...</td>\n",
       "      <td>...</td>\n",
       "      <td>...</td>\n",
       "      <td>...</td>\n",
       "      <td>...</td>\n",
       "      <td>...</td>\n",
       "      <td>...</td>\n",
       "    </tr>\n",
       "    <tr>\n",
       "      <th>2516</th>\n",
       "      <td>1.616922</td>\n",
       "      <td>1.761703</td>\n",
       "      <td>1.143430</td>\n",
       "      <td>1.687801</td>\n",
       "      <td>1.743826</td>\n",
       "      <td>1.174891</td>\n",
       "      <td>1.514199</td>\n",
       "      <td>2.447129</td>\n",
       "      <td>1.589765</td>\n",
       "      <td>1.570578</td>\n",
       "      <td>...</td>\n",
       "      <td>1.316494</td>\n",
       "      <td>1.863650</td>\n",
       "      <td>1.727959</td>\n",
       "      <td>1.411033</td>\n",
       "      <td>1.804671</td>\n",
       "      <td>1.500605</td>\n",
       "      <td>1.413278</td>\n",
       "      <td>1.552375</td>\n",
       "      <td>1.318340</td>\n",
       "      <td>1.960015</td>\n",
       "    </tr>\n",
       "    <tr>\n",
       "      <th>2517</th>\n",
       "      <td>1.620285</td>\n",
       "      <td>1.769184</td>\n",
       "      <td>1.145132</td>\n",
       "      <td>1.695693</td>\n",
       "      <td>1.742878</td>\n",
       "      <td>1.175745</td>\n",
       "      <td>1.517697</td>\n",
       "      <td>2.441471</td>\n",
       "      <td>1.586174</td>\n",
       "      <td>1.560826</td>\n",
       "      <td>...</td>\n",
       "      <td>1.318463</td>\n",
       "      <td>1.857860</td>\n",
       "      <td>1.724003</td>\n",
       "      <td>1.409092</td>\n",
       "      <td>1.810136</td>\n",
       "      <td>1.499466</td>\n",
       "      <td>1.413210</td>\n",
       "      <td>1.552539</td>\n",
       "      <td>1.316872</td>\n",
       "      <td>1.956776</td>\n",
       "    </tr>\n",
       "    <tr>\n",
       "      <th>2518</th>\n",
       "      <td>1.622141</td>\n",
       "      <td>1.771927</td>\n",
       "      <td>1.149019</td>\n",
       "      <td>1.691589</td>\n",
       "      <td>1.739420</td>\n",
       "      <td>1.178965</td>\n",
       "      <td>1.522624</td>\n",
       "      <td>2.444413</td>\n",
       "      <td>1.580680</td>\n",
       "      <td>1.566154</td>\n",
       "      <td>...</td>\n",
       "      <td>1.317147</td>\n",
       "      <td>1.864694</td>\n",
       "      <td>1.727503</td>\n",
       "      <td>1.419561</td>\n",
       "      <td>1.821212</td>\n",
       "      <td>1.492831</td>\n",
       "      <td>1.412283</td>\n",
       "      <td>1.556659</td>\n",
       "      <td>1.318842</td>\n",
       "      <td>1.961271</td>\n",
       "    </tr>\n",
       "    <tr>\n",
       "      <th>2519</th>\n",
       "      <td>1.628885</td>\n",
       "      <td>1.770207</td>\n",
       "      <td>1.149670</td>\n",
       "      <td>1.703935</td>\n",
       "      <td>1.738053</td>\n",
       "      <td>1.182429</td>\n",
       "      <td>1.519485</td>\n",
       "      <td>2.441360</td>\n",
       "      <td>1.565663</td>\n",
       "      <td>1.576607</td>\n",
       "      <td>...</td>\n",
       "      <td>1.307985</td>\n",
       "      <td>1.858986</td>\n",
       "      <td>1.728039</td>\n",
       "      <td>1.430017</td>\n",
       "      <td>1.814690</td>\n",
       "      <td>1.496851</td>\n",
       "      <td>1.409284</td>\n",
       "      <td>1.562660</td>\n",
       "      <td>1.324798</td>\n",
       "      <td>1.964190</td>\n",
       "    </tr>\n",
       "    <tr>\n",
       "      <th>2520</th>\n",
       "      <td>1.631015</td>\n",
       "      <td>1.770072</td>\n",
       "      <td>1.155133</td>\n",
       "      <td>1.716156</td>\n",
       "      <td>1.740688</td>\n",
       "      <td>1.184901</td>\n",
       "      <td>1.523516</td>\n",
       "      <td>2.451787</td>\n",
       "      <td>1.565796</td>\n",
       "      <td>1.574713</td>\n",
       "      <td>...</td>\n",
       "      <td>1.302946</td>\n",
       "      <td>1.855886</td>\n",
       "      <td>1.730849</td>\n",
       "      <td>1.424173</td>\n",
       "      <td>1.818980</td>\n",
       "      <td>1.496972</td>\n",
       "      <td>1.412152</td>\n",
       "      <td>1.565199</td>\n",
       "      <td>1.320461</td>\n",
       "      <td>1.969683</td>\n",
       "    </tr>\n",
       "  </tbody>\n",
       "</table>\n",
       "<p>2521 rows × 500 columns</p>\n",
       "</div>"
      ],
      "text/plain": [
       "           0         1         2         3         4         5         6    \\\n",
       "0     1.000000  1.000000  1.000000  1.000000  1.000000  1.000000  1.000000   \n",
       "1     1.004461  1.003269  0.998934  0.996767  1.000906  0.999279  0.995262   \n",
       "2     1.007901  1.003304  0.993812  0.999973  1.000910  1.002347  0.996311   \n",
       "3     1.007532  1.001077  0.990963  0.998339  1.001779  1.003653  0.994439   \n",
       "4     1.020339  1.005743  0.991869  0.998218  1.005630  1.008717  0.987764   \n",
       "...        ...       ...       ...       ...       ...       ...       ...   \n",
       "2516  1.616922  1.761703  1.143430  1.687801  1.743826  1.174891  1.514199   \n",
       "2517  1.620285  1.769184  1.145132  1.695693  1.742878  1.175745  1.517697   \n",
       "2518  1.622141  1.771927  1.149019  1.691589  1.739420  1.178965  1.522624   \n",
       "2519  1.628885  1.770207  1.149670  1.703935  1.738053  1.182429  1.519485   \n",
       "2520  1.631015  1.770072  1.155133  1.716156  1.740688  1.184901  1.523516   \n",
       "\n",
       "           7         8         9    ...       490       491       492  \\\n",
       "0     1.000000  1.000000  1.000000  ...  1.000000  1.000000  1.000000   \n",
       "1     1.005752  0.993466  0.993655  ...  1.001427  1.004350  0.996932   \n",
       "2     1.007234  0.993550  0.991021  ...  0.997379  1.001952  0.998124   \n",
       "3     1.012230  0.999170  0.996484  ...  0.995265  1.001745  0.995332   \n",
       "4     1.012750  0.999227  0.996474  ...  0.999028  1.004730  0.995357   \n",
       "...        ...       ...       ...  ...       ...       ...       ...   \n",
       "2516  2.447129  1.589765  1.570578  ...  1.316494  1.863650  1.727959   \n",
       "2517  2.441471  1.586174  1.560826  ...  1.318463  1.857860  1.724003   \n",
       "2518  2.444413  1.580680  1.566154  ...  1.317147  1.864694  1.727503   \n",
       "2519  2.441360  1.565663  1.576607  ...  1.307985  1.858986  1.728039   \n",
       "2520  2.451787  1.565796  1.574713  ...  1.302946  1.855886  1.730849   \n",
       "\n",
       "           493       494       495       496       497       498       499  \n",
       "0     1.000000  1.000000  1.000000  1.000000  1.000000  1.000000  1.000000  \n",
       "1     0.996844  0.997507  1.003457  0.998736  1.001195  0.999904  1.010218  \n",
       "2     0.998063  1.001733  1.000273  0.994865  1.000109  0.994648  1.007838  \n",
       "3     1.003023  1.003800  0.999755  0.997616  1.004730  0.993391  1.010444  \n",
       "4     1.000204  1.008738  0.999273  0.999426  1.003776  0.991478  1.013379  \n",
       "...        ...       ...       ...       ...       ...       ...       ...  \n",
       "2516  1.411033  1.804671  1.500605  1.413278  1.552375  1.318340  1.960015  \n",
       "2517  1.409092  1.810136  1.499466  1.413210  1.552539  1.316872  1.956776  \n",
       "2518  1.419561  1.821212  1.492831  1.412283  1.556659  1.318842  1.961271  \n",
       "2519  1.430017  1.814690  1.496851  1.409284  1.562660  1.324798  1.964190  \n",
       "2520  1.424173  1.818980  1.496972  1.412152  1.565199  1.320461  1.969683  \n",
       "\n",
       "[2521 rows x 500 columns]"
      ]
     },
     "execution_count": 31,
     "metadata": {},
     "output_type": "execute_result"
    }
   ],
   "source": [
    "# Running a Monte Carlo simulation to forecast 10 years cumulative returns\n",
    "# YOUR CODE HERE!"
   ]
  },
  {
   "cell_type": "code",
   "execution_count": 32,
   "metadata": {},
   "outputs": [
    {
     "data": {
      "image/png": "[encoded data removed]",
      "text/plain": [
       "<Figure size 432x288 with 1 Axes>"
      ]
     },
     "metadata": {
      "needs_background": "light"
     },
     "output_type": "display_data"
    }
   ],
   "source": [
    "# Plot simulation outcomes\n",
    "# YOUR CODE HERE!"
   ]
  },
  {
   "cell_type": "code",
   "execution_count": 33,
   "metadata": {},
   "outputs": [
    {
     "data": {
      "image/png": "[encoded data removed]",
      "text/plain": [
       "<Figure size 432x288 with 1 Axes>"
      ]
     },
     "metadata": {
      "needs_background": "light"
     },
     "output_type": "display_data"
    }
   ],
   "source": [
    "# Plot probability distribution and confidence intervals\n",
    "# YOUR CODE HERE!"
   ]
  },
  {
   "cell_type": "code",
   "execution_count": 34,
   "metadata": {},
   "outputs": [
    {
     "name": "stdout",
     "output_type": "stream",
     "text": [
      "count           500.000000\n",
      "mean              1.537014\n",
      "std               0.282192\n",
      "min               0.795263\n",
      "25%               1.339641\n",
      "50%               1.523799\n",
      "75%               1.693927\n",
      "max               2.451787\n",
      "95% CI Lower      1.049781\n",
      "95% CI Upper      2.159935\n",
      "Name: 2520, dtype: float64\n"
     ]
    }
   ],
   "source": [
    "# Fetch summary statistics from the Monte Carlo simulation results\n",
    "# YOUR CODE HERE!\n",
    "\n",
    "# Print summary statistics\n",
    "# YOUR CODE HERE!"
   ]
  },
  {
   "cell_type": "code",
   "execution_count": 35,
   "metadata": {},
   "outputs": [
    {
     "name": "stdout",
     "output_type": "stream",
     "text": [
      "There is a 95% chance that an initial investment of $60000 in the portfolio over the next 10 years will end within in the range of $62986.85 and $129596.12\n"
     ]
    }
   ],
   "source": [
    "# Set initial investment\n",
    "# YOUR CODE HERE!\n",
    "\n",
    "# Use the lower and upper `95%` confidence intervals to calculate the range of the possible outcomes of our $60,000\n",
    "# YOUR CODE HERE!\n",
    "\n",
    "# Print results\n",
    "print(f\"There is a 95% chance that an initial investment of ${initial_investment} in the portfolio\"\n",
    "      f\" over the next 10 years will end within in the range of\"\n",
    "      f\" ${ci_lower_ten} and ${ci_upper_ten}\")"
   ]
  },
  {
   "cell_type": "code",
   "execution_count": null,
   "metadata": {},
   "outputs": [],
   "source": []
  }
 ],
 "metadata": {
  "kernelspec": {
   "display_name": "Python 3 (ipykernel)",
   "language": "python",
   "name": "python3"
  },
  "language_info": {
   "codemirror_mode": {
    "name": "ipython",
    "version": 3
   },
   "file_extension": ".py",
   "mimetype": "text/x-python",
   "name": "python",
   "nbconvert_exporter": "python",
   "pygments_lexer": "ipython3",
   "version": "3.11.4"
  },
  "nteract": {
   "version": "0.28.0"
  }
 },
 "nbformat": 4,
 "nbformat_minor": 4
}
